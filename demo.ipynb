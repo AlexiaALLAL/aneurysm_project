{
 "cells": [
  {
   "cell_type": "code",
   "execution_count": 1,
   "metadata": {},
   "outputs": [],
   "source": [
    "import os\n",
    "import os.path as osp\n",
    "import shutil\n",
    "import meshio\n",
    "from typing import List"
   ]
  },
  {
   "cell_type": "code",
   "execution_count": 2,
   "metadata": {},
   "outputs": [],
   "source": [
    "from mesh_handler import xdmf_to_meshes, meshes_to_xdmf, vtu_to_mesh, mesh_to_vtu, accessing_mesh_data, create_mock_mesh"
   ]
  },
  {
   "cell_type": "code",
   "execution_count": 3,
   "metadata": {},
   "outputs": [
    {
     "name": "stdout",
     "output_type": "stream",
     "text": [
      "\n",
      "### DEMO  XDMF ARCHIVE ###\n",
      "2D mesh archive:\n",
      "Loaded 121 timesteps from c:\\Users\\alexi\\Documents\\mines\\S5\\idsc\\data challenge janvier\\aneurysm_project\\Obstacle.xdmf\n",
      "\n"
     ]
    },
    {
     "data": {
      "text/plain": [
       "array([[0.      , 0.      , 0.      ],\n",
       "       [4.      , 0.      , 0.      ],\n",
       "       [4.      , 3.      , 0.      ],\n",
       "       ...,\n",
       "       [2.20449 , 0.663779, 0.      ],\n",
       "       [3.82059 , 2.75713 , 0.      ],\n",
       "       [0.736707, 0.299932, 0.      ]], shape=(1632, 3), dtype=float32)"
      ]
     },
     "execution_count": 3,
     "metadata": {},
     "output_type": "execute_result"
    }
   ],
   "source": [
    "# DEMO\n",
    "print(\"\\n### DEMO  XDMF ARCHIVE ###\")\n",
    "print(\"2D mesh archive:\")\n",
    "xdmf_path = osp.join(os.getcwd(), \"Obstacle.xdmf\")\n",
    "meshes = xdmf_to_meshes(xdmf_path)\n",
    "meshes[0].points"
   ]
  },
  {
   "cell_type": "code",
   "execution_count": 4,
   "metadata": {},
   "outputs": [
    {
     "name": "stdout",
     "output_type": "stream",
     "text": [
      "There are 1632 nodes in this mesh.\n",
      "First 5 nodes of the mesh: \n",
      "[[0.  0.  0. ]\n",
      " [4.  0.  0. ]\n",
      " [4.  3.  0. ]\n",
      " [0.  3.  0. ]\n",
      " [0.  2.9 0. ]] \n",
      "\n",
      "Types of cells in the mesh: ['triangle']\n",
      "There are 3122 triangular cells in this mesh.\n",
      "First 5 triangular cells of the mesh: \n",
      "[[ 696 1561  561]\n",
      " [ 642  252 1464]\n",
      " [ 252  605 1464]\n",
      " [ 275  652 1555]\n",
      " [1322  664  604]] \n",
      "\n",
      "Feature name: Vitesse / Feature shape: (1632, 3)\n",
      "Feature name: Pression / Feature shape: (1632,)\n"
     ]
    }
   ],
   "source": [
    "accessing_mesh_data(meshes[10])"
   ]
  },
  {
   "cell_type": "code",
   "execution_count": 5,
   "metadata": {},
   "outputs": [
    {
     "name": "stdout",
     "output_type": "stream",
     "text": [
      "\n",
      "3D mesh archive:\n",
      "Loaded 80 timesteps from c:\\Users\\alexi\\Documents\\mines\\S5\\idsc\\data challenge janvier\\aneurysm_project\\AllFields_Resultats_MESH_1.xdmf\n",
      "\n",
      "There are 11446 nodes in this mesh.\n",
      "First 5 nodes of the mesh: \n",
      "[[-2.205367   4.560882   1.67214  ]\n",
      " [-2.2580128  4.7989006  1.8012575]\n",
      " [-2.212806   5.078872   1.8893555]\n",
      " [-2.0400388  5.2704096  1.920871 ]\n",
      " [-1.8397863  5.4581513  1.9444325]] \n",
      "\n",
      "Types of cells in the mesh: ['tetra']\n",
      "There are 55472 tetrahedral cells in this mesh.\n",
      "First 5 tetrahedral cells of the mesh: \n",
      "[[4803 4804 4805 4806]\n",
      " [4807    0 2921 2922]\n",
      " [4808 1941 4809 4810]\n",
      " [4811 4812 4813 4814]\n",
      " [4815 3583 4816    3]] \n",
      "\n",
      "Feature name: Vitesse / Feature shape: (11446, 3)\n",
      "Feature name: Pression / Feature shape: (11446,)\n"
     ]
    }
   ],
   "source": [
    "print(\"\\n3D mesh archive:\")\n",
    "xdmf_path = osp.join(os.getcwd(), \"AllFields_Resultats_MESH_1.xdmf\")\n",
    "meshes = xdmf_to_meshes(xdmf_path)\n",
    "accessing_mesh_data(meshes[10])"
   ]
  },
  {
   "cell_type": "code",
   "execution_count": 6,
   "metadata": {},
   "outputs": [
    {
     "data": {
      "text/plain": [
       "array([[4803, 4804, 4805, 4806],\n",
       "       [4807,    0, 2921, 2922],\n",
       "       [4808, 1941, 4809, 4810],\n",
       "       ...,\n",
       "       [6558, 6354, 6587, 6804],\n",
       "       [6176, 6908, 9039, 6943],\n",
       "       [6176, 5669, 7795, 6178]], shape=(55472, 4))"
      ]
     },
     "execution_count": 6,
     "metadata": {},
     "output_type": "execute_result"
    }
   ],
   "source": [
    "mesh = meshes[0]\n",
    "mesh.cells_dict['tetra']"
   ]
  },
  {
   "cell_type": "code",
   "execution_count": 7,
   "metadata": {},
   "outputs": [
    {
     "data": {
      "text/plain": [
       "{49, 51, 801, 3253, 3433, 3434, 6748, 9626, 10349}"
      ]
     },
     "execution_count": 7,
     "metadata": {},
     "output_type": "execute_result"
    }
   ],
   "source": [
    "def get_neighbors(mesh, cell_idx):\n",
    "    neighbors = set()\n",
    "    for i, cell in enumerate(mesh.cells_dict['tetra']):\n",
    "        if cell_idx in cell:\n",
    "            # the cell is in this tetrahedron\n",
    "            for j in cell:\n",
    "                if j != cell_idx:\n",
    "                    neighbors.add(j.item())\n",
    "    return neighbors\n",
    "\n",
    "mesh = meshes[0]\n",
    "get_neighbors(mesh, 50)"
   ]
  },
  {
   "cell_type": "code",
   "execution_count": 8,
   "metadata": {},
   "outputs": [
    {
     "name": "stdout",
     "output_type": "stream",
     "text": [
      "\n",
      "### DEMO  VTU FILE FORMAT ###\n",
      "Mock mesh created.\n",
      "Mesh saved to c:\\Users\\alexi\\Documents\\mines\\S5\\idsc\\data challenge janvier\\aneurysm_project\\mock_mesh.vtu\n"
     ]
    }
   ],
   "source": [
    "print(\"\\n### DEMO  VTU FILE FORMAT ###\")\n",
    "mock_mesh = create_mock_mesh()\n",
    "vtu_path = osp.join(os.getcwd(), \"mock_mesh.vtu\")\n",
    "mesh_to_vtu(mock_mesh, vtu_path)"
   ]
  },
  {
   "cell_type": "markdown",
   "metadata": {},
   "source": [
    "# Real data"
   ]
  },
  {
   "cell_type": "code",
   "execution_count": 9,
   "metadata": {},
   "outputs": [
    {
     "name": "stdout",
     "output_type": "stream",
     "text": [
      "Loaded 80 timesteps from c:\\Users\\alexi\\Documents\\mines\\S5\\idsc\\data challenge janvier\\aneurysm_project\\4Students_AnXplore03\\AllFields_Resultats_MESH_1.xdmf\n",
      "\n",
      "Loaded 80 timesteps from c:\\Users\\alexi\\Documents\\mines\\S5\\idsc\\data challenge janvier\\aneurysm_project\\4Students_AnXplore03\\AllFields_Resultats_MESH_11.xdmf\n",
      "\n",
      "Loaded 80 timesteps from c:\\Users\\alexi\\Documents\\mines\\S5\\idsc\\data challenge janvier\\aneurysm_project\\4Students_AnXplore03\\AllFields_Resultats_MESH_117.xdmf\n",
      "\n",
      "Loaded 80 timesteps from c:\\Users\\alexi\\Documents\\mines\\S5\\idsc\\data challenge janvier\\aneurysm_project\\4Students_AnXplore03\\AllFields_Resultats_MESH_119-1.xdmf\n",
      "\n",
      "Loaded 80 timesteps from c:\\Users\\alexi\\Documents\\mines\\S5\\idsc\\data challenge janvier\\aneurysm_project\\4Students_AnXplore03\\AllFields_Resultats_MESH_119-2.xdmf\n",
      "\n",
      "5 80\n"
     ]
    }
   ],
   "source": [
    "# get list of .xdmf files\n",
    "# keep only the .xdmf files\n",
    "list_files = os.listdir(osp.join(os.getcwd(), \"4Students_AnXplore03\"))\n",
    "list_files = [f for f in list_files if f.endswith('.xdmf')]\n",
    "\n",
    "array_meshes = []\n",
    "for f in list_files[:5]:\n",
    "    # print(\"\\n\\n New file:\\n\")\n",
    "    xdmf_path = osp.join(os.getcwd(), \"4Students_AnXplore03\", f)\n",
    "    meshes = xdmf_to_meshes(xdmf_path)\n",
    "    array_meshes.append(meshes)\n",
    "\n",
    "print(len(array_meshes), len(array_meshes[0]))"
   ]
  },
  {
   "cell_type": "code",
   "execution_count": 10,
   "metadata": {},
   "outputs": [
    {
     "name": "stdout",
     "output_type": "stream",
     "text": [
      "Loaded 80 timesteps from AllFields_Resultats_MESH_1.xdmf\n",
      "\n",
      "There are 11446 nodes in this mesh.\n",
      "First 5 nodes of the mesh: \n",
      "[[-2.205367   4.560882   1.67214  ]\n",
      " [-2.2580128  4.7989006  1.8012575]\n",
      " [-2.212806   5.078872   1.8893555]\n",
      " [-2.0400388  5.2704096  1.920871 ]\n",
      " [-1.8397863  5.4581513  1.9444325]] \n",
      "\n",
      "Types of cells in the mesh: ['tetra']\n",
      "There are 55472 tetrahedral cells in this mesh.\n",
      "First 5 tetrahedral cells of the mesh: \n",
      "[[4803 4804 4805 4806]\n",
      " [4807    0 2921 2922]\n",
      " [4808 1941 4809 4810]\n",
      " [4811 4812 4813 4814]\n",
      " [4815 3583 4816    3]] \n",
      "\n",
      "Feature name: Vitesse / Feature shape: (11446, 3)\n",
      "Feature name: Pression / Feature shape: (11446,)\n"
     ]
    }
   ],
   "source": [
    "xdmf_path = osp.join(os.getcwd(), \"4Students_AnXplore03/AllFields_Resultats_MESH_1.xdmf\")\n",
    "meshes = xdmf_to_meshes(xdmf_path)\n",
    "accessing_mesh_data(meshes[10])"
   ]
  },
  {
   "cell_type": "markdown",
   "metadata": {},
   "source": [
    "# Create train dataset"
   ]
  },
  {
   "cell_type": "code",
   "execution_count": 11,
   "metadata": {},
   "outputs": [],
   "source": [
    "import numpy as np\n",
    "import scipy.sparse as sp\n",
    "import tqdm\n",
    "import meshio\n",
    "import torch\n",
    "from torch_geometric.data import Data"
   ]
  },
  {
   "cell_type": "code",
   "execution_count": 91,
   "metadata": {},
   "outputs": [
    {
     "name": "stderr",
     "output_type": "stream",
     "text": [
      "100%|██████████| 55472/55472 [00:21<00:00, 2577.82it/s]\n"
     ]
    },
    {
     "data": {
      "text/plain": [
       "<List of Lists sparse matrix of dtype 'int64'\n",
       "\twith 143436 stored elements and shape (11446, 11446)>"
      ]
     },
     "execution_count": 91,
     "metadata": {},
     "output_type": "execute_result"
    }
   ],
   "source": [
    "mesh = meshes[0]\n",
    "mesh.cells_dict['tetra']\n",
    "def get_adjacency_matrix(mesh):\n",
    "    n_cells = len(mesh.cells_dict['tetra'])\n",
    "    # adjacency matrix is a sparse matrix\n",
    "    adj_matrix = sp.lil_matrix((len(mesh.points), len(mesh.points)), dtype=int)\n",
    "    for i in tqdm.tqdm(range(n_cells)):\n",
    "        # print(f\"Cell {i}/{n_cells}\")\n",
    "        cell = mesh.cells_dict['tetra'][i]\n",
    "        for n1 in cell:\n",
    "            for n2 in cell:\n",
    "                if n1 != n2:\n",
    "                    adj_matrix[n1, n2] = 1\n",
    "    return adj_matrix\n",
    "\n",
    "adj_matrix = get_adjacency_matrix(mesh)\n",
    "adj_matrix"
   ]
  },
  {
   "cell_type": "code",
   "execution_count": 12,
   "metadata": {},
   "outputs": [],
   "source": [
    "def get_geometric_data(mesh):\n",
    "    # Extract node positions\n",
    "    node_positions = mesh.points  # Shape: (num_nodes, 3)\n",
    "\n",
    "    # Extract connectivity (edges)\n",
    "    elements = mesh.cells_dict[\"tetra\"]  # Extract tetrahedra\n",
    "\n",
    "    # Convert elements to edges (each triangle/tetrahedron defines connections)\n",
    "    edges = np.hstack([\n",
    "            [elements[:, 0], elements[:, 1]],  # Edge 1\n",
    "            [elements[:, 0], elements[:, 2]],  # Edge 2\n",
    "            [elements[:, 0], elements[:, 3]],  # Edge 3\n",
    "            [elements[:, 1], elements[:, 2]],  # Edge 4\n",
    "            [elements[:, 1], elements[:, 3]],  # Edge 5\n",
    "            [elements[:, 2], elements[:, 3]],  # Edge 6\n",
    "        ]).T # Shape: (num_edges, 2)\n",
    "\n",
    "    edges = np.unique(edges, axis=0)  # Remove duplicate edges\n",
    "    edge_index = torch.tensor(edges.T, dtype=torch.long)  # PyG format (2, num_edges)\n",
    "\n",
    "    # Compute edge features (relative positions)\n",
    "    edge_attr = node_positions[edges[:, 1]] - node_positions[edges[:, 0]]  # Shape: (num_edges, 3)\n",
    "    edge_attr = torch.tensor(edge_attr, dtype=torch.float)\n",
    "    return edge_index, edge_attr"
   ]
  },
  {
   "cell_type": "code",
   "execution_count": 20,
   "metadata": {},
   "outputs": [],
   "source": [
    "# we will train the model with times t-2 and t-1 to predict t\n",
    "# for each point, we can predict vx, vy, vz and p using the previous time steps\n",
    "\n",
    "def build_data():\n",
    "    data = {\n",
    "        'features' : [],\n",
    "        'target' : []\n",
    "    }\n",
    "    list_files = os.listdir(osp.join(os.getcwd(), \"4Students_AnXplore03\"))\n",
    "    list_files = [f for f in list_files if f.endswith('.xdmf')]\n",
    "\n",
    "    for f in tqdm.tqdm(list_files):\n",
    "        # print(\"\\n\\n New file:\\n\")\n",
    "        xdmf_path = osp.join(os.getcwd(), \"4Students_AnXplore03\", f)\n",
    "        meshes = xdmf_to_meshes(xdmf_path)\n",
    "        mesh = meshes[0]\n",
    "\n",
    "        edge_index, edge_attr = get_geometric_data(mesh)\n",
    "\n",
    "        for time_step in range(2, len(meshes)):\n",
    "            # Create node features (x, y, z, vx, vy, vz, p)\n",
    "            node_features_1 = np.hstack([\n",
    "                meshes[time_step-1].points,\n",
    "                meshes[time_step-1].point_data['Vitesse'],\n",
    "                meshes[time_step-1].point_data['Pression'].reshape(-1, 1)\n",
    "            ]) # Shape: (num_nodes, 7)\n",
    "            node_features = np.hstack([\n",
    "                meshes[time_step].points,\n",
    "                meshes[time_step].point_data['Vitesse'],\n",
    "                meshes[time_step].point_data['Pression'].reshape(-1, 1)\n",
    "            ]) # Shape: (num_nodes, 7)\n",
    "\n",
    "            # Create PyTorch Geometric data object\n",
    "            graph_data_1 = Data(x=node_features_1, edge_index=edge_index, edge_attr=edge_attr)\n",
    "            graph_data = Data(x=node_features, edge_index=edge_index, edge_attr=edge_attr)\n",
    "\n",
    "            data['features'].append(graph_data_1)\n",
    "            data['target'].append(graph_data)\n",
    "    return data"
   ]
  },
  {
   "cell_type": "code",
   "execution_count": 21,
   "metadata": {},
   "outputs": [
    {
     "name": "stderr",
     "output_type": "stream",
     "text": [
      "  0%|          | 0/103 [00:00<?, ?it/s]"
     ]
    },
    {
     "name": "stdout",
     "output_type": "stream",
     "text": [
      "Loaded 80 timesteps from c:\\Users\\alexi\\Documents\\mines\\S5\\idsc\\data challenge janvier\\aneurysm_project\\4Students_AnXplore03\\AllFields_Resultats_MESH_1.xdmf\n",
      "\n"
     ]
    },
    {
     "name": "stderr",
     "output_type": "stream",
     "text": [
      "  1%|          | 1/103 [00:00<00:55,  1.83it/s]"
     ]
    },
    {
     "name": "stdout",
     "output_type": "stream",
     "text": [
      "Loaded 80 timesteps from c:\\Users\\alexi\\Documents\\mines\\S5\\idsc\\data challenge janvier\\aneurysm_project\\4Students_AnXplore03\\AllFields_Resultats_MESH_11.xdmf\n",
      "\n"
     ]
    },
    {
     "name": "stderr",
     "output_type": "stream",
     "text": [
      "  2%|▏         | 2/103 [00:01<01:17,  1.30it/s]"
     ]
    },
    {
     "name": "stdout",
     "output_type": "stream",
     "text": [
      "Loaded 80 timesteps from c:\\Users\\alexi\\Documents\\mines\\S5\\idsc\\data challenge janvier\\aneurysm_project\\4Students_AnXplore03\\AllFields_Resultats_MESH_117.xdmf\n",
      "\n"
     ]
    },
    {
     "name": "stderr",
     "output_type": "stream",
     "text": [
      "  3%|▎         | 3/103 [00:02<01:11,  1.39it/s]"
     ]
    },
    {
     "name": "stdout",
     "output_type": "stream",
     "text": [
      "Loaded 80 timesteps from c:\\Users\\alexi\\Documents\\mines\\S5\\idsc\\data challenge janvier\\aneurysm_project\\4Students_AnXplore03\\AllFields_Resultats_MESH_119-1.xdmf\n",
      "\n"
     ]
    },
    {
     "name": "stderr",
     "output_type": "stream",
     "text": [
      "  4%|▍         | 4/103 [00:02<01:01,  1.61it/s]"
     ]
    },
    {
     "name": "stdout",
     "output_type": "stream",
     "text": [
      "Loaded 80 timesteps from c:\\Users\\alexi\\Documents\\mines\\S5\\idsc\\data challenge janvier\\aneurysm_project\\4Students_AnXplore03\\AllFields_Resultats_MESH_119-2.xdmf\n",
      "\n"
     ]
    },
    {
     "name": "stderr",
     "output_type": "stream",
     "text": [
      "  5%|▍         | 5/103 [00:03<00:55,  1.76it/s]"
     ]
    },
    {
     "name": "stdout",
     "output_type": "stream",
     "text": [
      "Loaded 80 timesteps from c:\\Users\\alexi\\Documents\\mines\\S5\\idsc\\data challenge janvier\\aneurysm_project\\4Students_AnXplore03\\AllFields_Resultats_MESH_120.xdmf\n",
      "\n"
     ]
    },
    {
     "name": "stderr",
     "output_type": "stream",
     "text": [
      "  6%|▌         | 6/103 [00:03<01:01,  1.58it/s]"
     ]
    },
    {
     "name": "stdout",
     "output_type": "stream",
     "text": [
      "Loaded 80 timesteps from c:\\Users\\alexi\\Documents\\mines\\S5\\idsc\\data challenge janvier\\aneurysm_project\\4Students_AnXplore03\\AllFields_Resultats_MESH_121.xdmf\n",
      "\n"
     ]
    },
    {
     "name": "stderr",
     "output_type": "stream",
     "text": [
      "  7%|▋         | 7/103 [00:04<00:56,  1.69it/s]"
     ]
    },
    {
     "name": "stdout",
     "output_type": "stream",
     "text": [
      "Loaded 80 timesteps from c:\\Users\\alexi\\Documents\\mines\\S5\\idsc\\data challenge janvier\\aneurysm_project\\4Students_AnXplore03\\AllFields_Resultats_MESH_128.xdmf\n",
      "\n"
     ]
    },
    {
     "name": "stderr",
     "output_type": "stream",
     "text": [
      "  8%|▊         | 8/103 [00:05<01:02,  1.52it/s]"
     ]
    },
    {
     "name": "stdout",
     "output_type": "stream",
     "text": [
      "Loaded 80 timesteps from c:\\Users\\alexi\\Documents\\mines\\S5\\idsc\\data challenge janvier\\aneurysm_project\\4Students_AnXplore03\\AllFields_Resultats_MESH_129.xdmf\n",
      "\n"
     ]
    },
    {
     "name": "stderr",
     "output_type": "stream",
     "text": [
      "  9%|▊         | 9/103 [00:05<00:58,  1.61it/s]"
     ]
    },
    {
     "name": "stdout",
     "output_type": "stream",
     "text": [
      "Loaded 80 timesteps from c:\\Users\\alexi\\Documents\\mines\\S5\\idsc\\data challenge janvier\\aneurysm_project\\4Students_AnXplore03\\AllFields_Resultats_MESH_134.xdmf\n",
      "\n"
     ]
    },
    {
     "name": "stderr",
     "output_type": "stream",
     "text": [
      " 10%|▉         | 10/103 [00:06<00:55,  1.67it/s]"
     ]
    },
    {
     "name": "stdout",
     "output_type": "stream",
     "text": [
      "Loaded 80 timesteps from c:\\Users\\alexi\\Documents\\mines\\S5\\idsc\\data challenge janvier\\aneurysm_project\\4Students_AnXplore03\\AllFields_Resultats_MESH_135.xdmf\n",
      "\n"
     ]
    },
    {
     "name": "stderr",
     "output_type": "stream",
     "text": [
      " 11%|█         | 11/103 [00:06<00:54,  1.68it/s]"
     ]
    },
    {
     "name": "stdout",
     "output_type": "stream",
     "text": [
      "Loaded 80 timesteps from c:\\Users\\alexi\\Documents\\mines\\S5\\idsc\\data challenge janvier\\aneurysm_project\\4Students_AnXplore03\\AllFields_Resultats_MESH_136.xdmf\n",
      "\n"
     ]
    },
    {
     "name": "stderr",
     "output_type": "stream",
     "text": [
      " 12%|█▏        | 12/103 [00:07<00:54,  1.67it/s]"
     ]
    },
    {
     "name": "stdout",
     "output_type": "stream",
     "text": [
      "Loaded 80 timesteps from c:\\Users\\alexi\\Documents\\mines\\S5\\idsc\\data challenge janvier\\aneurysm_project\\4Students_AnXplore03\\AllFields_Resultats_MESH_137.xdmf\n",
      "\n"
     ]
    },
    {
     "name": "stderr",
     "output_type": "stream",
     "text": [
      " 13%|█▎        | 13/103 [00:08<00:55,  1.63it/s]"
     ]
    },
    {
     "name": "stdout",
     "output_type": "stream",
     "text": [
      "Loaded 80 timesteps from c:\\Users\\alexi\\Documents\\mines\\S5\\idsc\\data challenge janvier\\aneurysm_project\\4Students_AnXplore03\\AllFields_Resultats_MESH_138.xdmf\n",
      "\n"
     ]
    },
    {
     "name": "stderr",
     "output_type": "stream",
     "text": [
      " 14%|█▎        | 14/103 [00:08<00:55,  1.61it/s]"
     ]
    },
    {
     "name": "stdout",
     "output_type": "stream",
     "text": [
      "Loaded 80 timesteps from c:\\Users\\alexi\\Documents\\mines\\S5\\idsc\\data challenge janvier\\aneurysm_project\\4Students_AnXplore03\\AllFields_Resultats_MESH_139.xdmf\n",
      "\n"
     ]
    },
    {
     "name": "stderr",
     "output_type": "stream",
     "text": [
      " 15%|█▍        | 15/103 [00:09<00:56,  1.55it/s]"
     ]
    },
    {
     "name": "stdout",
     "output_type": "stream",
     "text": [
      "Loaded 80 timesteps from c:\\Users\\alexi\\Documents\\mines\\S5\\idsc\\data challenge janvier\\aneurysm_project\\4Students_AnXplore03\\AllFields_Resultats_MESH_140.xdmf\n",
      "\n"
     ]
    },
    {
     "name": "stderr",
     "output_type": "stream",
     "text": [
      " 16%|█▌        | 16/103 [00:10<00:58,  1.48it/s]"
     ]
    },
    {
     "name": "stdout",
     "output_type": "stream",
     "text": [
      "Loaded 80 timesteps from c:\\Users\\alexi\\Documents\\mines\\S5\\idsc\\data challenge janvier\\aneurysm_project\\4Students_AnXplore03\\AllFields_Resultats_MESH_142.xdmf\n",
      "\n"
     ]
    },
    {
     "name": "stderr",
     "output_type": "stream",
     "text": [
      " 17%|█▋        | 17/103 [00:10<00:54,  1.57it/s]"
     ]
    },
    {
     "name": "stdout",
     "output_type": "stream",
     "text": [
      "Loaded 80 timesteps from c:\\Users\\alexi\\Documents\\mines\\S5\\idsc\\data challenge janvier\\aneurysm_project\\4Students_AnXplore03\\AllFields_Resultats_MESH_144-2.xdmf\n",
      "\n"
     ]
    },
    {
     "name": "stderr",
     "output_type": "stream",
     "text": [
      " 17%|█▋        | 18/103 [00:11<00:54,  1.56it/s]"
     ]
    },
    {
     "name": "stdout",
     "output_type": "stream",
     "text": [
      "Loaded 80 timesteps from c:\\Users\\alexi\\Documents\\mines\\S5\\idsc\\data challenge janvier\\aneurysm_project\\4Students_AnXplore03\\AllFields_Resultats_MESH_148.xdmf\n",
      "\n"
     ]
    },
    {
     "name": "stderr",
     "output_type": "stream",
     "text": [
      " 18%|█▊        | 19/103 [00:11<00:52,  1.61it/s]"
     ]
    },
    {
     "name": "stdout",
     "output_type": "stream",
     "text": [
      "Loaded 80 timesteps from c:\\Users\\alexi\\Documents\\mines\\S5\\idsc\\data challenge janvier\\aneurysm_project\\4Students_AnXplore03\\AllFields_Resultats_MESH_151.xdmf\n",
      "\n"
     ]
    },
    {
     "name": "stderr",
     "output_type": "stream",
     "text": [
      " 19%|█▉        | 20/103 [00:12<00:54,  1.53it/s]"
     ]
    },
    {
     "name": "stdout",
     "output_type": "stream",
     "text": [
      "Loaded 80 timesteps from c:\\Users\\alexi\\Documents\\mines\\S5\\idsc\\data challenge janvier\\aneurysm_project\\4Students_AnXplore03\\AllFields_Resultats_MESH_152.xdmf\n",
      "\n"
     ]
    },
    {
     "name": "stderr",
     "output_type": "stream",
     "text": [
      " 20%|██        | 21/103 [00:13<00:53,  1.54it/s]"
     ]
    },
    {
     "name": "stdout",
     "output_type": "stream",
     "text": [
      "Loaded 80 timesteps from c:\\Users\\alexi\\Documents\\mines\\S5\\idsc\\data challenge janvier\\aneurysm_project\\4Students_AnXplore03\\AllFields_Resultats_MESH_153.xdmf\n",
      "\n"
     ]
    },
    {
     "name": "stderr",
     "output_type": "stream",
     "text": [
      " 21%|██▏       | 22/103 [00:13<00:52,  1.53it/s]"
     ]
    },
    {
     "name": "stdout",
     "output_type": "stream",
     "text": [
      "Loaded 80 timesteps from c:\\Users\\alexi\\Documents\\mines\\S5\\idsc\\data challenge janvier\\aneurysm_project\\4Students_AnXplore03\\AllFields_Resultats_MESH_155.xdmf\n",
      "\n"
     ]
    },
    {
     "name": "stderr",
     "output_type": "stream",
     "text": [
      " 22%|██▏       | 23/103 [00:14<00:52,  1.53it/s]"
     ]
    },
    {
     "name": "stdout",
     "output_type": "stream",
     "text": [
      "Loaded 80 timesteps from c:\\Users\\alexi\\Documents\\mines\\S5\\idsc\\data challenge janvier\\aneurysm_project\\4Students_AnXplore03\\AllFields_Resultats_MESH_157.xdmf\n",
      "\n"
     ]
    },
    {
     "name": "stderr",
     "output_type": "stream",
     "text": [
      " 23%|██▎       | 24/103 [00:15<00:49,  1.60it/s]"
     ]
    },
    {
     "name": "stdout",
     "output_type": "stream",
     "text": [
      "Loaded 80 timesteps from c:\\Users\\alexi\\Documents\\mines\\S5\\idsc\\data challenge janvier\\aneurysm_project\\4Students_AnXplore03\\AllFields_Resultats_MESH_158.xdmf\n",
      "\n"
     ]
    },
    {
     "name": "stderr",
     "output_type": "stream",
     "text": [
      " 24%|██▍       | 25/103 [00:15<00:51,  1.52it/s]"
     ]
    },
    {
     "name": "stdout",
     "output_type": "stream",
     "text": [
      "Loaded 80 timesteps from c:\\Users\\alexi\\Documents\\mines\\S5\\idsc\\data challenge janvier\\aneurysm_project\\4Students_AnXplore03\\AllFields_Resultats_MESH_159.xdmf\n",
      "\n"
     ]
    },
    {
     "name": "stderr",
     "output_type": "stream",
     "text": [
      " 25%|██▌       | 26/103 [00:16<00:50,  1.53it/s]"
     ]
    },
    {
     "name": "stdout",
     "output_type": "stream",
     "text": [
      "Loaded 80 timesteps from c:\\Users\\alexi\\Documents\\mines\\S5\\idsc\\data challenge janvier\\aneurysm_project\\4Students_AnXplore03\\AllFields_Resultats_MESH_161.xdmf\n",
      "\n"
     ]
    },
    {
     "name": "stderr",
     "output_type": "stream",
     "text": [
      " 26%|██▌       | 27/103 [00:17<00:48,  1.56it/s]"
     ]
    },
    {
     "name": "stdout",
     "output_type": "stream",
     "text": [
      "Loaded 80 timesteps from c:\\Users\\alexi\\Documents\\mines\\S5\\idsc\\data challenge janvier\\aneurysm_project\\4Students_AnXplore03\\AllFields_Resultats_MESH_162.xdmf\n",
      "\n"
     ]
    },
    {
     "name": "stderr",
     "output_type": "stream",
     "text": [
      " 27%|██▋       | 28/103 [00:17<00:48,  1.56it/s]"
     ]
    },
    {
     "name": "stdout",
     "output_type": "stream",
     "text": [
      "Loaded 80 timesteps from c:\\Users\\alexi\\Documents\\mines\\S5\\idsc\\data challenge janvier\\aneurysm_project\\4Students_AnXplore03\\AllFields_Resultats_MESH_163-1.xdmf\n",
      "\n"
     ]
    },
    {
     "name": "stderr",
     "output_type": "stream",
     "text": [
      " 28%|██▊       | 29/103 [00:18<00:47,  1.57it/s]"
     ]
    },
    {
     "name": "stdout",
     "output_type": "stream",
     "text": [
      "Loaded 80 timesteps from c:\\Users\\alexi\\Documents\\mines\\S5\\idsc\\data challenge janvier\\aneurysm_project\\4Students_AnXplore03\\AllFields_Resultats_MESH_163-2.xdmf\n",
      "\n"
     ]
    },
    {
     "name": "stderr",
     "output_type": "stream",
     "text": [
      " 29%|██▉       | 30/103 [00:19<00:46,  1.58it/s]"
     ]
    },
    {
     "name": "stdout",
     "output_type": "stream",
     "text": [
      "Loaded 80 timesteps from c:\\Users\\alexi\\Documents\\mines\\S5\\idsc\\data challenge janvier\\aneurysm_project\\4Students_AnXplore03\\AllFields_Resultats_MESH_164.xdmf\n",
      "\n"
     ]
    },
    {
     "name": "stderr",
     "output_type": "stream",
     "text": [
      " 30%|███       | 31/103 [00:19<00:45,  1.57it/s]"
     ]
    },
    {
     "name": "stdout",
     "output_type": "stream",
     "text": [
      "Loaded 80 timesteps from c:\\Users\\alexi\\Documents\\mines\\S5\\idsc\\data challenge janvier\\aneurysm_project\\4Students_AnXplore03\\AllFields_Resultats_MESH_165.xdmf\n",
      "\n"
     ]
    },
    {
     "name": "stderr",
     "output_type": "stream",
     "text": [
      " 31%|███       | 32/103 [00:20<00:53,  1.34it/s]"
     ]
    },
    {
     "name": "stdout",
     "output_type": "stream",
     "text": [
      "Loaded 80 timesteps from c:\\Users\\alexi\\Documents\\mines\\S5\\idsc\\data challenge janvier\\aneurysm_project\\4Students_AnXplore03\\AllFields_Resultats_MESH_166.xdmf\n",
      "\n"
     ]
    },
    {
     "name": "stderr",
     "output_type": "stream",
     "text": [
      " 32%|███▏      | 33/103 [00:21<00:51,  1.35it/s]"
     ]
    },
    {
     "name": "stdout",
     "output_type": "stream",
     "text": [
      "Loaded 80 timesteps from c:\\Users\\alexi\\Documents\\mines\\S5\\idsc\\data challenge janvier\\aneurysm_project\\4Students_AnXplore03\\AllFields_Resultats_MESH_168-1.xdmf\n",
      "\n"
     ]
    },
    {
     "name": "stderr",
     "output_type": "stream",
     "text": [
      " 33%|███▎      | 34/103 [00:22<00:53,  1.28it/s]"
     ]
    },
    {
     "name": "stdout",
     "output_type": "stream",
     "text": [
      "Loaded 80 timesteps from c:\\Users\\alexi\\Documents\\mines\\S5\\idsc\\data challenge janvier\\aneurysm_project\\4Students_AnXplore03\\AllFields_Resultats_MESH_168-2.xdmf\n",
      "\n"
     ]
    },
    {
     "name": "stderr",
     "output_type": "stream",
     "text": [
      " 34%|███▍      | 35/103 [00:22<00:50,  1.35it/s]"
     ]
    },
    {
     "name": "stdout",
     "output_type": "stream",
     "text": [
      "Loaded 80 timesteps from c:\\Users\\alexi\\Documents\\mines\\S5\\idsc\\data challenge janvier\\aneurysm_project\\4Students_AnXplore03\\AllFields_Resultats_MESH_170.xdmf\n",
      "\n"
     ]
    },
    {
     "name": "stderr",
     "output_type": "stream",
     "text": [
      " 35%|███▍      | 36/103 [00:23<00:47,  1.42it/s]"
     ]
    },
    {
     "name": "stdout",
     "output_type": "stream",
     "text": [
      "Loaded 80 timesteps from c:\\Users\\alexi\\Documents\\mines\\S5\\idsc\\data challenge janvier\\aneurysm_project\\4Students_AnXplore03\\AllFields_Resultats_MESH_171.xdmf\n",
      "\n"
     ]
    },
    {
     "name": "stderr",
     "output_type": "stream",
     "text": [
      " 36%|███▌      | 37/103 [00:25<01:06,  1.01s/it]"
     ]
    },
    {
     "name": "stdout",
     "output_type": "stream",
     "text": [
      "Loaded 80 timesteps from c:\\Users\\alexi\\Documents\\mines\\S5\\idsc\\data challenge janvier\\aneurysm_project\\4Students_AnXplore03\\AllFields_Resultats_MESH_172.xdmf\n",
      "\n"
     ]
    },
    {
     "name": "stderr",
     "output_type": "stream",
     "text": [
      " 37%|███▋      | 38/103 [00:26<01:05,  1.00s/it]"
     ]
    },
    {
     "name": "stdout",
     "output_type": "stream",
     "text": [
      "Loaded 80 timesteps from c:\\Users\\alexi\\Documents\\mines\\S5\\idsc\\data challenge janvier\\aneurysm_project\\4Students_AnXplore03\\AllFields_Resultats_MESH_173.xdmf\n",
      "\n"
     ]
    },
    {
     "name": "stderr",
     "output_type": "stream",
     "text": [
      " 38%|███▊      | 39/103 [00:26<00:57,  1.12it/s]"
     ]
    },
    {
     "name": "stdout",
     "output_type": "stream",
     "text": [
      "Loaded 80 timesteps from c:\\Users\\alexi\\Documents\\mines\\S5\\idsc\\data challenge janvier\\aneurysm_project\\4Students_AnXplore03\\AllFields_Resultats_MESH_174.xdmf\n",
      "\n"
     ]
    },
    {
     "name": "stderr",
     "output_type": "stream",
     "text": [
      " 39%|███▉      | 40/103 [00:27<00:51,  1.21it/s]"
     ]
    },
    {
     "name": "stdout",
     "output_type": "stream",
     "text": [
      "Loaded 80 timesteps from c:\\Users\\alexi\\Documents\\mines\\S5\\idsc\\data challenge janvier\\aneurysm_project\\4Students_AnXplore03\\AllFields_Resultats_MESH_175.xdmf\n",
      "\n"
     ]
    },
    {
     "name": "stderr",
     "output_type": "stream",
     "text": [
      " 40%|███▉      | 41/103 [00:28<00:46,  1.34it/s]"
     ]
    },
    {
     "name": "stdout",
     "output_type": "stream",
     "text": [
      "Loaded 80 timesteps from c:\\Users\\alexi\\Documents\\mines\\S5\\idsc\\data challenge janvier\\aneurysm_project\\4Students_AnXplore03\\AllFields_Resultats_MESH_177.xdmf\n",
      "\n"
     ]
    },
    {
     "name": "stderr",
     "output_type": "stream",
     "text": [
      " 41%|████      | 42/103 [00:28<00:46,  1.31it/s]"
     ]
    },
    {
     "name": "stdout",
     "output_type": "stream",
     "text": [
      "Loaded 80 timesteps from c:\\Users\\alexi\\Documents\\mines\\S5\\idsc\\data challenge janvier\\aneurysm_project\\4Students_AnXplore03\\AllFields_Resultats_MESH_178.xdmf\n",
      "\n"
     ]
    },
    {
     "name": "stderr",
     "output_type": "stream",
     "text": [
      " 42%|████▏     | 43/103 [00:29<00:47,  1.27it/s]"
     ]
    },
    {
     "name": "stdout",
     "output_type": "stream",
     "text": [
      "Loaded 80 timesteps from c:\\Users\\alexi\\Documents\\mines\\S5\\idsc\\data challenge janvier\\aneurysm_project\\4Students_AnXplore03\\AllFields_Resultats_MESH_180.xdmf\n",
      "\n"
     ]
    },
    {
     "name": "stderr",
     "output_type": "stream",
     "text": [
      " 43%|████▎     | 44/103 [00:30<00:46,  1.27it/s]"
     ]
    },
    {
     "name": "stdout",
     "output_type": "stream",
     "text": [
      "Loaded 80 timesteps from c:\\Users\\alexi\\Documents\\mines\\S5\\idsc\\data challenge janvier\\aneurysm_project\\4Students_AnXplore03\\AllFields_Resultats_MESH_181.xdmf\n",
      "\n"
     ]
    },
    {
     "name": "stderr",
     "output_type": "stream",
     "text": [
      " 44%|████▎     | 45/103 [00:31<00:44,  1.31it/s]"
     ]
    },
    {
     "name": "stdout",
     "output_type": "stream",
     "text": [
      "Loaded 80 timesteps from c:\\Users\\alexi\\Documents\\mines\\S5\\idsc\\data challenge janvier\\aneurysm_project\\4Students_AnXplore03\\AllFields_Resultats_MESH_182-1.xdmf\n",
      "\n"
     ]
    },
    {
     "name": "stderr",
     "output_type": "stream",
     "text": [
      " 45%|████▍     | 46/103 [00:32<00:42,  1.33it/s]"
     ]
    },
    {
     "name": "stdout",
     "output_type": "stream",
     "text": [
      "Loaded 80 timesteps from c:\\Users\\alexi\\Documents\\mines\\S5\\idsc\\data challenge janvier\\aneurysm_project\\4Students_AnXplore03\\AllFields_Resultats_MESH_182-2.xdmf\n",
      "\n"
     ]
    },
    {
     "name": "stderr",
     "output_type": "stream",
     "text": [
      " 46%|████▌     | 47/103 [00:32<00:39,  1.41it/s]"
     ]
    },
    {
     "name": "stdout",
     "output_type": "stream",
     "text": [
      "Loaded 80 timesteps from c:\\Users\\alexi\\Documents\\mines\\S5\\idsc\\data challenge janvier\\aneurysm_project\\4Students_AnXplore03\\AllFields_Resultats_MESH_182-3.xdmf\n",
      "\n"
     ]
    },
    {
     "name": "stderr",
     "output_type": "stream",
     "text": [
      " 47%|████▋     | 48/103 [00:33<00:36,  1.50it/s]"
     ]
    },
    {
     "name": "stdout",
     "output_type": "stream",
     "text": [
      "Loaded 80 timesteps from c:\\Users\\alexi\\Documents\\mines\\S5\\idsc\\data challenge janvier\\aneurysm_project\\4Students_AnXplore03\\AllFields_Resultats_MESH_183.xdmf\n",
      "\n"
     ]
    },
    {
     "name": "stderr",
     "output_type": "stream",
     "text": [
      " 48%|████▊     | 49/103 [00:33<00:34,  1.55it/s]"
     ]
    },
    {
     "name": "stdout",
     "output_type": "stream",
     "text": [
      "Loaded 80 timesteps from c:\\Users\\alexi\\Documents\\mines\\S5\\idsc\\data challenge janvier\\aneurysm_project\\4Students_AnXplore03\\AllFields_Resultats_MESH_185.xdmf\n",
      "\n"
     ]
    },
    {
     "name": "stderr",
     "output_type": "stream",
     "text": [
      " 49%|████▊     | 50/103 [00:34<00:32,  1.63it/s]"
     ]
    },
    {
     "name": "stdout",
     "output_type": "stream",
     "text": [
      "Loaded 80 timesteps from c:\\Users\\alexi\\Documents\\mines\\S5\\idsc\\data challenge janvier\\aneurysm_project\\4Students_AnXplore03\\AllFields_Resultats_MESH_186-1.xdmf\n",
      "\n"
     ]
    },
    {
     "name": "stderr",
     "output_type": "stream",
     "text": [
      " 50%|████▉     | 51/103 [00:35<00:33,  1.57it/s]"
     ]
    },
    {
     "name": "stdout",
     "output_type": "stream",
     "text": [
      "Loaded 80 timesteps from c:\\Users\\alexi\\Documents\\mines\\S5\\idsc\\data challenge janvier\\aneurysm_project\\4Students_AnXplore03\\AllFields_Resultats_MESH_186-2.xdmf\n",
      "\n"
     ]
    },
    {
     "name": "stderr",
     "output_type": "stream",
     "text": [
      " 50%|█████     | 52/103 [00:35<00:32,  1.57it/s]"
     ]
    },
    {
     "name": "stdout",
     "output_type": "stream",
     "text": [
      "Loaded 80 timesteps from c:\\Users\\alexi\\Documents\\mines\\S5\\idsc\\data challenge janvier\\aneurysm_project\\4Students_AnXplore03\\AllFields_Resultats_MESH_187.xdmf\n",
      "\n"
     ]
    },
    {
     "name": "stderr",
     "output_type": "stream",
     "text": [
      " 51%|█████▏    | 53/103 [00:36<00:37,  1.34it/s]"
     ]
    },
    {
     "name": "stdout",
     "output_type": "stream",
     "text": [
      "Loaded 80 timesteps from c:\\Users\\alexi\\Documents\\mines\\S5\\idsc\\data challenge janvier\\aneurysm_project\\4Students_AnXplore03\\AllFields_Resultats_MESH_188.xdmf\n",
      "\n"
     ]
    },
    {
     "name": "stderr",
     "output_type": "stream",
     "text": [
      " 52%|█████▏    | 54/103 [00:37<00:39,  1.25it/s]"
     ]
    },
    {
     "name": "stdout",
     "output_type": "stream",
     "text": [
      "Loaded 80 timesteps from c:\\Users\\alexi\\Documents\\mines\\S5\\idsc\\data challenge janvier\\aneurysm_project\\4Students_AnXplore03\\AllFields_Resultats_MESH_189.xdmf\n",
      "\n"
     ]
    },
    {
     "name": "stderr",
     "output_type": "stream",
     "text": [
      " 53%|█████▎    | 55/103 [00:38<00:34,  1.37it/s]"
     ]
    },
    {
     "name": "stdout",
     "output_type": "stream",
     "text": [
      "Loaded 80 timesteps from c:\\Users\\alexi\\Documents\\mines\\S5\\idsc\\data challenge janvier\\aneurysm_project\\4Students_AnXplore03\\AllFields_Resultats_MESH_19.xdmf\n",
      "\n"
     ]
    },
    {
     "name": "stderr",
     "output_type": "stream",
     "text": [
      " 54%|█████▍    | 56/103 [00:38<00:32,  1.44it/s]"
     ]
    },
    {
     "name": "stdout",
     "output_type": "stream",
     "text": [
      "Loaded 80 timesteps from c:\\Users\\alexi\\Documents\\mines\\S5\\idsc\\data challenge janvier\\aneurysm_project\\4Students_AnXplore03\\AllFields_Resultats_MESH_191.xdmf\n",
      "\n"
     ]
    },
    {
     "name": "stderr",
     "output_type": "stream",
     "text": [
      " 55%|█████▌    | 57/103 [00:39<00:33,  1.39it/s]"
     ]
    },
    {
     "name": "stdout",
     "output_type": "stream",
     "text": [
      "Loaded 80 timesteps from c:\\Users\\alexi\\Documents\\mines\\S5\\idsc\\data challenge janvier\\aneurysm_project\\4Students_AnXplore03\\AllFields_Resultats_MESH_192.xdmf\n",
      "\n"
     ]
    },
    {
     "name": "stderr",
     "output_type": "stream",
     "text": [
      " 56%|█████▋    | 58/103 [00:40<00:34,  1.32it/s]"
     ]
    },
    {
     "name": "stdout",
     "output_type": "stream",
     "text": [
      "Loaded 80 timesteps from c:\\Users\\alexi\\Documents\\mines\\S5\\idsc\\data challenge janvier\\aneurysm_project\\4Students_AnXplore03\\AllFields_Resultats_MESH_193-1.xdmf\n",
      "\n"
     ]
    },
    {
     "name": "stderr",
     "output_type": "stream",
     "text": [
      " 57%|█████▋    | 59/103 [00:41<00:36,  1.21it/s]"
     ]
    },
    {
     "name": "stdout",
     "output_type": "stream",
     "text": [
      "Loaded 80 timesteps from c:\\Users\\alexi\\Documents\\mines\\S5\\idsc\\data challenge janvier\\aneurysm_project\\4Students_AnXplore03\\AllFields_Resultats_MESH_193-2.xdmf\n",
      "\n"
     ]
    },
    {
     "name": "stderr",
     "output_type": "stream",
     "text": [
      " 58%|█████▊    | 60/103 [00:42<00:42,  1.02it/s]"
     ]
    },
    {
     "name": "stdout",
     "output_type": "stream",
     "text": [
      "Loaded 80 timesteps from c:\\Users\\alexi\\Documents\\mines\\S5\\idsc\\data challenge janvier\\aneurysm_project\\4Students_AnXplore03\\AllFields_Resultats_MESH_194.xdmf\n",
      "\n"
     ]
    },
    {
     "name": "stderr",
     "output_type": "stream",
     "text": [
      " 59%|█████▉    | 61/103 [00:44<00:47,  1.14s/it]"
     ]
    },
    {
     "name": "stdout",
     "output_type": "stream",
     "text": [
      "Loaded 80 timesteps from c:\\Users\\alexi\\Documents\\mines\\S5\\idsc\\data challenge janvier\\aneurysm_project\\4Students_AnXplore03\\AllFields_Resultats_MESH_195.xdmf\n",
      "\n"
     ]
    },
    {
     "name": "stderr",
     "output_type": "stream",
     "text": [
      " 60%|██████    | 62/103 [00:47<01:08,  1.66s/it]"
     ]
    },
    {
     "name": "stdout",
     "output_type": "stream",
     "text": [
      "Loaded 80 timesteps from c:\\Users\\alexi\\Documents\\mines\\S5\\idsc\\data challenge janvier\\aneurysm_project\\4Students_AnXplore03\\AllFields_Resultats_MESH_196-1.xdmf\n",
      "\n"
     ]
    },
    {
     "name": "stderr",
     "output_type": "stream",
     "text": [
      " 61%|██████    | 63/103 [00:47<00:56,  1.41s/it]"
     ]
    },
    {
     "name": "stdout",
     "output_type": "stream",
     "text": [
      "Loaded 80 timesteps from c:\\Users\\alexi\\Documents\\mines\\S5\\idsc\\data challenge janvier\\aneurysm_project\\4Students_AnXplore03\\AllFields_Resultats_MESH_196-2.xdmf\n",
      "\n"
     ]
    },
    {
     "name": "stderr",
     "output_type": "stream",
     "text": [
      " 62%|██████▏   | 64/103 [00:50<01:06,  1.71s/it]"
     ]
    },
    {
     "name": "stdout",
     "output_type": "stream",
     "text": [
      "Loaded 80 timesteps from c:\\Users\\alexi\\Documents\\mines\\S5\\idsc\\data challenge janvier\\aneurysm_project\\4Students_AnXplore03\\AllFields_Resultats_MESH_197.xdmf\n",
      "\n"
     ]
    },
    {
     "name": "stderr",
     "output_type": "stream",
     "text": [
      " 63%|██████▎   | 65/103 [00:52<01:13,  1.94s/it]"
     ]
    },
    {
     "name": "stdout",
     "output_type": "stream",
     "text": [
      "Loaded 80 timesteps from c:\\Users\\alexi\\Documents\\mines\\S5\\idsc\\data challenge janvier\\aneurysm_project\\4Students_AnXplore03\\AllFields_Resultats_MESH_198-1.xdmf\n",
      "\n"
     ]
    },
    {
     "name": "stderr",
     "output_type": "stream",
     "text": [
      " 64%|██████▍   | 66/103 [00:56<01:30,  2.45s/it]"
     ]
    },
    {
     "name": "stdout",
     "output_type": "stream",
     "text": [
      "Loaded 80 timesteps from c:\\Users\\alexi\\Documents\\mines\\S5\\idsc\\data challenge janvier\\aneurysm_project\\4Students_AnXplore03\\AllFields_Resultats_MESH_198-2.xdmf\n",
      "\n"
     ]
    },
    {
     "name": "stderr",
     "output_type": "stream",
     "text": [
      " 65%|██████▌   | 67/103 [00:58<01:25,  2.38s/it]"
     ]
    },
    {
     "name": "stdout",
     "output_type": "stream",
     "text": [
      "Loaded 80 timesteps from c:\\Users\\alexi\\Documents\\mines\\S5\\idsc\\data challenge janvier\\aneurysm_project\\4Students_AnXplore03\\AllFields_Resultats_MESH_199.xdmf\n",
      "\n"
     ]
    },
    {
     "name": "stderr",
     "output_type": "stream",
     "text": [
      " 66%|██████▌   | 68/103 [01:00<01:18,  2.25s/it]"
     ]
    },
    {
     "name": "stdout",
     "output_type": "stream",
     "text": [
      "Loaded 80 timesteps from c:\\Users\\alexi\\Documents\\mines\\S5\\idsc\\data challenge janvier\\aneurysm_project\\4Students_AnXplore03\\AllFields_Resultats_MESH_2.xdmf\n",
      "\n"
     ]
    },
    {
     "name": "stderr",
     "output_type": "stream",
     "text": [
      " 67%|██████▋   | 69/103 [01:01<01:01,  1.81s/it]"
     ]
    },
    {
     "name": "stdout",
     "output_type": "stream",
     "text": [
      "Loaded 80 timesteps from c:\\Users\\alexi\\Documents\\mines\\S5\\idsc\\data challenge janvier\\aneurysm_project\\4Students_AnXplore03\\AllFields_Resultats_MESH_200.xdmf\n",
      "\n"
     ]
    },
    {
     "name": "stderr",
     "output_type": "stream",
     "text": [
      " 68%|██████▊   | 70/103 [01:04<01:13,  2.24s/it]"
     ]
    },
    {
     "name": "stdout",
     "output_type": "stream",
     "text": [
      "Loaded 80 timesteps from c:\\Users\\alexi\\Documents\\mines\\S5\\idsc\\data challenge janvier\\aneurysm_project\\4Students_AnXplore03\\AllFields_Resultats_MESH_202.xdmf\n",
      "\n"
     ]
    },
    {
     "name": "stderr",
     "output_type": "stream",
     "text": [
      " 69%|██████▉   | 71/103 [01:05<00:58,  1.83s/it]"
     ]
    },
    {
     "name": "stdout",
     "output_type": "stream",
     "text": [
      "Loaded 80 timesteps from c:\\Users\\alexi\\Documents\\mines\\S5\\idsc\\data challenge janvier\\aneurysm_project\\4Students_AnXplore03\\AllFields_Resultats_MESH_203.xdmf\n",
      "\n"
     ]
    },
    {
     "name": "stderr",
     "output_type": "stream",
     "text": [
      " 70%|██████▉   | 72/103 [01:06<00:50,  1.63s/it]"
     ]
    },
    {
     "name": "stdout",
     "output_type": "stream",
     "text": [
      "Loaded 80 timesteps from c:\\Users\\alexi\\Documents\\mines\\S5\\idsc\\data challenge janvier\\aneurysm_project\\4Students_AnXplore03\\AllFields_Resultats_MESH_204.xdmf\n",
      "\n"
     ]
    },
    {
     "name": "stderr",
     "output_type": "stream",
     "text": [
      " 71%|███████   | 73/103 [01:08<00:51,  1.70s/it]"
     ]
    },
    {
     "name": "stdout",
     "output_type": "stream",
     "text": [
      "Loaded 80 timesteps from c:\\Users\\alexi\\Documents\\mines\\S5\\idsc\\data challenge janvier\\aneurysm_project\\4Students_AnXplore03\\AllFields_Resultats_MESH_205.xdmf\n",
      "\n"
     ]
    },
    {
     "name": "stderr",
     "output_type": "stream",
     "text": [
      " 72%|███████▏  | 74/103 [01:09<00:43,  1.51s/it]"
     ]
    },
    {
     "name": "stdout",
     "output_type": "stream",
     "text": [
      "Loaded 80 timesteps from c:\\Users\\alexi\\Documents\\mines\\S5\\idsc\\data challenge janvier\\aneurysm_project\\4Students_AnXplore03\\AllFields_Resultats_MESH_206.xdmf\n",
      "\n"
     ]
    },
    {
     "name": "stderr",
     "output_type": "stream",
     "text": [
      " 73%|███████▎  | 75/103 [01:10<00:38,  1.39s/it]"
     ]
    },
    {
     "name": "stdout",
     "output_type": "stream",
     "text": [
      "Loaded 80 timesteps from c:\\Users\\alexi\\Documents\\mines\\S5\\idsc\\data challenge janvier\\aneurysm_project\\4Students_AnXplore03\\AllFields_Resultats_MESH_207.xdmf\n",
      "\n"
     ]
    },
    {
     "name": "stderr",
     "output_type": "stream",
     "text": [
      " 74%|███████▍  | 76/103 [01:11<00:35,  1.33s/it]"
     ]
    },
    {
     "name": "stdout",
     "output_type": "stream",
     "text": [
      "Loaded 80 timesteps from c:\\Users\\alexi\\Documents\\mines\\S5\\idsc\\data challenge janvier\\aneurysm_project\\4Students_AnXplore03\\AllFields_Resultats_MESH_208.xdmf\n",
      "\n"
     ]
    },
    {
     "name": "stderr",
     "output_type": "stream",
     "text": [
      " 75%|███████▍  | 77/103 [01:13<00:33,  1.31s/it]"
     ]
    },
    {
     "name": "stdout",
     "output_type": "stream",
     "text": [
      "Loaded 80 timesteps from c:\\Users\\alexi\\Documents\\mines\\S5\\idsc\\data challenge janvier\\aneurysm_project\\4Students_AnXplore03\\AllFields_Resultats_MESH_209.xdmf\n",
      "\n"
     ]
    },
    {
     "name": "stderr",
     "output_type": "stream",
     "text": [
      " 76%|███████▌  | 78/103 [01:14<00:30,  1.21s/it]"
     ]
    },
    {
     "name": "stdout",
     "output_type": "stream",
     "text": [
      "Loaded 80 timesteps from c:\\Users\\alexi\\Documents\\mines\\S5\\idsc\\data challenge janvier\\aneurysm_project\\4Students_AnXplore03\\AllFields_Resultats_MESH_210.xdmf\n",
      "\n"
     ]
    },
    {
     "name": "stderr",
     "output_type": "stream",
     "text": [
      " 77%|███████▋  | 79/103 [01:15<00:26,  1.11s/it]"
     ]
    },
    {
     "name": "stdout",
     "output_type": "stream",
     "text": [
      "Loaded 80 timesteps from c:\\Users\\alexi\\Documents\\mines\\S5\\idsc\\data challenge janvier\\aneurysm_project\\4Students_AnXplore03\\AllFields_Resultats_MESH_211.xdmf\n",
      "\n"
     ]
    },
    {
     "name": "stderr",
     "output_type": "stream",
     "text": [
      " 78%|███████▊  | 80/103 [01:15<00:23,  1.01s/it]"
     ]
    },
    {
     "name": "stdout",
     "output_type": "stream",
     "text": [
      "Loaded 80 timesteps from c:\\Users\\alexi\\Documents\\mines\\S5\\idsc\\data challenge janvier\\aneurysm_project\\4Students_AnXplore03\\AllFields_Resultats_MESH_212.xdmf\n",
      "\n"
     ]
    },
    {
     "name": "stderr",
     "output_type": "stream",
     "text": [
      " 79%|███████▊  | 81/103 [01:16<00:21,  1.02it/s]"
     ]
    },
    {
     "name": "stdout",
     "output_type": "stream",
     "text": [
      "Loaded 80 timesteps from c:\\Users\\alexi\\Documents\\mines\\S5\\idsc\\data challenge janvier\\aneurysm_project\\4Students_AnXplore03\\AllFields_Resultats_MESH_213.xdmf\n",
      "\n"
     ]
    },
    {
     "name": "stderr",
     "output_type": "stream",
     "text": [
      " 80%|███████▉  | 82/103 [01:17<00:19,  1.05it/s]"
     ]
    },
    {
     "name": "stdout",
     "output_type": "stream",
     "text": [
      "Loaded 80 timesteps from c:\\Users\\alexi\\Documents\\mines\\S5\\idsc\\data challenge janvier\\aneurysm_project\\4Students_AnXplore03\\AllFields_Resultats_MESH_214.xdmf\n",
      "\n"
     ]
    },
    {
     "name": "stderr",
     "output_type": "stream",
     "text": [
      " 81%|████████  | 83/103 [01:18<00:18,  1.10it/s]"
     ]
    },
    {
     "name": "stdout",
     "output_type": "stream",
     "text": [
      "Loaded 80 timesteps from c:\\Users\\alexi\\Documents\\mines\\S5\\idsc\\data challenge janvier\\aneurysm_project\\4Students_AnXplore03\\AllFields_Resultats_MESH_215.xdmf\n",
      "\n"
     ]
    },
    {
     "name": "stderr",
     "output_type": "stream",
     "text": [
      " 82%|████████▏ | 84/103 [01:19<00:17,  1.10it/s]"
     ]
    },
    {
     "name": "stdout",
     "output_type": "stream",
     "text": [
      "Loaded 80 timesteps from c:\\Users\\alexi\\Documents\\mines\\S5\\idsc\\data challenge janvier\\aneurysm_project\\4Students_AnXplore03\\AllFields_Resultats_MESH_217.xdmf\n",
      "\n"
     ]
    },
    {
     "name": "stderr",
     "output_type": "stream",
     "text": [
      " 83%|████████▎ | 85/103 [01:20<00:20,  1.14s/it]"
     ]
    },
    {
     "name": "stdout",
     "output_type": "stream",
     "text": [
      "Loaded 80 timesteps from c:\\Users\\alexi\\Documents\\mines\\S5\\idsc\\data challenge janvier\\aneurysm_project\\4Students_AnXplore03\\AllFields_Resultats_MESH_219.xdmf\n",
      "\n"
     ]
    },
    {
     "name": "stderr",
     "output_type": "stream",
     "text": [
      " 83%|████████▎ | 86/103 [01:21<00:17,  1.03s/it]"
     ]
    },
    {
     "name": "stdout",
     "output_type": "stream",
     "text": [
      "Loaded 80 timesteps from c:\\Users\\alexi\\Documents\\mines\\S5\\idsc\\data challenge janvier\\aneurysm_project\\4Students_AnXplore03\\AllFields_Resultats_MESH_23.xdmf\n",
      "\n"
     ]
    },
    {
     "name": "stderr",
     "output_type": "stream",
     "text": [
      " 84%|████████▍ | 87/103 [01:22<00:15,  1.05it/s]"
     ]
    },
    {
     "name": "stdout",
     "output_type": "stream",
     "text": [
      "Loaded 80 timesteps from c:\\Users\\alexi\\Documents\\mines\\S5\\idsc\\data challenge janvier\\aneurysm_project\\4Students_AnXplore03\\AllFields_Resultats_MESH_25.xdmf\n",
      "\n"
     ]
    },
    {
     "name": "stderr",
     "output_type": "stream",
     "text": [
      " 85%|████████▌ | 88/103 [01:23<00:14,  1.06it/s]"
     ]
    },
    {
     "name": "stdout",
     "output_type": "stream",
     "text": [
      "Loaded 80 timesteps from c:\\Users\\alexi\\Documents\\mines\\S5\\idsc\\data challenge janvier\\aneurysm_project\\4Students_AnXplore03\\AllFields_Resultats_MESH_26.xdmf\n",
      "\n"
     ]
    },
    {
     "name": "stderr",
     "output_type": "stream",
     "text": [
      " 86%|████████▋ | 89/103 [01:24<00:12,  1.10it/s]"
     ]
    },
    {
     "name": "stdout",
     "output_type": "stream",
     "text": [
      "Loaded 80 timesteps from c:\\Users\\alexi\\Documents\\mines\\S5\\idsc\\data challenge janvier\\aneurysm_project\\4Students_AnXplore03\\AllFields_Resultats_MESH_28.xdmf\n",
      "\n"
     ]
    },
    {
     "name": "stderr",
     "output_type": "stream",
     "text": [
      " 87%|████████▋ | 90/103 [01:25<00:11,  1.16it/s]"
     ]
    },
    {
     "name": "stdout",
     "output_type": "stream",
     "text": [
      "Loaded 80 timesteps from c:\\Users\\alexi\\Documents\\mines\\S5\\idsc\\data challenge janvier\\aneurysm_project\\4Students_AnXplore03\\AllFields_Resultats_MESH_3.xdmf\n",
      "\n"
     ]
    },
    {
     "name": "stderr",
     "output_type": "stream",
     "text": [
      " 88%|████████▊ | 91/103 [01:26<00:11,  1.02it/s]"
     ]
    },
    {
     "name": "stdout",
     "output_type": "stream",
     "text": [
      "Loaded 80 timesteps from c:\\Users\\alexi\\Documents\\mines\\S5\\idsc\\data challenge janvier\\aneurysm_project\\4Students_AnXplore03\\AllFields_Resultats_MESH_31.xdmf\n",
      "\n"
     ]
    },
    {
     "name": "stderr",
     "output_type": "stream",
     "text": [
      " 89%|████████▉ | 92/103 [01:27<00:10,  1.07it/s]"
     ]
    },
    {
     "name": "stdout",
     "output_type": "stream",
     "text": [
      "Loaded 80 timesteps from c:\\Users\\alexi\\Documents\\mines\\S5\\idsc\\data challenge janvier\\aneurysm_project\\4Students_AnXplore03\\AllFields_Resultats_MESH_34.xdmf\n",
      "\n"
     ]
    },
    {
     "name": "stderr",
     "output_type": "stream",
     "text": [
      " 90%|█████████ | 93/103 [01:27<00:09,  1.11it/s]"
     ]
    },
    {
     "name": "stdout",
     "output_type": "stream",
     "text": [
      "Loaded 80 timesteps from c:\\Users\\alexi\\Documents\\mines\\S5\\idsc\\data challenge janvier\\aneurysm_project\\4Students_AnXplore03\\AllFields_Resultats_MESH_40.xdmf\n",
      "\n"
     ]
    },
    {
     "name": "stderr",
     "output_type": "stream",
     "text": [
      " 91%|█████████▏| 94/103 [01:28<00:07,  1.15it/s]"
     ]
    },
    {
     "name": "stdout",
     "output_type": "stream",
     "text": [
      "Loaded 80 timesteps from c:\\Users\\alexi\\Documents\\mines\\S5\\idsc\\data challenge janvier\\aneurysm_project\\4Students_AnXplore03\\AllFields_Resultats_MESH_42-1.xdmf\n",
      "\n"
     ]
    },
    {
     "name": "stderr",
     "output_type": "stream",
     "text": [
      " 92%|█████████▏| 95/103 [01:29<00:06,  1.17it/s]"
     ]
    },
    {
     "name": "stdout",
     "output_type": "stream",
     "text": [
      "Loaded 80 timesteps from c:\\Users\\alexi\\Documents\\mines\\S5\\idsc\\data challenge janvier\\aneurysm_project\\4Students_AnXplore03\\AllFields_Resultats_MESH_42-2.xdmf\n",
      "\n"
     ]
    },
    {
     "name": "stderr",
     "output_type": "stream",
     "text": [
      " 93%|█████████▎| 96/103 [01:30<00:06,  1.14it/s]"
     ]
    },
    {
     "name": "stdout",
     "output_type": "stream",
     "text": [
      "Loaded 80 timesteps from c:\\Users\\alexi\\Documents\\mines\\S5\\idsc\\data challenge janvier\\aneurysm_project\\4Students_AnXplore03\\AllFields_Resultats_MESH_42-3.xdmf\n",
      "\n"
     ]
    },
    {
     "name": "stderr",
     "output_type": "stream",
     "text": [
      " 94%|█████████▍| 97/103 [01:31<00:05,  1.18it/s]"
     ]
    },
    {
     "name": "stdout",
     "output_type": "stream",
     "text": [
      "Loaded 80 timesteps from c:\\Users\\alexi\\Documents\\mines\\S5\\idsc\\data challenge janvier\\aneurysm_project\\4Students_AnXplore03\\AllFields_Resultats_MESH_44.xdmf\n",
      "\n"
     ]
    },
    {
     "name": "stderr",
     "output_type": "stream",
     "text": [
      " 95%|█████████▌| 98/103 [01:31<00:03,  1.26it/s]"
     ]
    },
    {
     "name": "stdout",
     "output_type": "stream",
     "text": [
      "Loaded 80 timesteps from c:\\Users\\alexi\\Documents\\mines\\S5\\idsc\\data challenge janvier\\aneurysm_project\\4Students_AnXplore03\\AllFields_Resultats_MESH_54-1.xdmf\n",
      "\n"
     ]
    },
    {
     "name": "stderr",
     "output_type": "stream",
     "text": [
      " 96%|█████████▌| 99/103 [01:32<00:03,  1.30it/s]"
     ]
    },
    {
     "name": "stdout",
     "output_type": "stream",
     "text": [
      "Loaded 80 timesteps from c:\\Users\\alexi\\Documents\\mines\\S5\\idsc\\data challenge janvier\\aneurysm_project\\4Students_AnXplore03\\AllFields_Resultats_MESH_54-2.xdmf\n",
      "\n"
     ]
    },
    {
     "name": "stderr",
     "output_type": "stream",
     "text": [
      " 97%|█████████▋| 100/103 [01:33<00:02,  1.33it/s]"
     ]
    },
    {
     "name": "stdout",
     "output_type": "stream",
     "text": [
      "Loaded 80 timesteps from c:\\Users\\alexi\\Documents\\mines\\S5\\idsc\\data challenge janvier\\aneurysm_project\\4Students_AnXplore03\\AllFields_Resultats_MESH_55.xdmf\n",
      "\n"
     ]
    },
    {
     "name": "stderr",
     "output_type": "stream",
     "text": [
      " 98%|█████████▊| 101/103 [01:34<00:01,  1.28it/s]"
     ]
    },
    {
     "name": "stdout",
     "output_type": "stream",
     "text": [
      "Loaded 80 timesteps from c:\\Users\\alexi\\Documents\\mines\\S5\\idsc\\data challenge janvier\\aneurysm_project\\4Students_AnXplore03\\AllFields_Resultats_MESH_6.xdmf\n",
      "\n"
     ]
    },
    {
     "name": "stderr",
     "output_type": "stream",
     "text": [
      " 99%|█████████▉| 102/103 [01:35<00:00,  1.12it/s]"
     ]
    },
    {
     "name": "stdout",
     "output_type": "stream",
     "text": [
      "Loaded 80 timesteps from c:\\Users\\alexi\\Documents\\mines\\S5\\idsc\\data challenge janvier\\aneurysm_project\\4Students_AnXplore03\\AllFields_Resultats_MESH_9-1.xdmf\n",
      "\n"
     ]
    },
    {
     "name": "stderr",
     "output_type": "stream",
     "text": [
      "100%|██████████| 103/103 [01:36<00:00,  1.07it/s]\n"
     ]
    }
   ],
   "source": [
    "data = build_data()"
   ]
  },
  {
   "cell_type": "code",
   "execution_count": 16,
   "metadata": {},
   "outputs": [
    {
     "data": {
      "text/plain": [
       "Data(x=[11446, 7], edge_index=[2, 110854], edge_attr=[110854, 3])"
      ]
     },
     "execution_count": 16,
     "metadata": {},
     "output_type": "execute_result"
    }
   ],
   "source": [
    "data['features'][0]"
   ]
  },
  {
   "cell_type": "code",
   "execution_count": 17,
   "metadata": {},
   "outputs": [
    {
     "data": {
      "text/plain": [
       "Data(x=[11446, 7], edge_index=[2, 110854], edge_attr=[110854, 3])"
      ]
     },
     "execution_count": 17,
     "metadata": {},
     "output_type": "execute_result"
    }
   ],
   "source": [
    "data['target'][0]"
   ]
  },
  {
   "cell_type": "code",
   "execution_count": 18,
   "metadata": {},
   "outputs": [
    {
     "data": {
      "text/plain": [
       "dict_keys(['features', 'target'])"
      ]
     },
     "execution_count": 18,
     "metadata": {},
     "output_type": "execute_result"
    }
   ],
   "source": [
    "data.keys()"
   ]
  },
  {
   "cell_type": "code",
   "execution_count": 19,
   "metadata": {},
   "outputs": [
    {
     "data": {
      "text/plain": [
       "234"
      ]
     },
     "execution_count": 19,
     "metadata": {},
     "output_type": "execute_result"
    }
   ],
   "source": [
    "# get length of the data\n",
    "len(data['features'])"
   ]
  },
  {
   "cell_type": "markdown",
   "metadata": {},
   "source": [
    "# Message passing model"
   ]
  },
  {
   "cell_type": "code",
   "execution_count": null,
   "metadata": {},
   "outputs": [],
   "source": [
    "import torch\n",
    "import torch.nn.functional as F\n",
    "from torch_geometric.nn import MessagePassing\n",
    "from torch_geometric.utils import add_self_loops\n",
    "\n",
    "class FluidGNNLayer(MessagePassing):\n",
    "    def __init__(self, in_channels, out_channels):\n",
    "        super(FluidGNNLayer, self).__init__(aggr='mean')  # Mean aggregation\n",
    "        self.edge_mlp = torch.nn.Sequential(\n",
    "            torch.nn.Linear(in_channels * 2 + 3, 64),  # Edge MLP (uses node features + relative position)\n",
    "            torch.nn.ReLU(),\n",
    "            torch.nn.Linear(64, out_channels)\n",
    "        )\n",
    "        self.node_mlp = torch.nn.Sequential(\n",
    "            torch.nn.Linear(in_channels + out_channels, 64),\n",
    "            torch.nn.ReLU(),\n",
    "            torch.nn.Linear(64, out_channels)\n",
    "        )\n",
    "\n",
    "    def forward(self, x, edge_index, edge_attr):\n",
    "        \"\"\"\n",
    "        x: Node features (velocities, pressure, positions) [num_nodes, in_channels]\n",
    "        edge_index: Connectivity [2, num_edges]\n",
    "        edge_attr: Edge features (relative positions) [num_edges, 3]\n",
    "        \"\"\"\n",
    "        edge_index, _ = add_self_loops(edge_index, num_nodes=x.size(0))\n",
    "        return self.propagate(edge_index, x=x, edge_attr=edge_attr)\n",
    "\n",
    "    def message(self, x_i, x_j, edge_attr):\n",
    "        \"\"\"Message function: Computes messages from neighbors.\"\"\"\n",
    "        return self.edge_mlp(torch.cat([x_i, x_j, edge_attr], dim=1))\n",
    "\n",
    "    def update(self, aggr_out, x):\n",
    "        \"\"\"Update function: Combines node's previous state with aggregated messages.\"\"\"\n",
    "        return self.node_mlp(torch.cat([x, aggr_out], dim=1))\n"
   ]
  },
  {
   "cell_type": "code",
   "execution_count": null,
   "metadata": {},
   "outputs": [],
   "source": [
    "class FluidGNN(torch.nn.Module):\n",
    "    def __init__(self, node_features, hidden_dim, output_dim):\n",
    "        super(FluidGNN, self).__init__()\n",
    "        self.gnn1 = FluidGNNLayer(node_features, hidden_dim)\n",
    "        self.gnn2 = FluidGNNLayer(hidden_dim, hidden_dim)\n",
    "        self.gnn3 = FluidGNNLayer(hidden_dim, output_dim)\n",
    "\n",
    "    def forward(self, x, edge_index, edge_attr):\n",
    "        x = F.relu(self.gnn1(x, edge_index, edge_attr))\n",
    "        x = F.relu(self.gnn2(x, edge_index, edge_attr))\n",
    "        x = self.gnn3(x, edge_index, edge_attr)  # Output velocity + pressure\n",
    "        return x\n"
   ]
  },
  {
   "cell_type": "code",
   "execution_count": null,
   "metadata": {},
   "outputs": [],
   "source": [
    "from torch_geometric.data import Data\n",
    "\n",
    "# Example data (replace with your real mesh data)\n",
    "num_nodes = 100\n",
    "node_features = 7  # [vx, vy, vz, p, x, y, z]\n",
    "edge_index = torch.randint(0, num_nodes, (2, 300))  # Random edges\n",
    "x = torch.randn((num_nodes, node_features))  # Random node features\n",
    "edge_attr = torch.randn((edge_index.size(1), 3))  # Random edge features\n",
    "\n",
    "# Create PyTorch Geometric data object\n",
    "graph_data = Data(x=x, edge_index=edge_index, edge_attr=edge_attr)\n"
   ]
  },
  {
   "cell_type": "code",
   "execution_count": null,
   "metadata": {},
   "outputs": [],
   "source": [
    "device = torch.device(\"cuda\" if torch.cuda.is_available() else \"cpu\")\n",
    "\n",
    "# Initialize model\n",
    "model = FluidGNN(node_features=7, hidden_dim=64, output_dim=4)  # Output: vx, vy, vz, p\n",
    "model.to(device)\n",
    "\n",
    "optimizer = torch.optim.Adam(model.parameters(), lr=0.001)\n",
    "criterion = torch.nn.MSELoss()\n",
    "\n",
    "# Training loop\n",
    "num_epochs = 100\n",
    "for epoch in range(num_epochs):\n",
    "    model.train()\n",
    "    optimizer.zero_grad()\n",
    "\n",
    "    # Forward pass\n",
    "    x_pred = model(graph_data.x.to(device), graph_data.edge_index.to(device), graph_data.edge_attr.to(device))\n",
    "\n",
    "    # Compute loss (MSE between predicted and true values)\n",
    "    loss = criterion(x_pred, graph_data.x[:, :4].to(device))  # Target: vx, vy, vz, p\n",
    "\n",
    "    loss.backward()\n",
    "    optimizer.step()\n",
    "\n",
    "    print(f\"Epoch {epoch+1}/{num_epochs}, Loss: {loss.item():.4f}\")\n"
   ]
  }
 ],
 "metadata": {
  "kernelspec": {
   "display_name": "idsc_challenge_jan",
   "language": "python",
   "name": "python3"
  },
  "language_info": {
   "codemirror_mode": {
    "name": "ipython",
    "version": 3
   },
   "file_extension": ".py",
   "mimetype": "text/x-python",
   "name": "python",
   "nbconvert_exporter": "python",
   "pygments_lexer": "ipython3",
   "version": "3.12.8"
  }
 },
 "nbformat": 4,
 "nbformat_minor": 2
}
