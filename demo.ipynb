{
 "cells": [
  {
   "cell_type": "code",
   "execution_count": 10,
   "metadata": {},
   "outputs": [],
   "source": [
    "import os\n",
    "import os.path as osp\n",
    "import shutil\n",
    "import meshio\n",
    "from typing import List\n",
    "\n",
    "import logging\n",
    "import matplotlib\n",
    "%matplotlib inline\n",
    "import matplotlib.pyplot as plt\n",
    "\n",
    "import torch\n",
    "import torch.nn.functional as F\n",
    "from torch_geometric.data import Data, DataLoader\n",
    "from torch_geometric.nn import GCNConv\n",
    "import numpy as np\n",
    "import scipy.sparse as sp\n",
    "import tqdm\n",
    "\n",
    "from mesh_handler import xdmf_to_meshes, meshes_to_xdmf, vtu_to_mesh, mesh_to_vtu, accessing_mesh_data, create_mock_mesh, get_geometric_data, get_surface"
   ]
  },
  {
   "cell_type": "markdown",
   "metadata": {},
   "source": [
    "# Create train dataset t to t+1"
   ]
  },
  {
   "cell_type": "code",
   "execution_count": 11,
   "metadata": {},
   "outputs": [],
   "source": [
    "def build_data():\n",
    "    \"\"\"\n",
    "    Creates a list of Data objects containing the following attributes:\n",
    "        graph.x : [N x 7] (x, y, z, vx, vy, vz, p) at time t-1\n",
    "        graph.y : [N x 7] (x, y, z, vx, vy, vz, p) at time t\n",
    "        graph.edge_index : [2 x E] edge indices (i, j)\n",
    "        graph.edge_attr : [E x 3] edge attributes (dx, dy, dz)\n",
    "    \"\"\"\n",
    "    data = []\n",
    "    list_files = os.listdir(osp.join(os.getcwd(), \"4Students_AnXplore03\"))\n",
    "    list_files = [f for f in list_files if f.endswith('.xdmf')]\n",
    "\n",
    "    for f in tqdm.tqdm(list_files[:-1]):\n",
    "        # print(\"\\n\\n New file:\\n\")\n",
    "        xdmf_path = osp.join(os.getcwd(), \"4Students_AnXplore03\", f)\n",
    "        meshes = xdmf_to_meshes(xdmf_path, verbose=False)\n",
    "        mesh = meshes[0]\n",
    "\n",
    "        edge_index, edge_attr = get_geometric_data(mesh)\n",
    "\n",
    "        for time_step in range(2, len(meshes)):\n",
    "            # Create node features (x, y, z, vx, vy, vz, p)\n",
    "            node_features_1 = np.hstack([\n",
    "                meshes[time_step-1].points,\n",
    "                meshes[time_step-1].point_data['Vitesse'],\n",
    "                meshes[time_step-1].point_data['Pression'].reshape(-1, 1)\n",
    "            ]) # Shape: (num_nodes, 7)\n",
    "            node_features_1 = torch.tensor(node_features_1, dtype=torch.float)\n",
    "            node_features = np.hstack([\n",
    "                meshes[time_step].points,\n",
    "                meshes[time_step].point_data['Vitesse'],\n",
    "                meshes[time_step].point_data['Pression'].reshape(-1, 1)\n",
    "            ]) # Shape: (num_nodes, 7)\n",
    "            node_features = torch.tensor(node_features, dtype=torch.float)\n",
    "\n",
    "            # Create PyTorch Geometric data object\n",
    "            graph_data = Data(\n",
    "                x=node_features_1,\n",
    "                y=node_features,\n",
    "                edge_index=edge_index,\n",
    "                edge_attr=edge_attr\n",
    "            )\n",
    "\n",
    "            data.append(graph_data)\n",
    "    return data"
   ]
  },
  {
   "cell_type": "code",
   "execution_count": 12,
   "metadata": {},
   "outputs": [
    {
     "name": "stderr",
     "output_type": "stream",
     "text": [
      "100%|██████████| 102/102 [01:35<00:00,  1.06it/s]\n"
     ]
    }
   ],
   "source": [
    "data = build_data()"
   ]
  },
  {
   "cell_type": "code",
   "execution_count": 13,
   "metadata": {},
   "outputs": [
    {
     "data": {
      "text/plain": [
       "Data(x=[11446, 7], edge_index=[2, 110854], edge_attr=[110854, 3], y=[11446, 7])"
      ]
     },
     "execution_count": 13,
     "metadata": {},
     "output_type": "execute_result"
    }
   ],
   "source": [
    "data[0]"
   ]
  },
  {
   "cell_type": "code",
   "execution_count": 14,
   "metadata": {},
   "outputs": [
    {
     "data": {
      "text/plain": [
       "7956"
      ]
     },
     "execution_count": 14,
     "metadata": {},
     "output_type": "execute_result"
    }
   ],
   "source": [
    "len(data)"
   ]
  },
  {
   "cell_type": "markdown",
   "metadata": {},
   "source": [
    "# Create test dataset t and t+1 to t+2 + limit conditions"
   ]
  },
  {
   "cell_type": "code",
   "execution_count": 18,
   "metadata": {},
   "outputs": [
    {
     "name": "stdout",
     "output_type": "stream",
     "text": [
      "Loaded 80 timesteps from AllFields_Resultats_MESH_1.xdmf\n",
      "\n"
     ]
    },
    {
     "data": {
      "text/plain": [
       "array([1., 1., 1., ..., 0., 0., 0.], shape=(11446,))"
      ]
     },
     "execution_count": 18,
     "metadata": {},
     "output_type": "execute_result"
    }
   ],
   "source": [
    "xdmf_path = osp.join(os.getcwd(), \"4Students_AnXplore03/AllFields_Resultats_MESH_1.xdmf\")\n",
    "meshes = xdmf_to_meshes(xdmf_path)\n",
    "mesh = meshes[0]\n",
    "surface = get_surface(mesh)\n",
    "surface"
   ]
  },
  {
   "cell_type": "code",
   "execution_count": 21,
   "metadata": {},
   "outputs": [],
   "source": [
    "def build_data_two():\n",
    "    \"\"\"\n",
    "    Creates a dataset with the following structure:\n",
    "    - features: list of Data objects containing the features at time t-2 and t-1\n",
    "        graph.x : [N x 16] (x, y, z, vx, vy, vz, p, S, x, y, z, vx, vy, vz, p, S)\n",
    "        S is a boolean indicating if the point is on the surface (limit condition)\n",
    "    - target: list of Data objects containing the features at time t\n",
    "        graph.x : [N x 8] (x, y, z, vx, vy, vz, p, S)\n",
    "    \"\"\"\n",
    "    data = {\n",
    "        'features' : [],\n",
    "        'target' : []\n",
    "    }\n",
    "    list_files = os.listdir(osp.join(os.getcwd(), \"4Students_AnXplore03\"))\n",
    "    list_files = [f for f in list_files if f.endswith('.xdmf')]\n",
    "\n",
    "    for f in tqdm.tqdm(list_files[:-1]):\n",
    "        # print(\"\\n\\n New file:\\n\")\n",
    "        xdmf_path = osp.join(os.getcwd(), \"4Students_AnXplore03\", f)\n",
    "        meshes = xdmf_to_meshes(xdmf_path, verbose=False)\n",
    "        mesh = meshes[0]\n",
    "        surface = get_surface(mesh)\n",
    "        edge_index, edge_attr = get_geometric_data(mesh)\n",
    "\n",
    "        for time_step in range(2, len(meshes)):\n",
    "            # Create node features (x, y, z, vx, vy, vz, p)\n",
    "            node_features_2 = np.hstack([\n",
    "                meshes[time_step-2].points,\n",
    "                meshes[time_step-2].point_data['Vitesse'],\n",
    "                meshes[time_step-2].point_data['Pression'].reshape(-1, 1),\n",
    "                surface.reshape(-1, 1)\n",
    "            ]) # Shape: (num_nodes, 7)\n",
    "            node_features_2 = torch.tensor(node_features_2, dtype=torch.float)\n",
    "            node_features_1 = np.hstack([\n",
    "                meshes[time_step-1].points,\n",
    "                meshes[time_step-1].point_data['Vitesse'],\n",
    "                meshes[time_step-1].point_data['Pression'].reshape(-1, 1),\n",
    "                surface.reshape(-1, 1)\n",
    "            ]) # Shape: (num_nodes, 7)\n",
    "            node_features_1 = torch.tensor(node_features_1, dtype=torch.float)\n",
    "            node_features = np.hstack([\n",
    "                meshes[time_step].points,\n",
    "                meshes[time_step].point_data['Vitesse'],\n",
    "                meshes[time_step].point_data['Pression'].reshape(-1, 1),\n",
    "                surface.reshape(-1, 1)\n",
    "            ]) # Shape: (num_nodes, 7)\n",
    "            node_features = torch.tensor(node_features, dtype=torch.float)\n",
    "\n",
    "            # Create PyTorch Geometric data object\n",
    "            # concat data at t-2 and t-1\n",
    "            graph_data_features = Data(\n",
    "                x=torch.cat((node_features_2, node_features_1), 1),\n",
    "                edge_index=edge_index,\n",
    "                edge_attr=edge_attr\n",
    "            )\n",
    "            graph_data = Data(x=node_features, edge_index=edge_index, edge_attr=edge_attr)\n",
    "\n",
    "            data['features'].append(graph_data_features)\n",
    "            data['target'].append(graph_data)\n",
    "    return data"
   ]
  },
  {
   "cell_type": "code",
   "execution_count": 20,
   "metadata": {},
   "outputs": [
    {
     "name": "stderr",
     "output_type": "stream",
     "text": [
      "100%|██████████| 102/102 [01:30<00:00,  1.12it/s]\n"
     ]
    }
   ],
   "source": [
    "data_two = build_data_two()"
   ]
  },
  {
   "cell_type": "code",
   "execution_count": 23,
   "metadata": {},
   "outputs": [
    {
     "data": {
      "text/plain": [
       "Data(x=[11446, 16], edge_index=[2, 110854], edge_attr=[110854, 3])"
      ]
     },
     "execution_count": 23,
     "metadata": {},
     "output_type": "execute_result"
    }
   ],
   "source": [
    "data_two['features'][0]"
   ]
  },
  {
   "cell_type": "code",
   "execution_count": 24,
   "metadata": {},
   "outputs": [
    {
     "data": {
      "text/plain": [
       "Data(x=[11446, 8], edge_index=[2, 110854], edge_attr=[110854, 3])"
      ]
     },
     "execution_count": 24,
     "metadata": {},
     "output_type": "execute_result"
    }
   ],
   "source": [
    "data_two['target'][0]"
   ]
  },
  {
   "cell_type": "code",
   "execution_count": 25,
   "metadata": {},
   "outputs": [
    {
     "data": {
      "text/plain": [
       "dict_keys(['features', 'target'])"
      ]
     },
     "execution_count": 25,
     "metadata": {},
     "output_type": "execute_result"
    }
   ],
   "source": [
    "data_two.keys()"
   ]
  },
  {
   "cell_type": "code",
   "execution_count": 26,
   "metadata": {},
   "outputs": [
    {
     "data": {
      "text/plain": [
       "7956"
      ]
     },
     "execution_count": 26,
     "metadata": {},
     "output_type": "execute_result"
    }
   ],
   "source": [
    "len(data_two['features'])"
   ]
  },
  {
   "cell_type": "markdown",
   "metadata": {},
   "source": [
    "# Predict only zero to compare to a baseline"
   ]
  },
  {
   "cell_type": "code",
   "execution_count": 27,
   "metadata": {},
   "outputs": [],
   "source": [
    "from models.ZeroPredictor import ZeroPredictor"
   ]
  },
  {
   "cell_type": "code",
   "execution_count": 38,
   "metadata": {},
   "outputs": [
    {
     "name": "stdout",
     "output_type": "stream",
     "text": [
      "Loaded 80 timesteps from c:\\Users\\alexi\\Documents\\mines\\S5\\idsc\\data challenge janvier\\aneurysm_project\\4Students_AnXplore03\\AllFields_Resultats_MESH_219.xdmf\n",
      "\n",
      "Total error: 2.6491\n"
     ]
    }
   ],
   "source": [
    "model = ZeroPredictor()\n",
    "xdmf_path = osp.join(os.getcwd(), \"4Students_AnXplore03\", \"AllFields_Resultats_MESH_219.xdmf\")\n",
    "meshes = xdmf_to_meshes(xdmf_path)\n",
    "total_error, list_errors = model.test_model(meshes)"
   ]
  },
  {
   "cell_type": "code",
   "execution_count": 39,
   "metadata": {},
   "outputs": [
    {
     "data": {
      "image/png": "[encoded data removed]",
      "text/plain": [
       "<Figure size 1000x500 with 1 Axes>"
      ]
     },
     "metadata": {},
     "output_type": "display_data"
    }
   ],
   "source": [
    "plt.rcParams['font.family'] = 'DejaVu Sans'\n",
    "plt.figure(figsize=(10, 5))\n",
    "\n",
    "plt.plot(np.array(list_errors, dtype=np.float32))\n",
    "plt.ylim(0, 8)\n",
    "plt.xlabel(\"Time step\")\n",
    "plt.ylabel(\"MSE\")\n",
    "plt.title(\"MSE per time step, Baseline model\")\n",
    "plt.savefig(\"MSE_per_time_step.png\")\n",
    "plt.savefig(\"MSE_per_time_step.png\")\n",
    "plt.show()"
   ]
  },
  {
   "cell_type": "markdown",
   "metadata": {},
   "source": [
    "# Predict mean of first 3 values"
   ]
  },
  {
   "cell_type": "code",
   "execution_count": null,
   "metadata": {},
   "outputs": [],
   "source": [
    "from MeanPredictor import MeanPredictor"
   ]
  },
  {
   "cell_type": "code",
   "execution_count": 15,
   "metadata": {},
   "outputs": [],
   "source": [
    "import torch\n",
    "import torch.nn.functional as F\n",
    "from torch_geometric.data import Data, DataLoader\n",
    "from torch_geometric.nn import GCNConv\n",
    "import numpy as np\n",
    "import tqdm\n",
    "\n",
    "from mesh_handler import get_geometric_data\n",
    "\n",
    "class MeanPredictor(torch.nn.Module):\n",
    "    def __init__(self, input_dim=7, hidden_dim=64, output_dim=3):\n",
    "        super(MeanPredictor, self).__init__()\n",
    "        self.input_dim = input_dim\n",
    "        self.output_dim = output_dim\n",
    "        self.mean = None # [mean_vx, mean_vy, mean_vz], of size (N, 3)\n",
    "    \n",
    "    def train_model(self, meshes):\n",
    "        # compute the mean of the velocities for first 3 time steps\n",
    "        # updates self.mean\n",
    "\n",
    "        v0 = meshes[0].point_data['Vitesse']\n",
    "        v1 = meshes[1].point_data['Vitesse']\n",
    "        v2 = meshes[2].point_data['Vitesse']\n",
    "        self.mean = np.mean([v0, v1, v2], axis=0)\n",
    "        print(f\"Mean velocities of shape : {self.mean.shape}\\n\\n {self.mean}\")\n",
    "\n",
    "    def forward(self):\n",
    "        # Return [mean_vx, mean_vy, mean_vz]\n",
    "        pred = torch.tensor(self.mean, dtype=torch.float)\n",
    "        return pred\n",
    "    \n",
    "    def test_model(self, meshes):\n",
    "        # test the model on a sequence of meshes\n",
    "        # start from time t=2 and predict each step until the end\n",
    "        # use the previous time steps to predict the next one\n",
    "        # the final error is 1/T * sum_t sqrt(1/N * sum_n (x_t - x_t_pred)^2)\n",
    "\n",
    "        # create the ground truth data\n",
    "        edge_index, edge_attr = get_geometric_data(meshes[0])\n",
    "        x_list_truth = []\n",
    "        for time_step in range(len(meshes)):\n",
    "            node_features = np.hstack([\n",
    "                meshes[time_step].points,\n",
    "                meshes[time_step].point_data['Vitesse'],\n",
    "                meshes[time_step].point_data['Pression'].reshape(-1, 1)\n",
    "            ]) # Shape: (num_nodes, 7)\n",
    "            node_features = torch.tensor(node_features, dtype=torch.float)\n",
    "            x_list_truth.append(node_features)\n",
    "\n",
    "        graph_data = Data(x=x_list_truth[1], edge_index=edge_index, edge_attr=edge_attr)\n",
    "\n",
    "        # predict each time step\n",
    "        total_error = 0\n",
    "        list_errors = []\n",
    "        for i in range(2, len(meshes)):\n",
    "            v = self.forward()\n",
    "            v_truth = x_list_truth[i][:, 3:6]\n",
    "            \n",
    "            error = F.mse_loss(v, v_truth)/len(meshes[0].points)\n",
    "            list_errors.append(error.item())\n",
    "            total_error += error.item()\n",
    "\n",
    "        total_error /= len(meshes)\n",
    "        print(f\"Total error: {total_error:.4f}\")\n",
    "        return total_error, list_errors"
   ]
  },
  {
   "cell_type": "code",
   "execution_count": 16,
   "metadata": {},
   "outputs": [
    {
     "name": "stdout",
     "output_type": "stream",
     "text": [
      "Loaded 80 timesteps from c:\\Users\\alexi\\Documents\\mines\\S5\\idsc\\data challenge janvier\\aneurysm_project\\4Students_AnXplore03\\AllFields_Resultats_MESH_219.xdmf\n",
      "\n",
      "Mean velocities of shape : (11364, 3)\n",
      "\n",
      " [[-3.7708682e-13 -9.3329783e-14  1.3394536e-13]\n",
      " [-7.7942194e-13 -2.3022418e-13  1.4884032e-13]\n",
      " [ 0.0000000e+00  0.0000000e+00  0.0000000e+00]\n",
      " ...\n",
      " [ 1.6650307e+02 -1.6343834e+02 -1.9401361e+00]\n",
      " [ 9.8446411e+01  1.5294223e+02  1.6166740e+01]\n",
      " [ 1.2832561e+02 -3.3332870e+00 -1.7273294e+01]]\n",
      "Total error: 0.2780\n"
     ]
    }
   ],
   "source": [
    "model = MeanPredictor()\n",
    "xdmf_path = osp.join(os.getcwd(), \"4Students_AnXplore03\", \"AllFields_Resultats_MESH_219.xdmf\")\n",
    "meshes = xdmf_to_meshes(xdmf_path)\n",
    "model.train_model(meshes)\n",
    "total_error, list_errors = model.test_model(meshes)"
   ]
  },
  {
   "cell_type": "code",
   "execution_count": 17,
   "metadata": {},
   "outputs": [
    {
     "data": {
      "image/png": "[encoded data removed]",
      "text/plain": [
       "<Figure size 1000x500 with 1 Axes>"
      ]
     },
     "metadata": {},
     "output_type": "display_data"
    }
   ],
   "source": [
    "plt.rcParams['font.family'] = 'DejaVu Sans'\n",
    "plt.figure(figsize=(10, 5))\n",
    "\n",
    "plt.plot(np.array(list_errors, dtype=np.float32))\n",
    "plt.ylim(0, 8)\n",
    "plt.xlabel(\"Time step\")\n",
    "plt.ylabel(\"MSE\")\n",
    "plt.title(\"MSE per time step, Baseline model\")\n",
    "plt.savefig(\"MSE_per_time_step.png\")\n",
    "plt.savefig(\"MSE_per_time_step.png\")\n",
    "plt.show()"
   ]
  },
  {
   "cell_type": "code",
   "execution_count": 40,
   "metadata": {},
   "outputs": [
    {
     "name": "stdout",
     "output_type": "stream",
     "text": [
      "80\n",
      "<meshio mesh object>\n",
      "  Number of points: 11446\n",
      "  Number of cells:\n",
      "    tetra: 55472\n",
      "  Point data: Vitesse, Pression\n",
      "(284,) non zero speed values in the third time step\n",
      "(176,) non zero pression values in the third time step\n",
      "Mean velocities of shape : (11446, 3)\n",
      "\n",
      " [[ 3.3425620e-13 -1.7035986e-14 -8.9197835e-14]\n",
      " [ 1.3281642e-13 -1.4637968e-14 -3.2407125e-14]\n",
      " [-1.5653147e-13  3.5109512e-14  2.7174199e-14]\n",
      " ...\n",
      " [ 5.6644815e-01 -1.3842656e+01  9.9625006e+00]\n",
      " [ 3.1549466e+02 -7.0885872e+01 -1.5113538e+01]\n",
      " [ 1.5478377e+02 -3.4617542e+02  1.1962168e+00]]\n",
      "(30723,) non zero speed values in the third time step\n",
      "(176,) non zero pression values in the third time step\n",
      "(30723,) non zero speed values in the 10th time step\n",
      "(176,) non zero pression values in the 10th time step\n",
      "Saving predicted meshes to c:\\Users\\alexi\\Documents\\mines\\S5\\idsc\\data challenge janvier\\aneurysm_project\\IDSC2025_AnXplore_cropped_test_case/4Students_test_case_cropped/TEST_AllFields_Resultats_MESH_1_predicted.xdmf\n",
      "Time series written to c:\\Users\\alexi\\Documents\\mines\\S5\\idsc\\data challenge janvier\\aneurysm_project\\IDSC2025_AnXplore_cropped_test_case/4Students_test_case_cropped/TEST_AllFields_Resultats_MESH_1_predicted.xdmf and c:\\Users\\alexi\\Documents\\mines\\S5\\idsc\\data challenge janvier\\aneurysm_project\\IDSC2025_AnXplore_cropped_test_case/4Students_test_case_cropped/TEST_AllFields_Resultats_MESH_1_predicted.h5\n"
     ]
    }
   ],
   "source": [
    "def predict_mean(file):\n",
    "    \"\"\"\n",
    "    Predicts all time steps using the given model\n",
    "    model : MeanPredictor (torch.nn.Module)\n",
    "    file : (str) path to a .xdmf file with only the three first \n",
    "    time steps that are filled (and limit conditions for all time steps)\n",
    "    \"\"\"\n",
    "\n",
    "    # get the meshes\n",
    "    meshes = xdmf_to_meshes(f\"{file}.xdmf\", verbose=False)\n",
    "    print(len(meshes))\n",
    "    print(meshes[0])\n",
    "    predicted_meshes = meshes[:3]\n",
    "    # print(meshes)\n",
    "    print(f\"{meshes[3].point_data['Vitesse'].nonzero()[0].shape} non zero speed values in the third time step\")\n",
    "    # print(f\"{meshes[10].point_data['Vitesse'].nonzero()[0].shape} non zero speed values in the 10th time step\")\n",
    "    print(f\"{meshes[3].point_data['Pression'].nonzero()[0].shape} non zero pression values in the third time step\")\n",
    "\n",
    "    model = MeanPredictor()\n",
    "    model.train_model(meshes)\n",
    "\n",
    "    v_list_pred = [\n",
    "        meshes[0].point_data['Vitesse'],\n",
    "        meshes[1].point_data['Vitesse'],\n",
    "        meshes[2].point_data['Vitesse']\n",
    "        ]\n",
    "\n",
    "    for time_step in range(3, len(meshes)):\n",
    "        # print(f\"Predicting time step {time_step}\")\n",
    "        v_pred = model.forward()\n",
    "       \n",
    "        v_list_pred.append(v_pred.cpu().detach().numpy())\n",
    "\n",
    "        # update predicted_meshes\n",
    "        pred_mesh = meshes[time_step].copy()\n",
    "        pred_mesh.point_data['Vitesse'] = v_pred.cpu().detach().numpy()\n",
    "        predicted_meshes.append(pred_mesh)\n",
    "    \n",
    "    print(f\"{predicted_meshes[3].point_data['Vitesse'].nonzero()[0].shape} non zero speed values in the third time step\")\n",
    "    print(f\"{predicted_meshes[3].point_data['Pression'].nonzero()[0].shape} non zero pression values in the third time step\")\n",
    "    print(f\"{predicted_meshes[10].point_data['Vitesse'].nonzero()[0].shape} non zero speed values in the 10th time step\")\n",
    "    print(f\"{predicted_meshes[10].point_data['Pression'].nonzero()[0].shape} non zero pression values in the 10th time step\")\n",
    "\n",
    "    file_name_pred = osp.join(\n",
    "        os.getcwd(),\n",
    "        f\"{file}_predicted.xdmf\"\n",
    "    )\n",
    "    print(f\"Saving predicted meshes to {file_name_pred}\")\n",
    "    meshes_to_xdmf(file_name_pred, predicted_meshes)\n",
    "    return v_list_pred\n",
    "\n",
    "    \n",
    "test_file = \"IDSC2025_AnXplore_cropped_test_case/4Students_test_case_cropped/TEST_AllFields_Resultats_MESH_1\"\n",
    "folder_path = osp.join(os.getcwd(), test_file)\n",
    "v_list_pred = predict_mean(folder_path)"
   ]
  },
  {
   "cell_type": "code",
   "execution_count": 41,
   "metadata": {},
   "outputs": [
    {
     "data": {
      "text/plain": [
       "array([[[ 2.81161270e-13, -1.73838452e-14, -7.70491323e-14],\n",
       "        [ 1.12672180e-13, -1.37880531e-14, -2.82337630e-14],\n",
       "        [-1.34961812e-13,  3.20408983e-14,  2.40435198e-14],\n",
       "        ...,\n",
       "        [ 9.14276600e-01, -1.43040590e+01,  1.10745163e+01],\n",
       "        [ 2.87247559e+02, -6.33707161e+01, -1.44549007e+01],\n",
       "        [ 1.42823685e+02, -3.17690613e+02,  6.38828278e-01]],\n",
       "\n",
       "       [[ 3.31998833e-13, -1.13034624e-14, -8.58322406e-14],\n",
       "        [ 1.31918795e-13, -1.22454579e-14, -3.12071705e-14],\n",
       "        [-1.55164306e-13,  3.21878415e-14,  2.62503032e-14],\n",
       "        ...,\n",
       "        [ 1.55023360e+00, -1.31981125e+01,  9.80464268e+00],\n",
       "        [ 3.11076477e+02, -7.06360703e+01, -1.54602461e+01],\n",
       "        [ 1.52733749e+02, -3.41872131e+02,  1.09566641e+00]],\n",
       "\n",
       "       [[ 3.89608511e-13, -2.24206504e-14, -1.04712124e-13],\n",
       "        [ 1.53858290e-13, -1.78803895e-14, -3.77804376e-14],\n",
       "        [-1.79468311e-13,  4.10997937e-14,  3.12287732e-14],\n",
       "        ...,\n",
       "        [-7.65165746e-01, -1.40257998e+01,  9.00834179e+00],\n",
       "        [ 3.48159973e+02, -7.86508255e+01, -1.54254704e+01],\n",
       "        [ 1.68793869e+02, -3.78963531e+02,  1.85415578e+00]],\n",
       "\n",
       "       ...,\n",
       "\n",
       "       [[ 3.34256196e-13, -1.70359857e-14, -8.91978345e-14],\n",
       "        [ 1.32816420e-13, -1.46379677e-14, -3.24071248e-14],\n",
       "        [-1.56531472e-13,  3.51095123e-14,  2.71741993e-14],\n",
       "        ...,\n",
       "        [ 5.66448152e-01, -1.38426561e+01,  9.96250057e+00],\n",
       "        [ 3.15494659e+02, -7.08858719e+01, -1.51135378e+01],\n",
       "        [ 1.54783768e+02, -3.46175415e+02,  1.19621682e+00]],\n",
       "\n",
       "       [[ 3.34256196e-13, -1.70359857e-14, -8.91978345e-14],\n",
       "        [ 1.32816420e-13, -1.46379677e-14, -3.24071248e-14],\n",
       "        [-1.56531472e-13,  3.51095123e-14,  2.71741993e-14],\n",
       "        ...,\n",
       "        [ 5.66448152e-01, -1.38426561e+01,  9.96250057e+00],\n",
       "        [ 3.15494659e+02, -7.08858719e+01, -1.51135378e+01],\n",
       "        [ 1.54783768e+02, -3.46175415e+02,  1.19621682e+00]],\n",
       "\n",
       "       [[ 3.34256196e-13, -1.70359857e-14, -8.91978345e-14],\n",
       "        [ 1.32816420e-13, -1.46379677e-14, -3.24071248e-14],\n",
       "        [-1.56531472e-13,  3.51095123e-14,  2.71741993e-14],\n",
       "        ...,\n",
       "        [ 5.66448152e-01, -1.38426561e+01,  9.96250057e+00],\n",
       "        [ 3.15494659e+02, -7.08858719e+01, -1.51135378e+01],\n",
       "        [ 1.54783768e+02, -3.46175415e+02,  1.19621682e+00]]],\n",
       "      shape=(80, 11446, 3), dtype=float32)"
      ]
     },
     "execution_count": 41,
     "metadata": {},
     "output_type": "execute_result"
    }
   ],
   "source": [
    "v_list_pred = np.array(v_list_pred)\n",
    "v_list_pred"
   ]
  },
  {
   "cell_type": "code",
   "execution_count": 42,
   "metadata": {},
   "outputs": [
    {
     "data": {
      "image/png": "[encoded data removed]",
      "text/plain": [
       "<Figure size 640x480 with 1 Axes>"
      ]
     },
     "metadata": {},
     "output_type": "display_data"
    }
   ],
   "source": [
    "for i in range(5):\n",
    "    plt.plot(\n",
    "        v_list_pred[:, -i, :]\n",
    "    )"
   ]
  },
  {
   "cell_type": "code",
   "execution_count": 43,
   "metadata": {},
   "outputs": [
    {
     "name": "stdout",
     "output_type": "stream",
     "text": [
      "80\n",
      "<meshio mesh object>\n",
      "  Number of points: 13082\n",
      "  Number of cells:\n",
      "    tetra: 64148\n",
      "  Point data: Vitesse, Pression\n",
      "(313,) non zero speed values in the third time step\n",
      "(207,) non zero pression values in the third time step\n",
      "Mean velocities of shape : (13082, 3)\n",
      "\n",
      " [[ 3.5199252e-13 -3.3492401e-13 -9.2674695e-14]\n",
      " [ 1.6094950e-13 -1.4341783e-13 -3.3392360e-14]\n",
      " [ 5.7135324e-13 -5.0142139e-13 -9.2874960e-14]\n",
      " ...\n",
      " [ 2.8988513e+02 -2.3468056e+02 -9.7285157e-01]\n",
      " [ 3.2947238e+02 -1.7699138e+02  9.1611681e+00]\n",
      " [-1.2152508e+01 -3.6326580e+01  4.0566978e+00]]\n",
      "(35024,) non zero speed values in the third time step\n",
      "(207,) non zero pression values in the third time step\n",
      "(35024,) non zero speed values in the 10th time step\n",
      "(207,) non zero pression values in the 10th time step\n",
      "Saving predicted meshes to c:\\Users\\alexi\\Documents\\mines\\S5\\idsc\\data challenge janvier\\aneurysm_project\\4Students_Validation_cases_cropped-20250124T100628Z-001/4Students_Validation_cases_cropped/VAL_AllFields_Resultats_MESH_160_predicted.xdmf\n",
      "Time series written to c:\\Users\\alexi\\Documents\\mines\\S5\\idsc\\data challenge janvier\\aneurysm_project\\4Students_Validation_cases_cropped-20250124T100628Z-001/4Students_Validation_cases_cropped/VAL_AllFields_Resultats_MESH_160_predicted.xdmf and c:\\Users\\alexi\\Documents\\mines\\S5\\idsc\\data challenge janvier\\aneurysm_project\\4Students_Validation_cases_cropped-20250124T100628Z-001/4Students_Validation_cases_cropped/VAL_AllFields_Resultats_MESH_160_predicted.h5\n"
     ]
    }
   ],
   "source": [
    "test_file = \"4Students_Validation_cases_cropped-20250124T100628Z-001/4Students_Validation_cases_cropped/VAL_AllFields_Resultats_MESH_160\"\n",
    "folder_path = osp.join(os.getcwd(), test_file)\n",
    "v_list_pred = predict_mean(folder_path)"
   ]
  },
  {
   "cell_type": "code",
   "execution_count": 44,
   "metadata": {},
   "outputs": [
    {
     "data": {
      "text/plain": [
       "array([[[ 3.1978887e-13, -2.9629378e-13, -8.2113109e-14],\n",
       "        [ 1.4458172e-13, -1.2635457e-13, -2.9449316e-14],\n",
       "        [ 5.1135615e-13, -4.4150401e-13, -8.1678194e-14],\n",
       "        ...,\n",
       "        [ 2.6319366e+02, -2.1385570e+02, -7.9408920e-01],\n",
       "        [ 3.0110660e+02, -1.6179140e+02,  8.2353029e+00],\n",
       "        [-1.2037744e+01, -3.6908768e+01,  4.0032897e+00]],\n",
       "\n",
       "       [[ 3.4903485e-13, -3.2404629e-13, -9.0034324e-14],\n",
       "        [ 1.5951366e-13, -1.3874608e-13, -3.2395964e-14],\n",
       "        [ 5.6674544e-13, -4.8527870e-13, -9.0161094e-14],\n",
       "        ...,\n",
       "        [ 2.8587646e+02, -2.3161551e+02, -8.3188027e-01],\n",
       "        [ 3.2496103e+02, -1.7511285e+02,  9.0398216e+00],\n",
       "        [-1.1602595e+01, -3.5944923e+01,  3.9848144e+00]],\n",
       "\n",
       "       [[ 3.8715380e-13, -3.8443202e-13, -1.0587665e-13],\n",
       "        [ 1.7875312e-13, -1.6515283e-13, -3.8331809e-14],\n",
       "        [ 6.3595819e-13, -5.7748137e-13, -1.0678558e-13],\n",
       "        ...,\n",
       "        [ 3.2058530e+02, -2.5857050e+02, -1.2925855e+00],\n",
       "        [ 3.6234955e+02, -1.9406989e+02,  1.0208381e+01],\n",
       "        [-1.2817184e+01, -3.6126045e+01,  4.1819897e+00]],\n",
       "\n",
       "       ...,\n",
       "\n",
       "       [[ 3.5199252e-13, -3.3492401e-13, -9.2674695e-14],\n",
       "        [ 1.6094950e-13, -1.4341783e-13, -3.3392360e-14],\n",
       "        [ 5.7135324e-13, -5.0142139e-13, -9.2874960e-14],\n",
       "        ...,\n",
       "        [ 2.8988513e+02, -2.3468056e+02, -9.7285157e-01],\n",
       "        [ 3.2947238e+02, -1.7699138e+02,  9.1611681e+00],\n",
       "        [-1.2152508e+01, -3.6326580e+01,  4.0566978e+00]],\n",
       "\n",
       "       [[ 3.5199252e-13, -3.3492401e-13, -9.2674695e-14],\n",
       "        [ 1.6094950e-13, -1.4341783e-13, -3.3392360e-14],\n",
       "        [ 5.7135324e-13, -5.0142139e-13, -9.2874960e-14],\n",
       "        ...,\n",
       "        [ 2.8988513e+02, -2.3468056e+02, -9.7285157e-01],\n",
       "        [ 3.2947238e+02, -1.7699138e+02,  9.1611681e+00],\n",
       "        [-1.2152508e+01, -3.6326580e+01,  4.0566978e+00]],\n",
       "\n",
       "       [[ 3.5199252e-13, -3.3492401e-13, -9.2674695e-14],\n",
       "        [ 1.6094950e-13, -1.4341783e-13, -3.3392360e-14],\n",
       "        [ 5.7135324e-13, -5.0142139e-13, -9.2874960e-14],\n",
       "        ...,\n",
       "        [ 2.8988513e+02, -2.3468056e+02, -9.7285157e-01],\n",
       "        [ 3.2947238e+02, -1.7699138e+02,  9.1611681e+00],\n",
       "        [-1.2152508e+01, -3.6326580e+01,  4.0566978e+00]]],\n",
       "      shape=(80, 13082, 3), dtype=float32)"
      ]
     },
     "execution_count": 44,
     "metadata": {},
     "output_type": "execute_result"
    }
   ],
   "source": [
    "v_list_pred = np.array(v_list_pred)\n",
    "v_list_pred"
   ]
  },
  {
   "cell_type": "code",
   "execution_count": 45,
   "metadata": {},
   "outputs": [
    {
     "data": {
      "image/png": "[encoded data removed]",
      "text/plain": [
       "<Figure size 640x480 with 1 Axes>"
      ]
     },
     "metadata": {},
     "output_type": "display_data"
    }
   ],
   "source": [
    "for i in range(5):\n",
    "    plt.plot(\n",
    "        v_list_pred[:, -i, :]\n",
    "    )"
   ]
  },
  {
   "cell_type": "code",
   "execution_count": 46,
   "metadata": {},
   "outputs": [
    {
     "name": "stdout",
     "output_type": "stream",
     "text": [
      "80\n",
      "<meshio mesh object>\n",
      "  Number of points: 12268\n",
      "  Number of cells:\n",
      "    tetra: 59995\n",
      "  Point data: Vitesse, Pression\n",
      "(266,) non zero speed values in the third time step\n",
      "(192,) non zero pression values in the third time step\n",
      "Mean velocities of shape : (12268, 3)\n",
      "\n",
      " [[ 0.00000000e+00  0.00000000e+00  0.00000000e+00]\n",
      " [ 0.00000000e+00  0.00000000e+00  0.00000000e+00]\n",
      " [ 0.00000000e+00  3.56679990e-13  0.00000000e+00]\n",
      " ...\n",
      " [ 2.98991180e+02  3.29376259e+01  3.46208496e+01]\n",
      " [ 3.85316582e+01 -2.41173706e+01  2.12123089e+01]\n",
      " [ 3.42529022e+02 -1.09626526e+02 -9.60763836e+00]]\n",
      "(32966,) non zero speed values in the third time step\n",
      "(192,) non zero pression values in the third time step\n",
      "(32966,) non zero speed values in the 10th time step\n",
      "(192,) non zero pression values in the 10th time step\n",
      "Saving predicted meshes to c:\\Users\\alexi\\Documents\\mines\\S5\\idsc\\data challenge janvier\\aneurysm_project\\4Students_Validation_cases_cropped-20250124T100628Z-001/4Students_Validation_cases_cropped/VAL_AllFields_Resultats_MESH_167_predicted.xdmf\n",
      "Time series written to c:\\Users\\alexi\\Documents\\mines\\S5\\idsc\\data challenge janvier\\aneurysm_project\\4Students_Validation_cases_cropped-20250124T100628Z-001/4Students_Validation_cases_cropped/VAL_AllFields_Resultats_MESH_167_predicted.xdmf and c:\\Users\\alexi\\Documents\\mines\\S5\\idsc\\data challenge janvier\\aneurysm_project\\4Students_Validation_cases_cropped-20250124T100628Z-001/4Students_Validation_cases_cropped/VAL_AllFields_Resultats_MESH_167_predicted.h5\n"
     ]
    }
   ],
   "source": [
    "test_file = \"4Students_Validation_cases_cropped-20250124T100628Z-001/4Students_Validation_cases_cropped/VAL_AllFields_Resultats_MESH_167\"\n",
    "folder_path = osp.join(os.getcwd(), test_file)\n",
    "v_list_pred = predict_mean(folder_path)"
   ]
  },
  {
   "cell_type": "markdown",
   "metadata": {},
   "source": [
    "# Message passing model, t to t+1"
   ]
  },
  {
   "cell_type": "code",
   "execution_count": 10,
   "metadata": {},
   "outputs": [],
   "source": [
    "from models.GNNPredictor import GNNPredictor"
   ]
  },
  {
   "cell_type": "code",
   "execution_count": 27,
   "metadata": {},
   "outputs": [],
   "source": [
    "dataset = data[:1000] # use only the first 100 time steps for computational reasons\n",
    "\n",
    "# Create a DataLoader with batch support\n",
    "batch_size = 16\n",
    "loader = DataLoader(dataset, batch_size=batch_size, shuffle=True)\n",
    "\n",
    "# Instantiate Model and Optimizer\n",
    "model = GNNPredictor()\n",
    "optimizer = torch.optim.Adam(model.parameters(), lr=0.01)"
   ]
  },
  {
   "cell_type": "code",
   "execution_count": 23,
   "metadata": {},
   "outputs": [
    {
     "name": "stderr",
     "output_type": "stream",
     "text": [
      " 10%|█         | 1/10 [00:06<01:01,  6.82s/it]"
     ]
    },
    {
     "name": "stdout",
     "output_type": "stream",
     "text": [
      "Epoch 0 | Loss: 1609330.8672\n"
     ]
    },
    {
     "name": "stderr",
     "output_type": "stream",
     "text": [
      "100%|██████████| 10/10 [01:10<00:00,  7.06s/it]"
     ]
    },
    {
     "name": "stdout",
     "output_type": "stream",
     "text": [
      "Training complete!\n"
     ]
    },
    {
     "name": "stderr",
     "output_type": "stream",
     "text": [
      "\n"
     ]
    }
   ],
   "source": [
    "# Train the model\n",
    "model.train_model(loader, optimizer, epochs=2)\n",
    "\n",
    "# Save model\n",
    "torch.save(model.state_dict(), \"trained_models/gnn_model_small_data_10_epochs.pth\")\n",
    "\n",
    "print(\"Training complete!\")"
   ]
  },
  {
   "cell_type": "code",
   "execution_count": 24,
   "metadata": {},
   "outputs": [
    {
     "name": "stderr",
     "output_type": "stream",
     "text": [
      "C:\\Users\\alexi\\AppData\\Local\\Temp\\ipykernel_64136\\485948237.py:3: FutureWarning: You are using `torch.load` with `weights_only=False` (the current default value), which uses the default pickle module implicitly. It is possible to construct malicious pickle data which will execute arbitrary code during unpickling (See https://github.com/pytorch/pytorch/blob/main/SECURITY.md#untrusted-models for more details). In a future release, the default value for `weights_only` will be flipped to `True`. This limits the functions that could be executed during unpickling. Arbitrary objects will no longer be allowed to be loaded via this mode unless they are explicitly allowlisted by the user via `torch.serialization.add_safe_globals`. We recommend you start setting `weights_only=True` for any use case where you don't have full control of the loaded file. Please open an issue on GitHub for any issues related to this experimental feature.\n",
      "  model.load_state_dict(torch.load(\"trained_models/gnn_model_small_data_10_epochs.pth\"))\n"
     ]
    },
    {
     "name": "stdout",
     "output_type": "stream",
     "text": [
      "Loaded 80 timesteps from c:\\Users\\alexi\\Documents\\mines\\S5\\idsc\\data challenge janvier\\aneurysm_project\\4Students_AnXplore03\\AllFields_Resultats_MESH_219.xdmf\n",
      "\n",
      "Total error: 2.2920\n"
     ]
    }
   ],
   "source": [
    "# load model from gnn_model.pth file\n",
    "model = GNNPredictor()\n",
    "model.load_state_dict(torch.load(\"trained_models/gnn_model_small_data_10_epochs.pth\"))\n",
    "xdmf_path = osp.join(os.getcwd(), \"4Students_AnXplore03\", \"AllFields_Resultats_MESH_219.xdmf\")\n",
    "meshes = xdmf_to_meshes(xdmf_path)\n",
    "total_error, list_errors = model.test_model(meshes)"
   ]
  },
  {
   "cell_type": "code",
   "execution_count": 42,
   "metadata": {},
   "outputs": [],
   "source": [
    "# debug code for some error I honestly didn't understand that made the kernel crash\n",
    "# import os\n",
    "# import matplotlib\n",
    "# import shutil\n",
    "\n",
    "# cache_dir = matplotlib.get_cachedir()\n",
    "# shutil.rmtree(cache_dir)"
   ]
  },
  {
   "cell_type": "code",
   "execution_count": 25,
   "metadata": {},
   "outputs": [
    {
     "data": {
      "image/png": "[encoded data removed]",
      "text/plain": [
       "<Figure size 1000x500 with 1 Axes>"
      ]
     },
     "metadata": {},
     "output_type": "display_data"
    }
   ],
   "source": [
    "plt.rcParams['font.family'] = 'DejaVu Sans'\n",
    "plt.figure(figsize=(10, 5))\n",
    "\n",
    "plt.plot(np.array(list_errors, dtype=np.float32))\n",
    "plt.ylim(0, 8)\n",
    "plt.xlabel(\"Time step\")\n",
    "plt.ylabel(\"MSE\")\n",
    "plt.title(\"MSE per time step, GNN model, 100 data, 10 epochs\")\n",
    "plt.savefig(\"MSE_per_time_step.png\")\n",
    "plt.show()"
   ]
  },
  {
   "cell_type": "markdown",
   "metadata": {},
   "source": [
    "# Adam model : LSTMModel2"
   ]
  },
  {
   "cell_type": "code",
   "execution_count": 6,
   "metadata": {},
   "outputs": [],
   "source": [
    "from models.LSTMModel2 import LSTMModel2"
   ]
  },
  {
   "cell_type": "code",
   "execution_count": 7,
   "metadata": {},
   "outputs": [
    {
     "name": "stderr",
     "output_type": "stream",
     "text": [
      "c:\\miniconda\\envs\\idsc_challenge_jan\\Lib\\site-packages\\torch_geometric\\deprecation.py:26: UserWarning: 'data.DataLoader' is deprecated, use 'loader.DataLoader' instead\n",
      "  warnings.warn(out)\n"
     ]
    }
   ],
   "source": [
    "dataset = data[:20] # use only the first 100 time steps for computational reasons\n",
    "\n",
    "# Create a DataLoader with batch support\n",
    "batch_size = 16\n",
    "loader = DataLoader(dataset, batch_size=batch_size, shuffle=True)\n",
    "\n",
    "# Instantiate Model and Optimizer\n",
    "model = LSTMModel2()\n",
    "optimizer = torch.optim.Adam(model.parameters(), lr=0.01)"
   ]
  },
  {
   "cell_type": "code",
   "execution_count": 8,
   "metadata": {},
   "outputs": [
    {
     "name": "stderr",
     "output_type": "stream",
     "text": [
      " 10%|█         | 1/10 [00:05<00:49,  5.54s/it]"
     ]
    },
    {
     "name": "stdout",
     "output_type": "stream",
     "text": [
      "Epoch 0 | Loss: 88802.6797\n"
     ]
    },
    {
     "name": "stderr",
     "output_type": "stream",
     "text": [
      "100%|██████████| 10/10 [00:36<00:00,  3.62s/it]"
     ]
    },
    {
     "name": "stdout",
     "output_type": "stream",
     "text": [
      "Training complete!\n"
     ]
    },
    {
     "name": "stderr",
     "output_type": "stream",
     "text": [
      "\n"
     ]
    }
   ],
   "source": [
    "# Train the model\n",
    "model.train_model(loader, optimizer, epochs=10)\n",
    "\n",
    "# Save model\n",
    "torch.save(model.state_dict(), \"trained_models/LSTMModel2_small_data_10_epochs.pth\")\n",
    "\n",
    "print(\"Training complete!\")"
   ]
  },
  {
   "cell_type": "code",
   "execution_count": 9,
   "metadata": {},
   "outputs": [
    {
     "name": "stderr",
     "output_type": "stream",
     "text": [
      "C:\\Users\\alexi\\AppData\\Local\\Temp\\ipykernel_64136\\2237888627.py:3: FutureWarning: You are using `torch.load` with `weights_only=False` (the current default value), which uses the default pickle module implicitly. It is possible to construct malicious pickle data which will execute arbitrary code during unpickling (See https://github.com/pytorch/pytorch/blob/main/SECURITY.md#untrusted-models for more details). In a future release, the default value for `weights_only` will be flipped to `True`. This limits the functions that could be executed during unpickling. Arbitrary objects will no longer be allowed to be loaded via this mode unless they are explicitly allowlisted by the user via `torch.serialization.add_safe_globals`. We recommend you start setting `weights_only=True` for any use case where you don't have full control of the loaded file. Please open an issue on GitHub for any issues related to this experimental feature.\n",
      "  model.load_state_dict(torch.load(\"trained_models/LSTMModel2_small_data_10_epochs.pth\"))\n"
     ]
    },
    {
     "name": "stdout",
     "output_type": "stream",
     "text": [
      "Loaded 80 timesteps from c:\\Users\\alexi\\Documents\\mines\\S5\\idsc\\data challenge janvier\\aneurysm_project\\4Students_AnXplore03\\AllFields_Resultats_MESH_219.xdmf\n",
      "\n",
      "x_list_truth[0].shape = torch.Size([11364, 7])\n",
      "Initial graph_data.x shape: torch.Size([11364, 7])\n",
      "Total error: 2.6206\n"
     ]
    }
   ],
   "source": [
    "# load model from gnn_model.pth file\n",
    "model = LSTMModel2()\n",
    "model.load_state_dict(torch.load(\"trained_models/LSTMModel2_small_data_10_epochs.pth\"))\n",
    "xdmf_path = osp.join(os.getcwd(), \"4Students_AnXplore03\", \"AllFields_Resultats_MESH_219.xdmf\")\n",
    "meshes = xdmf_to_meshes(xdmf_path)\n",
    "total_error, list_errors = model.test_model(meshes)"
   ]
  },
  {
   "cell_type": "code",
   "execution_count": null,
   "metadata": {},
   "outputs": [],
   "source": [
    "# debug code for some error I honestly didn't understand that made the kernel crash\n",
    "# import os\n",
    "# import matplotlib\n",
    "# import shutil\n",
    "\n",
    "# cache_dir = matplotlib.get_cachedir()\n",
    "# shutil.rmtree(cache_dir)"
   ]
  },
  {
   "cell_type": "code",
   "execution_count": 12,
   "metadata": {},
   "outputs": [
    {
     "data": {
      "image/png": "[encoded data removed]",
      "text/plain": [
       "<Figure size 1000x500 with 1 Axes>"
      ]
     },
     "metadata": {},
     "output_type": "display_data"
    }
   ],
   "source": [
    "plt.rcParams['font.family'] = 'DejaVu Sans'\n",
    "plt.figure(figsize=(10, 5))\n",
    "\n",
    "plt.plot(np.array(list_errors, dtype=np.float32))\n",
    "# plt.ylim(0, 8)\n",
    "plt.xlabel(\"Time step\")\n",
    "plt.ylabel(\"MSE\")\n",
    "plt.title(\"MSE per time step, LSTM model, 100 data, 10 epochs\")\n",
    "plt.savefig(\"MSE_per_time_step.png\")\n",
    "plt.show()"
   ]
  },
  {
   "cell_type": "markdown",
   "metadata": {},
   "source": [
    "# Message passing model with RNN (RecurrentGNN)"
   ]
  },
  {
   "cell_type": "code",
   "execution_count": 2,
   "metadata": {},
   "outputs": [],
   "source": [
    "from models.RecurrentGNN import RecurrentGNN"
   ]
  },
  {
   "cell_type": "code",
   "execution_count": 34,
   "metadata": {},
   "outputs": [
    {
     "name": "stderr",
     "output_type": "stream",
     "text": [
      "c:\\miniconda\\envs\\idsc_challenge_jan\\Lib\\site-packages\\torch_geometric\\deprecation.py:26: UserWarning: 'data.DataLoader' is deprecated, use 'loader.DataLoader' instead\n",
      "  warnings.warn(out)\n"
     ]
    },
    {
     "ename": "",
     "evalue": "",
     "output_type": "error",
     "traceback": [
      "\u001b[1;31mThe Kernel crashed while executing code in the current cell or a previous cell. \n",
      "\u001b[1;31mPlease review the code in the cell(s) to identify a possible cause of the failure. \n",
      "\u001b[1;31mClick <a href='https://aka.ms/vscodeJupyterKernelCrash'>here</a> for more info. \n",
      "\u001b[1;31mView Jupyter <a href='command:jupyter.viewOutput'>log</a> for further details."
     ]
    }
   ],
   "source": [
    "dataset = data[:100] # use only the first 100 time steps for computational reasons\n",
    "\n",
    "# Create a DataLoader with batch support\n",
    "batch_size = 16\n",
    "loader = DataLoader(dataset, batch_size=batch_size, shuffle=True)\n",
    "\n",
    "# Instantiate Model and Optimizer\n",
    "model = RecurrentGNN()\n",
    "optimizer = torch.optim.Adam(model.parameters(), lr=0.01)"
   ]
  },
  {
   "cell_type": "code",
   "execution_count": 46,
   "metadata": {},
   "outputs": [
    {
     "name": "stderr",
     "output_type": "stream",
     "text": [
      " 10%|█         | 1/10 [10:47<1:37:06, 647.43s/it]"
     ]
    },
    {
     "name": "stdout",
     "output_type": "stream",
     "text": [
      "Epoch 0 | Loss: 7516435.5938\n"
     ]
    },
    {
     "name": "stderr",
     "output_type": "stream",
     "text": [
      " 30%|███       | 3/10 [52:28<2:14:22, 1151.81s/it]"
     ]
    }
   ],
   "source": [
    "# Train the model\n",
    "model.train_model(loader, optimizer, epochs=10)\n",
    "\n",
    "# Save model\n",
    "torch.save(model.state_dict(), \"trained_models/recurrent_gnn_model_small_data_3_epochs.pth\")\n",
    "\n",
    "print(\"Training complete!\")"
   ]
  },
  {
   "cell_type": "code",
   "execution_count": 3,
   "metadata": {},
   "outputs": [
    {
     "name": "stdout",
     "output_type": "stream",
     "text": [
      "Loaded 80 timesteps from c:\\Users\\alexi\\Documents\\mines\\S5\\idsc\\data challenge janvier\\aneurysm_project\\4Students_AnXplore03\\AllFields_Resultats_MESH_219.xdmf\n",
      "\n",
      "Total error: 2.5815\n"
     ]
    }
   ],
   "source": [
    "# load model from gnn_model.pth file\n",
    "model = RecurrentGNN()\n",
    "model.load_state_dict(torch.load(\"trained_models/recurrent_gnn_model_small_data_3_epochs.pth\", weights_only=True))\n",
    "xdmf_path = osp.join(os.getcwd(), \"4Students_AnXplore03\", \"AllFields_Resultats_MESH_219.xdmf\")\n",
    "meshes = xdmf_to_meshes(xdmf_path)\n",
    "total_error, list_errors = model.test_model(meshes)"
   ]
  },
  {
   "cell_type": "code",
   "execution_count": 48,
   "metadata": {},
   "outputs": [],
   "source": [
    "# debug code for some error I honestly didn't understand that made the kernel crash\n",
    "# import os\n",
    "# import matplotlib\n",
    "# import shutil\n",
    "\n",
    "# cache_dir = matplotlib.get_cachedir()\n",
    "# shutil.rmtree(cache_dir)"
   ]
  },
  {
   "cell_type": "code",
   "execution_count": null,
   "metadata": {},
   "outputs": [
    {
     "data": {
      "image/png": "[encoded data removed]",
      "text/plain": [
       "<Figure size 1000x500 with 1 Axes>"
      ]
     },
     "metadata": {},
     "output_type": "display_data"
    }
   ],
   "source": [
    "plt.rcParams['font.family'] = 'DejaVu Sans'\n",
    "plt.figure(figsize=(10, 5))\n",
    "\n",
    "plt.plot(np.array(list_errors, dtype=np.float32))\n",
    "plt.ylim(0, 8)\n",
    "plt.xlabel(\"Time step\")\n",
    "plt.ylabel(\"MSE\")\n",
    "plt.title(\"MSE per time step, Recurrent GNN model, 20 data, 10 epochs\")\n",
    "plt.savefig(\"MSE_per_time_step.png\")\n",
    "plt.show()"
   ]
  },
  {
   "cell_type": "markdown",
   "metadata": {},
   "source": [
    "# Message passing model with RNN and two time steps (RecurrentDoubleGNN)"
   ]
  },
  {
   "cell_type": "code",
   "execution_count": 6,
   "metadata": {},
   "outputs": [],
   "source": [
    "from models.RecurrentDoubleGNN import RecurrentDoubleGNN"
   ]
  },
  {
   "cell_type": "code",
   "execution_count": 21,
   "metadata": {},
   "outputs": [],
   "source": [
    "dataset = [\n",
    "    (data_two['features'][i], data_two['target'][i])\n",
    "    for i in range(20) # use only the first 100 time steps for computational reasons\n",
    "    # for i in range(len(data['features']))\n",
    "]\n",
    "\n",
    "# Create a DataLoader with batch support\n",
    "batch_size = 16\n",
    "loader = DataLoader(dataset, batch_size=batch_size, shuffle=True)\n",
    "\n",
    "# Instantiate Model and Optimizer\n",
    "model = RecurrentDoubleGNN()\n",
    "optimizer = torch.optim.Adam(model.parameters(), lr=0.01)"
   ]
  },
  {
   "cell_type": "code",
   "execution_count": 22,
   "metadata": {},
   "outputs": [
    {
     "name": "stderr",
     "output_type": "stream",
     "text": [
      " 20%|██        | 1/5 [01:10<04:41, 70.27s/it]"
     ]
    },
    {
     "name": "stdout",
     "output_type": "stream",
     "text": [
      "Epoch 0 | Loss: 3391176.0000\n"
     ]
    },
    {
     "name": "stderr",
     "output_type": "stream",
     "text": [
      "100%|██████████| 5/5 [05:30<00:00, 66.11s/it]\n"
     ]
    },
    {
     "name": "stdout",
     "output_type": "stream",
     "text": [
      "Training complete!\n"
     ]
    }
   ],
   "source": [
    "# Train the model\n",
    "model.train_model(loader, optimizer, epochs=5)\n",
    "\n",
    "# Save model\n",
    "torch.save(model.state_dict(), \"trained_models/recurrent_double_gnn_model_5_epochs.pth\")\n",
    "\n",
    "print(\"Training complete!\")"
   ]
  },
  {
   "cell_type": "code",
   "execution_count": 7,
   "metadata": {},
   "outputs": [
    {
     "name": "stdout",
     "output_type": "stream",
     "text": [
      "Loaded 80 timesteps from c:\\Users\\alexi\\Documents\\mines\\S5\\idsc\\data challenge janvier\\aneurysm_project\\4Students_AnXplore03\\AllFields_Resultats_MESH_219.xdmf\n",
      "\n"
     ]
    },
    {
     "name": "stderr",
     "output_type": "stream",
     "text": [
      "100%|██████████| 78/78 [02:49<00:00,  2.17s/it]\n"
     ]
    },
    {
     "name": "stdout",
     "output_type": "stream",
     "text": [
      "Total error: 2.6404\n"
     ]
    }
   ],
   "source": [
    "# load model from gnn_model.pth file\n",
    "model = RecurrentDoubleGNN()\n",
    "model.load_state_dict(torch.load(\"trained_models/recurrent_double_gnn_model_5_epochs.pth\", weights_only=True))\n",
    "xdmf_path = osp.join(os.getcwd(), \"4Students_AnXplore03\", \"AllFields_Resultats_MESH_219.xdmf\")\n",
    "meshes = xdmf_to_meshes(xdmf_path)\n",
    "total_error, list_errors = model.test_model(meshes)"
   ]
  },
  {
   "cell_type": "code",
   "execution_count": 8,
   "metadata": {},
   "outputs": [],
   "source": [
    "# debug code for some error I honestly didn't understand that made the kernel crash\n",
    "# import os\n",
    "# import matplotlib\n",
    "# import shutil\n",
    "\n",
    "# cache_dir = matplotlib.get_cachedir()\n",
    "# shutil.rmtree(cache_dir)"
   ]
  },
  {
   "cell_type": "code",
   "execution_count": 9,
   "metadata": {},
   "outputs": [
    {
     "data": {
      "image/png": "[encoded data removed]",
      "text/plain": [
       "<Figure size 1000x500 with 1 Axes>"
      ]
     },
     "metadata": {},
     "output_type": "display_data"
    }
   ],
   "source": [
    "plt.rcParams['font.family'] = 'DejaVu Sans'\n",
    "plt.figure(figsize=(10, 5))\n",
    "\n",
    "plt.plot(np.array(list_errors, dtype=np.float32))\n",
    "plt.ylim(0, 8)\n",
    "plt.xlabel(\"Time step\")\n",
    "plt.ylabel(\"MSE\")\n",
    "plt.title(\"MSE per time step, Recurrent Double GNN model, 20 data, 5 epochs\")\n",
    "plt.savefig(\"MSE_per_time_step.png\")\n",
    "plt.show()"
   ]
  },
  {
   "cell_type": "markdown",
   "metadata": {},
   "source": [
    "# Predict on real test dataset"
   ]
  },
  {
   "cell_type": "code",
   "execution_count": 2,
   "metadata": {},
   "outputs": [
    {
     "data": {
      "text/plain": [
       "device(type='cpu')"
      ]
     },
     "execution_count": 2,
     "metadata": {},
     "output_type": "execute_result"
    }
   ],
   "source": [
    "device = torch.device('cuda' if torch.cuda.is_available() else 'cpu')\n",
    "device"
   ]
  },
  {
   "cell_type": "code",
   "execution_count": null,
   "metadata": {},
   "outputs": [
    {
     "name": "stderr",
     "output_type": "stream",
     "text": [
      "C:\\Users\\alexi\\AppData\\Local\\Temp\\ipykernel_58008\\936772702.py:4: FutureWarning: You are using `torch.load` with `weights_only=False` (the current default value), which uses the default pickle module implicitly. It is possible to construct malicious pickle data which will execute arbitrary code during unpickling (See https://github.com/pytorch/pytorch/blob/main/SECURITY.md#untrusted-models for more details). In a future release, the default value for `weights_only` will be flipped to `True`. This limits the functions that could be executed during unpickling. Arbitrary objects will no longer be allowed to be loaded via this mode unless they are explicitly allowlisted by the user via `torch.serialization.add_safe_globals`. We recommend you start setting `weights_only=True` for any use case where you don't have full control of the loaded file. Please open an issue on GitHub for any issues related to this experimental feature.\n",
      "  model.load_state_dict(torch.load(\"trained_models/LSTMModel2_mid_data_10_epochs.pth\"))\n"
     ]
    },
    {
     "name": "stdout",
     "output_type": "stream",
     "text": [
      "80\n",
      "(284,) non zero speed values in the third time step\n",
      "(176,) non zero pression values in the third time step\n",
      "(34338,) non zero speed values in the third time step\n",
      "(11446,) non zero pression values in the third time step\n",
      "(34338,) non zero speed values in the 10th time step\n",
      "(11446,) non zero pression values in the 10th time step\n",
      "Saving predicted meshes to c:\\Users\\alexi\\Documents\\mines\\S5\\idsc\\data challenge janvier\\aneurysm_project\\IDSC2025_AnXplore_cropped_test_case/4Students_test_case_cropped/predicted.xdmf\n",
      "Time series written to c:\\Users\\alexi\\Documents\\mines\\S5\\idsc\\data challenge janvier\\aneurysm_project\\IDSC2025_AnXplore_cropped_test_case/4Students_test_case_cropped/predicted.xdmf and c:\\Users\\alexi\\Documents\\mines\\S5\\idsc\\data challenge janvier\\aneurysm_project\\IDSC2025_AnXplore_cropped_test_case/4Students_test_case_cropped/predicted.h5\n"
     ]
    }
   ],
   "source": [
    "from models.LSTMModel2 import LSTMModel2\n",
    "\n",
    "model = LSTMModel2()\n",
    "model.load_state_dict(torch.load(\"trained_models/LSTMModel2_mid_data_10_epochs.pth\"))\n",
    "\n",
    "def predict(model, file):\n",
    "    \"\"\"\n",
    "    Predicts all time steps using the given model\n",
    "    model : LSTMModel2 (torch.nn.Module)\n",
    "    file : (str) path to a .xdmf file with only the three first \n",
    "    time steps that are filled (and limit conditions for all time steps)\n",
    "    \"\"\"\n",
    "    model.eval()\n",
    "\n",
    "    # get the meshes\n",
    "    meshes = xdmf_to_meshes(file, verbose=False)\n",
    "    print(len(meshes))\n",
    "    predicted_meshes = meshes[:3]\n",
    "    # print(meshes)\n",
    "    print(f\"{meshes[3].point_data['Vitesse'].nonzero()[0].shape} non zero speed values in the third time step\")\n",
    "    # print(f\"{meshes[10].point_data['Vitesse'].nonzero()[0].shape} non zero speed values in the 10th time step\")\n",
    "    print(f\"{meshes[3].point_data['Pression'].nonzero()[0].shape} non zero pression values in the third time step\")\n",
    "\n",
    "    edge_index, edge_attr = get_geometric_data(meshes[0])\n",
    "    edge_index = edge_index.to(device)\n",
    "    edge_attr = edge_attr.to(device)\n",
    "\n",
    "    # Initialiser les données pour la prédiction\n",
    "    node_features = np.hstack([\n",
    "        meshes[2].points,  # Positions (x, y, z)\n",
    "        meshes[2].point_data['Vitesse'],  # Vitesses (vx, vy, vz)\n",
    "        meshes[2].point_data['Pression'].reshape(-1, 1)  # Pression\n",
    "    ])  # Shape: (num_nodes, 7)\n",
    "    x = torch.tensor(node_features, dtype=torch.float).to(device)\n",
    "    hidden_state, cell_state = None, None\n",
    "    x_list_pred = [meshes[2].point_data['Vitesse']]\n",
    "\n",
    "    for time_step in range(3, len(meshes)):\n",
    "        # print(f\"Predicting time step {time_step}\")\n",
    "        x_pred, hidden_state, cell_state = model.forward(x, edge_index, hidden_state, cell_state)\n",
    "\n",
    "        x = torch.cat([\n",
    "            torch.tensor(meshes[0].points, dtype=torch.float, device=x_pred.device),  # Les positions restent inchangées\n",
    "            x_pred,  # Les vitesses prédites\n",
    "            x[:, 6:7]  # La pression (dernière colonne de l'entrée précédente)\n",
    "        ], dim=1)\n",
    "        x_list_pred.append(x_pred.cpu().detach().numpy())\n",
    "\n",
    "        # update predicted_meshes\n",
    "        pred_mesh = meshes[time_step].copy()\n",
    "        pred_mesh.point_data['Vitesse'] = x_pred.cpu().detach().numpy()\n",
    "        pred_mesh.point_data['Pression'] = x[:, 6].cpu().detach().numpy()\n",
    "        predicted_meshes.append(pred_mesh)\n",
    "    \n",
    "    print(f\"{predicted_meshes[3].point_data['Vitesse'].nonzero()[0].shape} non zero speed values in the third time step\")\n",
    "    print(f\"{predicted_meshes[3].point_data['Pression'].nonzero()[0].shape} non zero pression values in the third time step\")\n",
    "    print(f\"{predicted_meshes[10].point_data['Vitesse'].nonzero()[0].shape} non zero speed values in the 10th time step\")\n",
    "    print(f\"{predicted_meshes[10].point_data['Pression'].nonzero()[0].shape} non zero pression values in the 10th time step\")\n",
    "\n",
    "    file_name_pred = osp.join(os.getcwd(), \"IDSC2025_AnXplore_cropped_test_case/4Students_test_case_cropped/predicted.xdmf\")\n",
    "    print(f\"Saving predicted meshes to {file_name_pred}\")\n",
    "    # if osp.exists(file_name_pred):\n",
    "    #     os.remove()file_name_pred\n",
    "    meshes_to_xdmf(file_name_pred, predicted_meshes)\n",
    "    return x_list_pred\n",
    "\n",
    "    \n",
    "test_file = \"IDSC2025_AnXplore_cropped_test_case/4Students_test_case_cropped/TEST_AllFields_Resultats_MESH_1.xdmf\"\n",
    "folder_path = osp.join(os.getcwd(), test_file)\n",
    "x_list_pred = predict(model, folder_path)"
   ]
  },
  {
   "cell_type": "code",
   "execution_count": 20,
   "metadata": {},
   "outputs": [
    {
     "data": {
      "text/plain": [
       "[array([[ 3.89608511e-13, -2.24206504e-14, -1.04712124e-13],\n",
       "        [ 1.53858290e-13, -1.78803895e-14, -3.77804376e-14],\n",
       "        [-1.79468311e-13,  4.10997937e-14,  3.12287732e-14],\n",
       "        ...,\n",
       "        [-7.65165746e-01, -1.40257998e+01,  9.00834179e+00],\n",
       "        [ 3.48159973e+02, -7.86508255e+01, -1.54254704e+01],\n",
       "        [ 1.68793869e+02, -3.78963531e+02,  1.85415578e+00]],\n",
       "       shape=(11446, 3), dtype=float32),\n",
       " array([[ 0.6653208 ,  5.3064055 ,  0.25294417],\n",
       "        [ 0.7947847 ,  6.280107  ,  0.2442867 ],\n",
       "        [ 1.2876376 ,  5.987255  ,  0.1185531 ],\n",
       "        ...,\n",
       "        [ 0.54667485,  7.557311  ,  0.3955866 ],\n",
       "        [ 2.2472193 ,  6.2367644 ,  0.18659133],\n",
       "        [ 4.5687575 ,  4.699953  , -0.03631232]],\n",
       "       shape=(11446, 3), dtype=float32),\n",
       " array([[-0.26977894,  7.637057  ,  0.3117539 ],\n",
       "        [-0.3273848 ,  7.5783577 ,  0.29889178],\n",
       "        [-0.29206476,  7.6053977 ,  0.30461594],\n",
       "        ...,\n",
       "        [ 0.6807138 ,  7.110108  ,  0.26812422],\n",
       "        [ 0.70693004,  7.153811  ,  0.27791902],\n",
       "        [ 0.7069465 ,  7.1576395 ,  0.27882522]],\n",
       "       shape=(11446, 3), dtype=float32),\n",
       " array([[0.42477453, 6.8646727 , 0.21328911],\n",
       "        [0.4230088 , 6.850457  , 0.21116984],\n",
       "        [0.4269706 , 6.8589745 , 0.21258152],\n",
       "        ...,\n",
       "        [0.69581115, 7.0941873 , 0.26425174],\n",
       "        [0.7060758 , 7.139865  , 0.27470034],\n",
       "        [0.70709884, 7.15604   , 0.2784331 ]],\n",
       "       shape=(11446, 3), dtype=float32),\n",
       " array([[0.44830787, 6.8760424 , 0.21616745],\n",
       "        [0.43154442, 6.8560557 , 0.21241933],\n",
       "        [0.44375217, 6.8679633 , 0.21475631],\n",
       "        ...,\n",
       "        [0.695536  , 7.094912  , 0.26442295],\n",
       "        [0.7060586 , 7.1401677 , 0.27477068],\n",
       "        [0.7070924 , 7.15608   , 0.27844235]],\n",
       "       shape=(11446, 3), dtype=float32),\n",
       " array([[0.44732177, 6.8755393 , 0.2160429 ],\n",
       "        [0.4312669 , 6.855865  , 0.21237746],\n",
       "        [0.4429289 , 6.867494  , 0.21464565],\n",
       "        ...,\n",
       "        [0.69555366, 7.0948334 , 0.26440448],\n",
       "        [0.70606124, 7.140146  , 0.27476555],\n",
       "        [0.7070929 , 7.156077  , 0.27844167]],\n",
       "       shape=(11446, 3), dtype=float32),\n",
       " array([[0.44735944, 6.8755584 , 0.21604761],\n",
       "        [0.43128002, 6.8558736 , 0.21237943],\n",
       "        [0.44298065, 6.8675237 , 0.2146526 ],\n",
       "        ...,\n",
       "        [0.69555295, 7.0948415 , 0.26440644],\n",
       "        [0.706061  , 7.1401477 , 0.27476603],\n",
       "        [0.7070929 , 7.1560774 , 0.27844173]],\n",
       "       shape=(11446, 3), dtype=float32),\n",
       " array([[0.4473585 , 6.875558  , 0.21604753],\n",
       "        [0.4312793 , 6.855873  , 0.2123793 ],\n",
       "        [0.4429766 , 6.8675213 , 0.21465206],\n",
       "        ...,\n",
       "        [0.6955527 , 7.0948405 , 0.26440617],\n",
       "        [0.706061  , 7.1401477 , 0.27476597],\n",
       "        [0.7070929 , 7.1560774 , 0.27844173]],\n",
       "       shape=(11446, 3), dtype=float32),\n",
       " array([[0.4473585 , 6.875558  , 0.21604753],\n",
       "        [0.43127954, 6.855873  , 0.2123793 ],\n",
       "        [0.44297755, 6.867522  , 0.21465221],\n",
       "        ...,\n",
       "        [0.6955527 , 7.0948405 , 0.2644062 ],\n",
       "        [0.706061  , 7.1401477 , 0.27476597],\n",
       "        [0.7070929 , 7.1560774 , 0.27844173]],\n",
       "       shape=(11446, 3), dtype=float32),\n",
       " array([[0.4473585 , 6.875558  , 0.21604753],\n",
       "        [0.43127954, 6.855873  , 0.2123793 ],\n",
       "        [0.44297755, 6.867522  , 0.21465221],\n",
       "        ...,\n",
       "        [0.6955527 , 7.0948405 , 0.2644062 ],\n",
       "        [0.706061  , 7.1401477 , 0.27476597],\n",
       "        [0.7070929 , 7.1560774 , 0.27844173]],\n",
       "       shape=(11446, 3), dtype=float32),\n",
       " array([[0.4473585 , 6.875558  , 0.21604753],\n",
       "        [0.43127954, 6.855873  , 0.2123793 ],\n",
       "        [0.44297755, 6.867522  , 0.21465221],\n",
       "        ...,\n",
       "        [0.6955527 , 7.0948405 , 0.2644062 ],\n",
       "        [0.706061  , 7.1401477 , 0.27476597],\n",
       "        [0.7070929 , 7.1560774 , 0.27844173]],\n",
       "       shape=(11446, 3), dtype=float32),\n",
       " array([[0.4473585 , 6.875558  , 0.21604753],\n",
       "        [0.43127954, 6.855873  , 0.2123793 ],\n",
       "        [0.44297755, 6.867522  , 0.21465221],\n",
       "        ...,\n",
       "        [0.6955527 , 7.0948405 , 0.2644062 ],\n",
       "        [0.706061  , 7.1401477 , 0.27476597],\n",
       "        [0.7070929 , 7.1560774 , 0.27844173]],\n",
       "       shape=(11446, 3), dtype=float32),\n",
       " array([[0.4473585 , 6.875558  , 0.21604753],\n",
       "        [0.43127954, 6.855873  , 0.2123793 ],\n",
       "        [0.44297755, 6.867522  , 0.21465221],\n",
       "        ...,\n",
       "        [0.6955527 , 7.0948405 , 0.2644062 ],\n",
       "        [0.706061  , 7.1401477 , 0.27476597],\n",
       "        [0.7070929 , 7.1560774 , 0.27844173]],\n",
       "       shape=(11446, 3), dtype=float32),\n",
       " array([[0.4473585 , 6.875558  , 0.21604753],\n",
       "        [0.43127954, 6.855873  , 0.2123793 ],\n",
       "        [0.44297755, 6.867522  , 0.21465221],\n",
       "        ...,\n",
       "        [0.6955527 , 7.0948405 , 0.2644062 ],\n",
       "        [0.706061  , 7.1401477 , 0.27476597],\n",
       "        [0.7070929 , 7.1560774 , 0.27844173]],\n",
       "       shape=(11446, 3), dtype=float32),\n",
       " array([[0.4473585 , 6.875558  , 0.21604753],\n",
       "        [0.43127954, 6.855873  , 0.2123793 ],\n",
       "        [0.44297755, 6.867522  , 0.21465221],\n",
       "        ...,\n",
       "        [0.6955527 , 7.0948405 , 0.2644062 ],\n",
       "        [0.706061  , 7.1401477 , 0.27476597],\n",
       "        [0.7070929 , 7.1560774 , 0.27844173]],\n",
       "       shape=(11446, 3), dtype=float32),\n",
       " array([[0.4473585 , 6.875558  , 0.21604753],\n",
       "        [0.43127954, 6.855873  , 0.2123793 ],\n",
       "        [0.44297755, 6.867522  , 0.21465221],\n",
       "        ...,\n",
       "        [0.6955527 , 7.0948405 , 0.2644062 ],\n",
       "        [0.706061  , 7.1401477 , 0.27476597],\n",
       "        [0.7070929 , 7.1560774 , 0.27844173]],\n",
       "       shape=(11446, 3), dtype=float32),\n",
       " array([[0.4473585 , 6.875558  , 0.21604753],\n",
       "        [0.43127954, 6.855873  , 0.2123793 ],\n",
       "        [0.44297755, 6.867522  , 0.21465221],\n",
       "        ...,\n",
       "        [0.6955527 , 7.0948405 , 0.2644062 ],\n",
       "        [0.706061  , 7.1401477 , 0.27476597],\n",
       "        [0.7070929 , 7.1560774 , 0.27844173]],\n",
       "       shape=(11446, 3), dtype=float32),\n",
       " array([[0.4473585 , 6.875558  , 0.21604753],\n",
       "        [0.43127954, 6.855873  , 0.2123793 ],\n",
       "        [0.44297755, 6.867522  , 0.21465221],\n",
       "        ...,\n",
       "        [0.6955527 , 7.0948405 , 0.2644062 ],\n",
       "        [0.706061  , 7.1401477 , 0.27476597],\n",
       "        [0.7070929 , 7.1560774 , 0.27844173]],\n",
       "       shape=(11446, 3), dtype=float32),\n",
       " array([[0.4473585 , 6.875558  , 0.21604753],\n",
       "        [0.43127954, 6.855873  , 0.2123793 ],\n",
       "        [0.44297755, 6.867522  , 0.21465221],\n",
       "        ...,\n",
       "        [0.6955527 , 7.0948405 , 0.2644062 ],\n",
       "        [0.706061  , 7.1401477 , 0.27476597],\n",
       "        [0.7070929 , 7.1560774 , 0.27844173]],\n",
       "       shape=(11446, 3), dtype=float32),\n",
       " array([[0.4473585 , 6.875558  , 0.21604753],\n",
       "        [0.43127954, 6.855873  , 0.2123793 ],\n",
       "        [0.44297755, 6.867522  , 0.21465221],\n",
       "        ...,\n",
       "        [0.6955527 , 7.0948405 , 0.2644062 ],\n",
       "        [0.706061  , 7.1401477 , 0.27476597],\n",
       "        [0.7070929 , 7.1560774 , 0.27844173]],\n",
       "       shape=(11446, 3), dtype=float32),\n",
       " array([[0.4473585 , 6.875558  , 0.21604753],\n",
       "        [0.43127954, 6.855873  , 0.2123793 ],\n",
       "        [0.44297755, 6.867522  , 0.21465221],\n",
       "        ...,\n",
       "        [0.6955527 , 7.0948405 , 0.2644062 ],\n",
       "        [0.706061  , 7.1401477 , 0.27476597],\n",
       "        [0.7070929 , 7.1560774 , 0.27844173]],\n",
       "       shape=(11446, 3), dtype=float32),\n",
       " array([[0.4473585 , 6.875558  , 0.21604753],\n",
       "        [0.43127954, 6.855873  , 0.2123793 ],\n",
       "        [0.44297755, 6.867522  , 0.21465221],\n",
       "        ...,\n",
       "        [0.6955527 , 7.0948405 , 0.2644062 ],\n",
       "        [0.706061  , 7.1401477 , 0.27476597],\n",
       "        [0.7070929 , 7.1560774 , 0.27844173]],\n",
       "       shape=(11446, 3), dtype=float32),\n",
       " array([[0.4473585 , 6.875558  , 0.21604753],\n",
       "        [0.43127954, 6.855873  , 0.2123793 ],\n",
       "        [0.44297755, 6.867522  , 0.21465221],\n",
       "        ...,\n",
       "        [0.6955527 , 7.0948405 , 0.2644062 ],\n",
       "        [0.706061  , 7.1401477 , 0.27476597],\n",
       "        [0.7070929 , 7.1560774 , 0.27844173]],\n",
       "       shape=(11446, 3), dtype=float32),\n",
       " array([[0.4473585 , 6.875558  , 0.21604753],\n",
       "        [0.43127954, 6.855873  , 0.2123793 ],\n",
       "        [0.44297755, 6.867522  , 0.21465221],\n",
       "        ...,\n",
       "        [0.6955527 , 7.0948405 , 0.2644062 ],\n",
       "        [0.706061  , 7.1401477 , 0.27476597],\n",
       "        [0.7070929 , 7.1560774 , 0.27844173]],\n",
       "       shape=(11446, 3), dtype=float32),\n",
       " array([[0.4473585 , 6.875558  , 0.21604753],\n",
       "        [0.43127954, 6.855873  , 0.2123793 ],\n",
       "        [0.44297755, 6.867522  , 0.21465221],\n",
       "        ...,\n",
       "        [0.6955527 , 7.0948405 , 0.2644062 ],\n",
       "        [0.706061  , 7.1401477 , 0.27476597],\n",
       "        [0.7070929 , 7.1560774 , 0.27844173]],\n",
       "       shape=(11446, 3), dtype=float32),\n",
       " array([[0.4473585 , 6.875558  , 0.21604753],\n",
       "        [0.43127954, 6.855873  , 0.2123793 ],\n",
       "        [0.44297755, 6.867522  , 0.21465221],\n",
       "        ...,\n",
       "        [0.6955527 , 7.0948405 , 0.2644062 ],\n",
       "        [0.706061  , 7.1401477 , 0.27476597],\n",
       "        [0.7070929 , 7.1560774 , 0.27844173]],\n",
       "       shape=(11446, 3), dtype=float32),\n",
       " array([[0.4473585 , 6.875558  , 0.21604753],\n",
       "        [0.43127954, 6.855873  , 0.2123793 ],\n",
       "        [0.44297755, 6.867522  , 0.21465221],\n",
       "        ...,\n",
       "        [0.6955527 , 7.0948405 , 0.2644062 ],\n",
       "        [0.706061  , 7.1401477 , 0.27476597],\n",
       "        [0.7070929 , 7.1560774 , 0.27844173]],\n",
       "       shape=(11446, 3), dtype=float32),\n",
       " array([[0.4473585 , 6.875558  , 0.21604753],\n",
       "        [0.43127954, 6.855873  , 0.2123793 ],\n",
       "        [0.44297755, 6.867522  , 0.21465221],\n",
       "        ...,\n",
       "        [0.6955527 , 7.0948405 , 0.2644062 ],\n",
       "        [0.706061  , 7.1401477 , 0.27476597],\n",
       "        [0.7070929 , 7.1560774 , 0.27844173]],\n",
       "       shape=(11446, 3), dtype=float32),\n",
       " array([[0.4473585 , 6.875558  , 0.21604753],\n",
       "        [0.43127954, 6.855873  , 0.2123793 ],\n",
       "        [0.44297755, 6.867522  , 0.21465221],\n",
       "        ...,\n",
       "        [0.6955527 , 7.0948405 , 0.2644062 ],\n",
       "        [0.706061  , 7.1401477 , 0.27476597],\n",
       "        [0.7070929 , 7.1560774 , 0.27844173]],\n",
       "       shape=(11446, 3), dtype=float32),\n",
       " array([[0.4473585 , 6.875558  , 0.21604753],\n",
       "        [0.43127954, 6.855873  , 0.2123793 ],\n",
       "        [0.44297755, 6.867522  , 0.21465221],\n",
       "        ...,\n",
       "        [0.6955527 , 7.0948405 , 0.2644062 ],\n",
       "        [0.706061  , 7.1401477 , 0.27476597],\n",
       "        [0.7070929 , 7.1560774 , 0.27844173]],\n",
       "       shape=(11446, 3), dtype=float32),\n",
       " array([[0.4473585 , 6.875558  , 0.21604753],\n",
       "        [0.43127954, 6.855873  , 0.2123793 ],\n",
       "        [0.44297755, 6.867522  , 0.21465221],\n",
       "        ...,\n",
       "        [0.6955527 , 7.0948405 , 0.2644062 ],\n",
       "        [0.706061  , 7.1401477 , 0.27476597],\n",
       "        [0.7070929 , 7.1560774 , 0.27844173]],\n",
       "       shape=(11446, 3), dtype=float32),\n",
       " array([[0.4473585 , 6.875558  , 0.21604753],\n",
       "        [0.43127954, 6.855873  , 0.2123793 ],\n",
       "        [0.44297755, 6.867522  , 0.21465221],\n",
       "        ...,\n",
       "        [0.6955527 , 7.0948405 , 0.2644062 ],\n",
       "        [0.706061  , 7.1401477 , 0.27476597],\n",
       "        [0.7070929 , 7.1560774 , 0.27844173]],\n",
       "       shape=(11446, 3), dtype=float32),\n",
       " array([[0.4473585 , 6.875558  , 0.21604753],\n",
       "        [0.43127954, 6.855873  , 0.2123793 ],\n",
       "        [0.44297755, 6.867522  , 0.21465221],\n",
       "        ...,\n",
       "        [0.6955527 , 7.0948405 , 0.2644062 ],\n",
       "        [0.706061  , 7.1401477 , 0.27476597],\n",
       "        [0.7070929 , 7.1560774 , 0.27844173]],\n",
       "       shape=(11446, 3), dtype=float32),\n",
       " array([[0.4473585 , 6.875558  , 0.21604753],\n",
       "        [0.43127954, 6.855873  , 0.2123793 ],\n",
       "        [0.44297755, 6.867522  , 0.21465221],\n",
       "        ...,\n",
       "        [0.6955527 , 7.0948405 , 0.2644062 ],\n",
       "        [0.706061  , 7.1401477 , 0.27476597],\n",
       "        [0.7070929 , 7.1560774 , 0.27844173]],\n",
       "       shape=(11446, 3), dtype=float32),\n",
       " array([[0.4473585 , 6.875558  , 0.21604753],\n",
       "        [0.43127954, 6.855873  , 0.2123793 ],\n",
       "        [0.44297755, 6.867522  , 0.21465221],\n",
       "        ...,\n",
       "        [0.6955527 , 7.0948405 , 0.2644062 ],\n",
       "        [0.706061  , 7.1401477 , 0.27476597],\n",
       "        [0.7070929 , 7.1560774 , 0.27844173]],\n",
       "       shape=(11446, 3), dtype=float32),\n",
       " array([[0.4473585 , 6.875558  , 0.21604753],\n",
       "        [0.43127954, 6.855873  , 0.2123793 ],\n",
       "        [0.44297755, 6.867522  , 0.21465221],\n",
       "        ...,\n",
       "        [0.6955527 , 7.0948405 , 0.2644062 ],\n",
       "        [0.706061  , 7.1401477 , 0.27476597],\n",
       "        [0.7070929 , 7.1560774 , 0.27844173]],\n",
       "       shape=(11446, 3), dtype=float32),\n",
       " array([[0.4473585 , 6.875558  , 0.21604753],\n",
       "        [0.43127954, 6.855873  , 0.2123793 ],\n",
       "        [0.44297755, 6.867522  , 0.21465221],\n",
       "        ...,\n",
       "        [0.6955527 , 7.0948405 , 0.2644062 ],\n",
       "        [0.706061  , 7.1401477 , 0.27476597],\n",
       "        [0.7070929 , 7.1560774 , 0.27844173]],\n",
       "       shape=(11446, 3), dtype=float32),\n",
       " array([[0.4473585 , 6.875558  , 0.21604753],\n",
       "        [0.43127954, 6.855873  , 0.2123793 ],\n",
       "        [0.44297755, 6.867522  , 0.21465221],\n",
       "        ...,\n",
       "        [0.6955527 , 7.0948405 , 0.2644062 ],\n",
       "        [0.706061  , 7.1401477 , 0.27476597],\n",
       "        [0.7070929 , 7.1560774 , 0.27844173]],\n",
       "       shape=(11446, 3), dtype=float32),\n",
       " array([[0.4473585 , 6.875558  , 0.21604753],\n",
       "        [0.43127954, 6.855873  , 0.2123793 ],\n",
       "        [0.44297755, 6.867522  , 0.21465221],\n",
       "        ...,\n",
       "        [0.6955527 , 7.0948405 , 0.2644062 ],\n",
       "        [0.706061  , 7.1401477 , 0.27476597],\n",
       "        [0.7070929 , 7.1560774 , 0.27844173]],\n",
       "       shape=(11446, 3), dtype=float32),\n",
       " array([[0.4473585 , 6.875558  , 0.21604753],\n",
       "        [0.43127954, 6.855873  , 0.2123793 ],\n",
       "        [0.44297755, 6.867522  , 0.21465221],\n",
       "        ...,\n",
       "        [0.6955527 , 7.0948405 , 0.2644062 ],\n",
       "        [0.706061  , 7.1401477 , 0.27476597],\n",
       "        [0.7070929 , 7.1560774 , 0.27844173]],\n",
       "       shape=(11446, 3), dtype=float32),\n",
       " array([[0.4473585 , 6.875558  , 0.21604753],\n",
       "        [0.43127954, 6.855873  , 0.2123793 ],\n",
       "        [0.44297755, 6.867522  , 0.21465221],\n",
       "        ...,\n",
       "        [0.6955527 , 7.0948405 , 0.2644062 ],\n",
       "        [0.706061  , 7.1401477 , 0.27476597],\n",
       "        [0.7070929 , 7.1560774 , 0.27844173]],\n",
       "       shape=(11446, 3), dtype=float32),\n",
       " array([[0.4473585 , 6.875558  , 0.21604753],\n",
       "        [0.43127954, 6.855873  , 0.2123793 ],\n",
       "        [0.44297755, 6.867522  , 0.21465221],\n",
       "        ...,\n",
       "        [0.6955527 , 7.0948405 , 0.2644062 ],\n",
       "        [0.706061  , 7.1401477 , 0.27476597],\n",
       "        [0.7070929 , 7.1560774 , 0.27844173]],\n",
       "       shape=(11446, 3), dtype=float32),\n",
       " array([[0.4473585 , 6.875558  , 0.21604753],\n",
       "        [0.43127954, 6.855873  , 0.2123793 ],\n",
       "        [0.44297755, 6.867522  , 0.21465221],\n",
       "        ...,\n",
       "        [0.6955527 , 7.0948405 , 0.2644062 ],\n",
       "        [0.706061  , 7.1401477 , 0.27476597],\n",
       "        [0.7070929 , 7.1560774 , 0.27844173]],\n",
       "       shape=(11446, 3), dtype=float32),\n",
       " array([[0.4473585 , 6.875558  , 0.21604753],\n",
       "        [0.43127954, 6.855873  , 0.2123793 ],\n",
       "        [0.44297755, 6.867522  , 0.21465221],\n",
       "        ...,\n",
       "        [0.6955527 , 7.0948405 , 0.2644062 ],\n",
       "        [0.706061  , 7.1401477 , 0.27476597],\n",
       "        [0.7070929 , 7.1560774 , 0.27844173]],\n",
       "       shape=(11446, 3), dtype=float32),\n",
       " array([[0.4473585 , 6.875558  , 0.21604753],\n",
       "        [0.43127954, 6.855873  , 0.2123793 ],\n",
       "        [0.44297755, 6.867522  , 0.21465221],\n",
       "        ...,\n",
       "        [0.6955527 , 7.0948405 , 0.2644062 ],\n",
       "        [0.706061  , 7.1401477 , 0.27476597],\n",
       "        [0.7070929 , 7.1560774 , 0.27844173]],\n",
       "       shape=(11446, 3), dtype=float32),\n",
       " array([[0.4473585 , 6.875558  , 0.21604753],\n",
       "        [0.43127954, 6.855873  , 0.2123793 ],\n",
       "        [0.44297755, 6.867522  , 0.21465221],\n",
       "        ...,\n",
       "        [0.6955527 , 7.0948405 , 0.2644062 ],\n",
       "        [0.706061  , 7.1401477 , 0.27476597],\n",
       "        [0.7070929 , 7.1560774 , 0.27844173]],\n",
       "       shape=(11446, 3), dtype=float32),\n",
       " array([[0.4473585 , 6.875558  , 0.21604753],\n",
       "        [0.43127954, 6.855873  , 0.2123793 ],\n",
       "        [0.44297755, 6.867522  , 0.21465221],\n",
       "        ...,\n",
       "        [0.6955527 , 7.0948405 , 0.2644062 ],\n",
       "        [0.706061  , 7.1401477 , 0.27476597],\n",
       "        [0.7070929 , 7.1560774 , 0.27844173]],\n",
       "       shape=(11446, 3), dtype=float32),\n",
       " array([[0.4473585 , 6.875558  , 0.21604753],\n",
       "        [0.43127954, 6.855873  , 0.2123793 ],\n",
       "        [0.44297755, 6.867522  , 0.21465221],\n",
       "        ...,\n",
       "        [0.6955527 , 7.0948405 , 0.2644062 ],\n",
       "        [0.706061  , 7.1401477 , 0.27476597],\n",
       "        [0.7070929 , 7.1560774 , 0.27844173]],\n",
       "       shape=(11446, 3), dtype=float32),\n",
       " array([[0.4473585 , 6.875558  , 0.21604753],\n",
       "        [0.43127954, 6.855873  , 0.2123793 ],\n",
       "        [0.44297755, 6.867522  , 0.21465221],\n",
       "        ...,\n",
       "        [0.6955527 , 7.0948405 , 0.2644062 ],\n",
       "        [0.706061  , 7.1401477 , 0.27476597],\n",
       "        [0.7070929 , 7.1560774 , 0.27844173]],\n",
       "       shape=(11446, 3), dtype=float32),\n",
       " array([[0.4473585 , 6.875558  , 0.21604753],\n",
       "        [0.43127954, 6.855873  , 0.2123793 ],\n",
       "        [0.44297755, 6.867522  , 0.21465221],\n",
       "        ...,\n",
       "        [0.6955527 , 7.0948405 , 0.2644062 ],\n",
       "        [0.706061  , 7.1401477 , 0.27476597],\n",
       "        [0.7070929 , 7.1560774 , 0.27844173]],\n",
       "       shape=(11446, 3), dtype=float32),\n",
       " array([[0.4473585 , 6.875558  , 0.21604753],\n",
       "        [0.43127954, 6.855873  , 0.2123793 ],\n",
       "        [0.44297755, 6.867522  , 0.21465221],\n",
       "        ...,\n",
       "        [0.6955527 , 7.0948405 , 0.2644062 ],\n",
       "        [0.706061  , 7.1401477 , 0.27476597],\n",
       "        [0.7070929 , 7.1560774 , 0.27844173]],\n",
       "       shape=(11446, 3), dtype=float32),\n",
       " array([[0.4473585 , 6.875558  , 0.21604753],\n",
       "        [0.43127954, 6.855873  , 0.2123793 ],\n",
       "        [0.44297755, 6.867522  , 0.21465221],\n",
       "        ...,\n",
       "        [0.6955527 , 7.0948405 , 0.2644062 ],\n",
       "        [0.706061  , 7.1401477 , 0.27476597],\n",
       "        [0.7070929 , 7.1560774 , 0.27844173]],\n",
       "       shape=(11446, 3), dtype=float32),\n",
       " array([[0.4473585 , 6.875558  , 0.21604753],\n",
       "        [0.43127954, 6.855873  , 0.2123793 ],\n",
       "        [0.44297755, 6.867522  , 0.21465221],\n",
       "        ...,\n",
       "        [0.6955527 , 7.0948405 , 0.2644062 ],\n",
       "        [0.706061  , 7.1401477 , 0.27476597],\n",
       "        [0.7070929 , 7.1560774 , 0.27844173]],\n",
       "       shape=(11446, 3), dtype=float32),\n",
       " array([[0.4473585 , 6.875558  , 0.21604753],\n",
       "        [0.43127954, 6.855873  , 0.2123793 ],\n",
       "        [0.44297755, 6.867522  , 0.21465221],\n",
       "        ...,\n",
       "        [0.6955527 , 7.0948405 , 0.2644062 ],\n",
       "        [0.706061  , 7.1401477 , 0.27476597],\n",
       "        [0.7070929 , 7.1560774 , 0.27844173]],\n",
       "       shape=(11446, 3), dtype=float32),\n",
       " array([[0.4473585 , 6.875558  , 0.21604753],\n",
       "        [0.43127954, 6.855873  , 0.2123793 ],\n",
       "        [0.44297755, 6.867522  , 0.21465221],\n",
       "        ...,\n",
       "        [0.6955527 , 7.0948405 , 0.2644062 ],\n",
       "        [0.706061  , 7.1401477 , 0.27476597],\n",
       "        [0.7070929 , 7.1560774 , 0.27844173]],\n",
       "       shape=(11446, 3), dtype=float32),\n",
       " array([[0.4473585 , 6.875558  , 0.21604753],\n",
       "        [0.43127954, 6.855873  , 0.2123793 ],\n",
       "        [0.44297755, 6.867522  , 0.21465221],\n",
       "        ...,\n",
       "        [0.6955527 , 7.0948405 , 0.2644062 ],\n",
       "        [0.706061  , 7.1401477 , 0.27476597],\n",
       "        [0.7070929 , 7.1560774 , 0.27844173]],\n",
       "       shape=(11446, 3), dtype=float32),\n",
       " array([[0.4473585 , 6.875558  , 0.21604753],\n",
       "        [0.43127954, 6.855873  , 0.2123793 ],\n",
       "        [0.44297755, 6.867522  , 0.21465221],\n",
       "        ...,\n",
       "        [0.6955527 , 7.0948405 , 0.2644062 ],\n",
       "        [0.706061  , 7.1401477 , 0.27476597],\n",
       "        [0.7070929 , 7.1560774 , 0.27844173]],\n",
       "       shape=(11446, 3), dtype=float32),\n",
       " array([[0.4473585 , 6.875558  , 0.21604753],\n",
       "        [0.43127954, 6.855873  , 0.2123793 ],\n",
       "        [0.44297755, 6.867522  , 0.21465221],\n",
       "        ...,\n",
       "        [0.6955527 , 7.0948405 , 0.2644062 ],\n",
       "        [0.706061  , 7.1401477 , 0.27476597],\n",
       "        [0.7070929 , 7.1560774 , 0.27844173]],\n",
       "       shape=(11446, 3), dtype=float32),\n",
       " array([[0.4473585 , 6.875558  , 0.21604753],\n",
       "        [0.43127954, 6.855873  , 0.2123793 ],\n",
       "        [0.44297755, 6.867522  , 0.21465221],\n",
       "        ...,\n",
       "        [0.6955527 , 7.0948405 , 0.2644062 ],\n",
       "        [0.706061  , 7.1401477 , 0.27476597],\n",
       "        [0.7070929 , 7.1560774 , 0.27844173]],\n",
       "       shape=(11446, 3), dtype=float32),\n",
       " array([[0.4473585 , 6.875558  , 0.21604753],\n",
       "        [0.43127954, 6.855873  , 0.2123793 ],\n",
       "        [0.44297755, 6.867522  , 0.21465221],\n",
       "        ...,\n",
       "        [0.6955527 , 7.0948405 , 0.2644062 ],\n",
       "        [0.706061  , 7.1401477 , 0.27476597],\n",
       "        [0.7070929 , 7.1560774 , 0.27844173]],\n",
       "       shape=(11446, 3), dtype=float32),\n",
       " array([[0.4473585 , 6.875558  , 0.21604753],\n",
       "        [0.43127954, 6.855873  , 0.2123793 ],\n",
       "        [0.44297755, 6.867522  , 0.21465221],\n",
       "        ...,\n",
       "        [0.6955527 , 7.0948405 , 0.2644062 ],\n",
       "        [0.706061  , 7.1401477 , 0.27476597],\n",
       "        [0.7070929 , 7.1560774 , 0.27844173]],\n",
       "       shape=(11446, 3), dtype=float32),\n",
       " array([[0.4473585 , 6.875558  , 0.21604753],\n",
       "        [0.43127954, 6.855873  , 0.2123793 ],\n",
       "        [0.44297755, 6.867522  , 0.21465221],\n",
       "        ...,\n",
       "        [0.6955527 , 7.0948405 , 0.2644062 ],\n",
       "        [0.706061  , 7.1401477 , 0.27476597],\n",
       "        [0.7070929 , 7.1560774 , 0.27844173]],\n",
       "       shape=(11446, 3), dtype=float32),\n",
       " array([[0.4473585 , 6.875558  , 0.21604753],\n",
       "        [0.43127954, 6.855873  , 0.2123793 ],\n",
       "        [0.44297755, 6.867522  , 0.21465221],\n",
       "        ...,\n",
       "        [0.6955527 , 7.0948405 , 0.2644062 ],\n",
       "        [0.706061  , 7.1401477 , 0.27476597],\n",
       "        [0.7070929 , 7.1560774 , 0.27844173]],\n",
       "       shape=(11446, 3), dtype=float32),\n",
       " array([[0.4473585 , 6.875558  , 0.21604753],\n",
       "        [0.43127954, 6.855873  , 0.2123793 ],\n",
       "        [0.44297755, 6.867522  , 0.21465221],\n",
       "        ...,\n",
       "        [0.6955527 , 7.0948405 , 0.2644062 ],\n",
       "        [0.706061  , 7.1401477 , 0.27476597],\n",
       "        [0.7070929 , 7.1560774 , 0.27844173]],\n",
       "       shape=(11446, 3), dtype=float32),\n",
       " array([[0.4473585 , 6.875558  , 0.21604753],\n",
       "        [0.43127954, 6.855873  , 0.2123793 ],\n",
       "        [0.44297755, 6.867522  , 0.21465221],\n",
       "        ...,\n",
       "        [0.6955527 , 7.0948405 , 0.2644062 ],\n",
       "        [0.706061  , 7.1401477 , 0.27476597],\n",
       "        [0.7070929 , 7.1560774 , 0.27844173]],\n",
       "       shape=(11446, 3), dtype=float32),\n",
       " array([[0.4473585 , 6.875558  , 0.21604753],\n",
       "        [0.43127954, 6.855873  , 0.2123793 ],\n",
       "        [0.44297755, 6.867522  , 0.21465221],\n",
       "        ...,\n",
       "        [0.6955527 , 7.0948405 , 0.2644062 ],\n",
       "        [0.706061  , 7.1401477 , 0.27476597],\n",
       "        [0.7070929 , 7.1560774 , 0.27844173]],\n",
       "       shape=(11446, 3), dtype=float32),\n",
       " array([[0.4473585 , 6.875558  , 0.21604753],\n",
       "        [0.43127954, 6.855873  , 0.2123793 ],\n",
       "        [0.44297755, 6.867522  , 0.21465221],\n",
       "        ...,\n",
       "        [0.6955527 , 7.0948405 , 0.2644062 ],\n",
       "        [0.706061  , 7.1401477 , 0.27476597],\n",
       "        [0.7070929 , 7.1560774 , 0.27844173]],\n",
       "       shape=(11446, 3), dtype=float32),\n",
       " array([[0.4473585 , 6.875558  , 0.21604753],\n",
       "        [0.43127954, 6.855873  , 0.2123793 ],\n",
       "        [0.44297755, 6.867522  , 0.21465221],\n",
       "        ...,\n",
       "        [0.6955527 , 7.0948405 , 0.2644062 ],\n",
       "        [0.706061  , 7.1401477 , 0.27476597],\n",
       "        [0.7070929 , 7.1560774 , 0.27844173]],\n",
       "       shape=(11446, 3), dtype=float32),\n",
       " array([[0.4473585 , 6.875558  , 0.21604753],\n",
       "        [0.43127954, 6.855873  , 0.2123793 ],\n",
       "        [0.44297755, 6.867522  , 0.21465221],\n",
       "        ...,\n",
       "        [0.6955527 , 7.0948405 , 0.2644062 ],\n",
       "        [0.706061  , 7.1401477 , 0.27476597],\n",
       "        [0.7070929 , 7.1560774 , 0.27844173]],\n",
       "       shape=(11446, 3), dtype=float32),\n",
       " array([[0.4473585 , 6.875558  , 0.21604753],\n",
       "        [0.43127954, 6.855873  , 0.2123793 ],\n",
       "        [0.44297755, 6.867522  , 0.21465221],\n",
       "        ...,\n",
       "        [0.6955527 , 7.0948405 , 0.2644062 ],\n",
       "        [0.706061  , 7.1401477 , 0.27476597],\n",
       "        [0.7070929 , 7.1560774 , 0.27844173]],\n",
       "       shape=(11446, 3), dtype=float32),\n",
       " array([[0.4473585 , 6.875558  , 0.21604753],\n",
       "        [0.43127954, 6.855873  , 0.2123793 ],\n",
       "        [0.44297755, 6.867522  , 0.21465221],\n",
       "        ...,\n",
       "        [0.6955527 , 7.0948405 , 0.2644062 ],\n",
       "        [0.706061  , 7.1401477 , 0.27476597],\n",
       "        [0.7070929 , 7.1560774 , 0.27844173]],\n",
       "       shape=(11446, 3), dtype=float32),\n",
       " array([[0.4473585 , 6.875558  , 0.21604753],\n",
       "        [0.43127954, 6.855873  , 0.2123793 ],\n",
       "        [0.44297755, 6.867522  , 0.21465221],\n",
       "        ...,\n",
       "        [0.6955527 , 7.0948405 , 0.2644062 ],\n",
       "        [0.706061  , 7.1401477 , 0.27476597],\n",
       "        [0.7070929 , 7.1560774 , 0.27844173]],\n",
       "       shape=(11446, 3), dtype=float32),\n",
       " array([[0.4473585 , 6.875558  , 0.21604753],\n",
       "        [0.43127954, 6.855873  , 0.2123793 ],\n",
       "        [0.44297755, 6.867522  , 0.21465221],\n",
       "        ...,\n",
       "        [0.6955527 , 7.0948405 , 0.2644062 ],\n",
       "        [0.706061  , 7.1401477 , 0.27476597],\n",
       "        [0.7070929 , 7.1560774 , 0.27844173]],\n",
       "       shape=(11446, 3), dtype=float32),\n",
       " array([[0.4473585 , 6.875558  , 0.21604753],\n",
       "        [0.43127954, 6.855873  , 0.2123793 ],\n",
       "        [0.44297755, 6.867522  , 0.21465221],\n",
       "        ...,\n",
       "        [0.6955527 , 7.0948405 , 0.2644062 ],\n",
       "        [0.706061  , 7.1401477 , 0.27476597],\n",
       "        [0.7070929 , 7.1560774 , 0.27844173]],\n",
       "       shape=(11446, 3), dtype=float32),\n",
       " array([[0.4473585 , 6.875558  , 0.21604753],\n",
       "        [0.43127954, 6.855873  , 0.2123793 ],\n",
       "        [0.44297755, 6.867522  , 0.21465221],\n",
       "        ...,\n",
       "        [0.6955527 , 7.0948405 , 0.2644062 ],\n",
       "        [0.706061  , 7.1401477 , 0.27476597],\n",
       "        [0.7070929 , 7.1560774 , 0.27844173]],\n",
       "       shape=(11446, 3), dtype=float32),\n",
       " array([[0.4473585 , 6.875558  , 0.21604753],\n",
       "        [0.43127954, 6.855873  , 0.2123793 ],\n",
       "        [0.44297755, 6.867522  , 0.21465221],\n",
       "        ...,\n",
       "        [0.6955527 , 7.0948405 , 0.2644062 ],\n",
       "        [0.706061  , 7.1401477 , 0.27476597],\n",
       "        [0.7070929 , 7.1560774 , 0.27844173]],\n",
       "       shape=(11446, 3), dtype=float32),\n",
       " array([[0.4473585 , 6.875558  , 0.21604753],\n",
       "        [0.43127954, 6.855873  , 0.2123793 ],\n",
       "        [0.44297755, 6.867522  , 0.21465221],\n",
       "        ...,\n",
       "        [0.6955527 , 7.0948405 , 0.2644062 ],\n",
       "        [0.706061  , 7.1401477 , 0.27476597],\n",
       "        [0.7070929 , 7.1560774 , 0.27844173]],\n",
       "       shape=(11446, 3), dtype=float32),\n",
       " array([[0.4473585 , 6.875558  , 0.21604753],\n",
       "        [0.43127954, 6.855873  , 0.2123793 ],\n",
       "        [0.44297755, 6.867522  , 0.21465221],\n",
       "        ...,\n",
       "        [0.6955527 , 7.0948405 , 0.2644062 ],\n",
       "        [0.706061  , 7.1401477 , 0.27476597],\n",
       "        [0.7070929 , 7.1560774 , 0.27844173]],\n",
       "       shape=(11446, 3), dtype=float32)]"
      ]
     },
     "execution_count": 20,
     "metadata": {},
     "output_type": "execute_result"
    }
   ],
   "source": [
    "x_list_pred"
   ]
  },
  {
   "cell_type": "code",
   "execution_count": 22,
   "metadata": {},
   "outputs": [
    {
     "data": {
      "text/plain": [
       "array([[[ 3.89608511e-13, -2.24206504e-14, -1.04712124e-13],\n",
       "        [ 1.53858290e-13, -1.78803895e-14, -3.77804376e-14],\n",
       "        [-1.79468311e-13,  4.10997937e-14,  3.12287732e-14],\n",
       "        ...,\n",
       "        [-7.65165746e-01, -1.40257998e+01,  9.00834179e+00],\n",
       "        [ 3.48159973e+02, -7.86508255e+01, -1.54254704e+01],\n",
       "        [ 1.68793869e+02, -3.78963531e+02,  1.85415578e+00]],\n",
       "\n",
       "       [[ 6.65320814e-01,  5.30640554e+00,  2.52944171e-01],\n",
       "        [ 7.94784725e-01,  6.28010702e+00,  2.44286701e-01],\n",
       "        [ 1.28763759e+00,  5.98725510e+00,  1.18553102e-01],\n",
       "        ...,\n",
       "        [ 5.46674848e-01,  7.55731106e+00,  3.95586610e-01],\n",
       "        [ 2.24721932e+00,  6.23676443e+00,  1.86591327e-01],\n",
       "        [ 4.56875753e+00,  4.69995308e+00, -3.63123231e-02]],\n",
       "\n",
       "       [[-2.69778937e-01,  7.63705683e+00,  3.11753899e-01],\n",
       "        [-3.27384800e-01,  7.57835770e+00,  2.98891783e-01],\n",
       "        [-2.92064756e-01,  7.60539770e+00,  3.04615945e-01],\n",
       "        ...,\n",
       "        [ 6.80713773e-01,  7.11010790e+00,  2.68124223e-01],\n",
       "        [ 7.06930041e-01,  7.15381098e+00,  2.77919024e-01],\n",
       "        [ 7.06946492e-01,  7.15763950e+00,  2.78825223e-01]],\n",
       "\n",
       "       ...,\n",
       "\n",
       "       [[ 4.47358489e-01,  6.87555790e+00,  2.16047525e-01],\n",
       "        [ 4.31279540e-01,  6.85587311e+00,  2.12379307e-01],\n",
       "        [ 4.42977548e-01,  6.86752176e+00,  2.14652210e-01],\n",
       "        ...,\n",
       "        [ 6.95552707e-01,  7.09484053e+00,  2.64406204e-01],\n",
       "        [ 7.06061006e-01,  7.14014769e+00,  2.74765968e-01],\n",
       "        [ 7.07092881e-01,  7.15607738e+00,  2.78441727e-01]],\n",
       "\n",
       "       [[ 4.47358489e-01,  6.87555790e+00,  2.16047525e-01],\n",
       "        [ 4.31279540e-01,  6.85587311e+00,  2.12379307e-01],\n",
       "        [ 4.42977548e-01,  6.86752176e+00,  2.14652210e-01],\n",
       "        ...,\n",
       "        [ 6.95552707e-01,  7.09484053e+00,  2.64406204e-01],\n",
       "        [ 7.06061006e-01,  7.14014769e+00,  2.74765968e-01],\n",
       "        [ 7.07092881e-01,  7.15607738e+00,  2.78441727e-01]],\n",
       "\n",
       "       [[ 4.47358489e-01,  6.87555790e+00,  2.16047525e-01],\n",
       "        [ 4.31279540e-01,  6.85587311e+00,  2.12379307e-01],\n",
       "        [ 4.42977548e-01,  6.86752176e+00,  2.14652210e-01],\n",
       "        ...,\n",
       "        [ 6.95552707e-01,  7.09484053e+00,  2.64406204e-01],\n",
       "        [ 7.06061006e-01,  7.14014769e+00,  2.74765968e-01],\n",
       "        [ 7.07092881e-01,  7.15607738e+00,  2.78441727e-01]]],\n",
       "      shape=(78, 11446, 3), dtype=float32)"
      ]
     },
     "execution_count": 22,
     "metadata": {},
     "output_type": "execute_result"
    }
   ],
   "source": [
    "x_list_pred = np.array(x_list_pred)\n",
    "x_list_pred"
   ]
  },
  {
   "cell_type": "code",
   "execution_count": 25,
   "metadata": {},
   "outputs": [
    {
     "data": {
      "text/plain": [
       "[<matplotlib.lines.Line2D at 0x276cff237a0>,\n",
       " <matplotlib.lines.Line2D at 0x276cff3aea0>,\n",
       " <matplotlib.lines.Line2D at 0x276cff3b2c0>]"
      ]
     },
     "execution_count": 25,
     "metadata": {},
     "output_type": "execute_result"
    },
    {
     "data": {
      "image/png": "[encoded data removed]",
      "text/plain": [
       "<Figure size 640x480 with 1 Axes>"
      ]
     },
     "metadata": {},
     "output_type": "display_data"
    }
   ],
   "source": [
    "plt.plot(\n",
    "    x_list_pred[:, -1, :]\n",
    ")"
   ]
  },
  {
   "cell_type": "code",
   "execution_count": null,
   "metadata": {},
   "outputs": [],
   "source": []
  }
 ],
 "metadata": {
  "kernelspec": {
   "display_name": "idsc_challenge_jan",
   "language": "python",
   "name": "python3"
  },
  "language_info": {
   "codemirror_mode": {
    "name": "ipython",
    "version": 3
   },
   "file_extension": ".py",
   "mimetype": "text/x-python",
   "name": "python",
   "nbconvert_exporter": "python",
   "pygments_lexer": "ipython3",
   "version": "3.12.8"
  }
 },
 "nbformat": 4,
 "nbformat_minor": 2
}
