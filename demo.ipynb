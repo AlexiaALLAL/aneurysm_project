{
 "cells": [
  {
   "cell_type": "code",
   "execution_count": 2,
   "metadata": {},
   "outputs": [],
   "source": [
    "import os\n",
    "import os.path as osp\n",
    "import shutil\n",
    "import meshio\n",
    "from typing import List\n",
    "\n",
    "import logging\n",
    "import matplotlib\n",
    "%matplotlib inline\n",
    "import matplotlib.pyplot as plt\n",
    "\n",
    "import torch\n",
    "import torch.nn.functional as F\n",
    "from torch_geometric.data import Data, DataLoader\n",
    "from torch_geometric.nn import GCNConv\n",
    "import numpy as np\n",
    "import scipy.sparse as sp\n",
    "import tqdm\n",
    "\n",
    "from mesh_handler import xdmf_to_meshes, meshes_to_xdmf, vtu_to_mesh, mesh_to_vtu, accessing_mesh_data, create_mock_mesh, get_geometric_data"
   ]
  },
  {
   "cell_type": "markdown",
   "metadata": {},
   "source": [
    "# Demo mock data"
   ]
  },
  {
   "cell_type": "code",
   "execution_count": 3,
   "metadata": {},
   "outputs": [
    {
     "name": "stdout",
     "output_type": "stream",
     "text": [
      "\n",
      "### DEMO  XDMF ARCHIVE ###\n",
      "2D mesh archive:\n",
      "Loaded 121 timesteps from c:\\Users\\alexi\\Documents\\mines\\S5\\idsc\\data challenge janvier\\aneurysm_project\\Obstacle.xdmf\n",
      "\n"
     ]
    },
    {
     "data": {
      "text/plain": [
       "array([[0.      , 0.      , 0.      ],\n",
       "       [4.      , 0.      , 0.      ],\n",
       "       [4.      , 3.      , 0.      ],\n",
       "       ...,\n",
       "       [2.20449 , 0.663779, 0.      ],\n",
       "       [3.82059 , 2.75713 , 0.      ],\n",
       "       [0.736707, 0.299932, 0.      ]], shape=(1632, 3), dtype=float32)"
      ]
     },
     "execution_count": 3,
     "metadata": {},
     "output_type": "execute_result"
    }
   ],
   "source": [
    "# DEMO\n",
    "print(\"\\n### DEMO  XDMF ARCHIVE ###\")\n",
    "print(\"2D mesh archive:\")\n",
    "xdmf_path = osp.join(os.getcwd(), \"Obstacle.xdmf\")\n",
    "meshes = xdmf_to_meshes(xdmf_path)\n",
    "meshes[0].points"
   ]
  },
  {
   "cell_type": "code",
   "execution_count": 4,
   "metadata": {},
   "outputs": [
    {
     "name": "stdout",
     "output_type": "stream",
     "text": [
      "There are 1632 nodes in this mesh.\n",
      "First 5 nodes of the mesh: \n",
      "[[0.  0.  0. ]\n",
      " [4.  0.  0. ]\n",
      " [4.  3.  0. ]\n",
      " [0.  3.  0. ]\n",
      " [0.  2.9 0. ]] \n",
      "\n",
      "Types of cells in the mesh: ['triangle']\n",
      "There are 3122 triangular cells in this mesh.\n",
      "First 5 triangular cells of the mesh: \n",
      "[[ 696 1561  561]\n",
      " [ 642  252 1464]\n",
      " [ 252  605 1464]\n",
      " [ 275  652 1555]\n",
      " [1322  664  604]] \n",
      "\n",
      "Feature name: Vitesse / Feature shape: (1632, 3)\n",
      "Feature name: Pression / Feature shape: (1632,)\n"
     ]
    }
   ],
   "source": [
    "accessing_mesh_data(meshes[10])"
   ]
  },
  {
   "cell_type": "code",
   "execution_count": 5,
   "metadata": {},
   "outputs": [
    {
     "name": "stdout",
     "output_type": "stream",
     "text": [
      "\n",
      "3D mesh archive:\n",
      "Loaded 80 timesteps from c:\\Users\\alexi\\Documents\\mines\\S5\\idsc\\data challenge janvier\\aneurysm_project\\AllFields_Resultats_MESH_1.xdmf\n",
      "\n",
      "There are 11446 nodes in this mesh.\n",
      "First 5 nodes of the mesh: \n",
      "[[-2.205367   4.560882   1.67214  ]\n",
      " [-2.2580128  4.7989006  1.8012575]\n",
      " [-2.212806   5.078872   1.8893555]\n",
      " [-2.0400388  5.2704096  1.920871 ]\n",
      " [-1.8397863  5.4581513  1.9444325]] \n",
      "\n",
      "Types of cells in the mesh: ['tetra']\n",
      "There are 55472 tetrahedral cells in this mesh.\n",
      "First 5 tetrahedral cells of the mesh: \n",
      "[[4803 4804 4805 4806]\n",
      " [4807    0 2921 2922]\n",
      " [4808 1941 4809 4810]\n",
      " [4811 4812 4813 4814]\n",
      " [4815 3583 4816    3]] \n",
      "\n",
      "Feature name: Vitesse / Feature shape: (11446, 3)\n",
      "Feature name: Pression / Feature shape: (11446,)\n"
     ]
    }
   ],
   "source": [
    "print(\"\\n3D mesh archive:\")\n",
    "xdmf_path = osp.join(os.getcwd(), \"AllFields_Resultats_MESH_1.xdmf\")\n",
    "meshes = xdmf_to_meshes(xdmf_path)\n",
    "accessing_mesh_data(meshes[10])"
   ]
  },
  {
   "cell_type": "code",
   "execution_count": 6,
   "metadata": {},
   "outputs": [
    {
     "data": {
      "text/plain": [
       "array([[4803, 4804, 4805, 4806],\n",
       "       [4807,    0, 2921, 2922],\n",
       "       [4808, 1941, 4809, 4810],\n",
       "       ...,\n",
       "       [6558, 6354, 6587, 6804],\n",
       "       [6176, 6908, 9039, 6943],\n",
       "       [6176, 5669, 7795, 6178]], shape=(55472, 4))"
      ]
     },
     "execution_count": 6,
     "metadata": {},
     "output_type": "execute_result"
    }
   ],
   "source": [
    "mesh = meshes[0]\n",
    "mesh.cells_dict['tetra']"
   ]
  },
  {
   "cell_type": "code",
   "execution_count": 7,
   "metadata": {},
   "outputs": [
    {
     "data": {
      "text/plain": [
       "{49, 51, 801, 3253, 3433, 3434, 6748, 9626, 10349}"
      ]
     },
     "execution_count": 7,
     "metadata": {},
     "output_type": "execute_result"
    }
   ],
   "source": [
    "def get_neighbors(mesh, cell_idx):\n",
    "    neighbors = set()\n",
    "    for i, cell in enumerate(mesh.cells_dict['tetra']):\n",
    "        if cell_idx in cell:\n",
    "            # the cell is in this tetrahedron\n",
    "            for j in cell:\n",
    "                if j != cell_idx:\n",
    "                    neighbors.add(j.item())\n",
    "    return neighbors\n",
    "\n",
    "mesh = meshes[0]\n",
    "get_neighbors(mesh, 50)"
   ]
  },
  {
   "cell_type": "code",
   "execution_count": 8,
   "metadata": {},
   "outputs": [
    {
     "name": "stdout",
     "output_type": "stream",
     "text": [
      "\n",
      "### DEMO  VTU FILE FORMAT ###\n",
      "Mock mesh created.\n",
      "Mesh saved to c:\\Users\\alexi\\Documents\\mines\\S5\\idsc\\data challenge janvier\\aneurysm_project\\mock_mesh.vtu\n"
     ]
    }
   ],
   "source": [
    "print(\"\\n### DEMO  VTU FILE FORMAT ###\")\n",
    "mock_mesh = create_mock_mesh()\n",
    "vtu_path = osp.join(os.getcwd(), \"mock_mesh.vtu\")\n",
    "mesh_to_vtu(mock_mesh, vtu_path)"
   ]
  },
  {
   "cell_type": "markdown",
   "metadata": {},
   "source": [
    "# Real data"
   ]
  },
  {
   "cell_type": "code",
   "execution_count": 9,
   "metadata": {},
   "outputs": [
    {
     "name": "stdout",
     "output_type": "stream",
     "text": [
      "Loaded 80 timesteps from AllFields_Resultats_MESH_1.xdmf\n",
      "\n",
      "There are 11446 nodes in this mesh.\n",
      "First 5 nodes of the mesh: \n",
      "[[-2.205367   4.560882   1.67214  ]\n",
      " [-2.2580128  4.7989006  1.8012575]\n",
      " [-2.212806   5.078872   1.8893555]\n",
      " [-2.0400388  5.2704096  1.920871 ]\n",
      " [-1.8397863  5.4581513  1.9444325]] \n",
      "\n",
      "Types of cells in the mesh: ['tetra']\n",
      "There are 55472 tetrahedral cells in this mesh.\n",
      "First 5 tetrahedral cells of the mesh: \n",
      "[[4803 4804 4805 4806]\n",
      " [4807    0 2921 2922]\n",
      " [4808 1941 4809 4810]\n",
      " [4811 4812 4813 4814]\n",
      " [4815 3583 4816    3]] \n",
      "\n",
      "Feature name: Vitesse / Feature shape: (11446, 3)\n",
      "Feature name: Pression / Feature shape: (11446,)\n"
     ]
    }
   ],
   "source": [
    "xdmf_path = osp.join(os.getcwd(), \"4Students_AnXplore03/AllFields_Resultats_MESH_1.xdmf\")\n",
    "meshes = xdmf_to_meshes(xdmf_path)\n",
    "accessing_mesh_data(meshes[10])"
   ]
  },
  {
   "cell_type": "markdown",
   "metadata": {},
   "source": [
    "# Create train dataset"
   ]
  },
  {
   "cell_type": "code",
   "execution_count": 10,
   "metadata": {},
   "outputs": [],
   "source": [
    "# we will train the model with times t-2 and t-1 to predict t\n",
    "# for each point, we can predict vx, vy, vz and p using the previous time steps\n",
    "\n",
    "def build_data():\n",
    "    data = {\n",
    "        'features' : [],\n",
    "        'target' : []\n",
    "    }\n",
    "    list_files = os.listdir(osp.join(os.getcwd(), \"4Students_AnXplore03\"))\n",
    "    list_files = [f for f in list_files if f.endswith('.xdmf')]\n",
    "\n",
    "    for f in tqdm.tqdm(list_files):\n",
    "        # print(\"\\n\\n New file:\\n\")\n",
    "        xdmf_path = osp.join(os.getcwd(), \"4Students_AnXplore03\", f)\n",
    "        meshes = xdmf_to_meshes(xdmf_path)\n",
    "        mesh = meshes[0]\n",
    "\n",
    "        edge_index, edge_attr = get_geometric_data(mesh)\n",
    "\n",
    "        for time_step in range(2, len(meshes)):\n",
    "            # Create node features (x, y, z, vx, vy, vz, p)\n",
    "            node_features_1 = np.hstack([\n",
    "                meshes[time_step-1].points,\n",
    "                meshes[time_step-1].point_data['Vitesse'],\n",
    "                meshes[time_step-1].point_data['Pression'].reshape(-1, 1)\n",
    "            ]) # Shape: (num_nodes, 7)\n",
    "            node_features_1 = torch.tensor(node_features_1, dtype=torch.float)\n",
    "            node_features = np.hstack([\n",
    "                meshes[time_step].points,\n",
    "                meshes[time_step].point_data['Vitesse'],\n",
    "                meshes[time_step].point_data['Pression'].reshape(-1, 1)\n",
    "            ]) # Shape: (num_nodes, 7)\n",
    "            node_features = torch.tensor(node_features, dtype=torch.float)\n",
    "\n",
    "            # Create PyTorch Geometric data object\n",
    "            graph_data_1 = Data(x=node_features_1, edge_index=edge_index, edge_attr=edge_attr)\n",
    "            graph_data = Data(x=node_features, edge_index=edge_index, edge_attr=edge_attr)\n",
    "\n",
    "            data['features'].append(graph_data_1)\n",
    "            data['target'].append(graph_data)\n",
    "    return data"
   ]
  },
  {
   "cell_type": "code",
   "execution_count": 11,
   "metadata": {},
   "outputs": [
    {
     "name": "stderr",
     "output_type": "stream",
     "text": [
      "  0%|          | 0/103 [00:00<?, ?it/s]"
     ]
    },
    {
     "name": "stdout",
     "output_type": "stream",
     "text": [
      "Loaded 80 timesteps from c:\\Users\\alexi\\Documents\\mines\\S5\\idsc\\data challenge janvier\\aneurysm_project\\4Students_AnXplore03\\AllFields_Resultats_MESH_1.xdmf\n",
      "\n"
     ]
    },
    {
     "name": "stderr",
     "output_type": "stream",
     "text": [
      "  1%|          | 1/103 [00:00<01:00,  1.69it/s]"
     ]
    },
    {
     "name": "stdout",
     "output_type": "stream",
     "text": [
      "Loaded 80 timesteps from c:\\Users\\alexi\\Documents\\mines\\S5\\idsc\\data challenge janvier\\aneurysm_project\\4Students_AnXplore03\\AllFields_Resultats_MESH_11.xdmf\n",
      "\n"
     ]
    },
    {
     "name": "stderr",
     "output_type": "stream",
     "text": [
      "  2%|▏         | 2/103 [00:01<01:33,  1.08it/s]"
     ]
    },
    {
     "name": "stdout",
     "output_type": "stream",
     "text": [
      "Loaded 80 timesteps from c:\\Users\\alexi\\Documents\\mines\\S5\\idsc\\data challenge janvier\\aneurysm_project\\4Students_AnXplore03\\AllFields_Resultats_MESH_117.xdmf\n",
      "\n"
     ]
    },
    {
     "name": "stderr",
     "output_type": "stream",
     "text": [
      "  3%|▎         | 3/103 [00:02<01:32,  1.08it/s]"
     ]
    },
    {
     "name": "stdout",
     "output_type": "stream",
     "text": [
      "Loaded 80 timesteps from c:\\Users\\alexi\\Documents\\mines\\S5\\idsc\\data challenge janvier\\aneurysm_project\\4Students_AnXplore03\\AllFields_Resultats_MESH_119-1.xdmf\n",
      "\n"
     ]
    },
    {
     "name": "stderr",
     "output_type": "stream",
     "text": [
      "  4%|▍         | 4/103 [00:03<01:16,  1.29it/s]"
     ]
    },
    {
     "name": "stdout",
     "output_type": "stream",
     "text": [
      "Loaded 80 timesteps from c:\\Users\\alexi\\Documents\\mines\\S5\\idsc\\data challenge janvier\\aneurysm_project\\4Students_AnXplore03\\AllFields_Resultats_MESH_119-2.xdmf\n",
      "\n"
     ]
    },
    {
     "name": "stderr",
     "output_type": "stream",
     "text": [
      "  5%|▍         | 5/103 [00:03<01:08,  1.42it/s]"
     ]
    },
    {
     "name": "stdout",
     "output_type": "stream",
     "text": [
      "Loaded 80 timesteps from c:\\Users\\alexi\\Documents\\mines\\S5\\idsc\\data challenge janvier\\aneurysm_project\\4Students_AnXplore03\\AllFields_Resultats_MESH_120.xdmf\n",
      "\n"
     ]
    },
    {
     "name": "stderr",
     "output_type": "stream",
     "text": [
      "  6%|▌         | 6/103 [00:04<01:12,  1.33it/s]"
     ]
    },
    {
     "name": "stdout",
     "output_type": "stream",
     "text": [
      "Loaded 80 timesteps from c:\\Users\\alexi\\Documents\\mines\\S5\\idsc\\data challenge janvier\\aneurysm_project\\4Students_AnXplore03\\AllFields_Resultats_MESH_121.xdmf\n",
      "\n"
     ]
    },
    {
     "name": "stderr",
     "output_type": "stream",
     "text": [
      "  7%|▋         | 7/103 [00:05<01:07,  1.43it/s]"
     ]
    },
    {
     "name": "stdout",
     "output_type": "stream",
     "text": [
      "Loaded 80 timesteps from c:\\Users\\alexi\\Documents\\mines\\S5\\idsc\\data challenge janvier\\aneurysm_project\\4Students_AnXplore03\\AllFields_Resultats_MESH_128.xdmf\n",
      "\n"
     ]
    },
    {
     "name": "stderr",
     "output_type": "stream",
     "text": [
      "  8%|▊         | 8/103 [00:06<01:10,  1.34it/s]"
     ]
    },
    {
     "name": "stdout",
     "output_type": "stream",
     "text": [
      "Loaded 80 timesteps from c:\\Users\\alexi\\Documents\\mines\\S5\\idsc\\data challenge janvier\\aneurysm_project\\4Students_AnXplore03\\AllFields_Resultats_MESH_129.xdmf\n",
      "\n"
     ]
    },
    {
     "name": "stderr",
     "output_type": "stream",
     "text": [
      "  9%|▊         | 9/103 [00:06<01:06,  1.42it/s]"
     ]
    },
    {
     "name": "stdout",
     "output_type": "stream",
     "text": [
      "Loaded 80 timesteps from c:\\Users\\alexi\\Documents\\mines\\S5\\idsc\\data challenge janvier\\aneurysm_project\\4Students_AnXplore03\\AllFields_Resultats_MESH_134.xdmf\n",
      "\n"
     ]
    },
    {
     "name": "stderr",
     "output_type": "stream",
     "text": [
      " 10%|▉         | 10/103 [00:07<01:02,  1.50it/s]"
     ]
    },
    {
     "name": "stdout",
     "output_type": "stream",
     "text": [
      "Loaded 80 timesteps from c:\\Users\\alexi\\Documents\\mines\\S5\\idsc\\data challenge janvier\\aneurysm_project\\4Students_AnXplore03\\AllFields_Resultats_MESH_135.xdmf\n",
      "\n"
     ]
    },
    {
     "name": "stderr",
     "output_type": "stream",
     "text": [
      " 11%|█         | 11/103 [00:07<00:59,  1.54it/s]"
     ]
    },
    {
     "name": "stdout",
     "output_type": "stream",
     "text": [
      "Loaded 80 timesteps from c:\\Users\\alexi\\Documents\\mines\\S5\\idsc\\data challenge janvier\\aneurysm_project\\4Students_AnXplore03\\AllFields_Resultats_MESH_136.xdmf\n",
      "\n"
     ]
    },
    {
     "name": "stderr",
     "output_type": "stream",
     "text": [
      " 12%|█▏        | 12/103 [00:08<01:01,  1.48it/s]"
     ]
    },
    {
     "name": "stdout",
     "output_type": "stream",
     "text": [
      "Loaded 80 timesteps from c:\\Users\\alexi\\Documents\\mines\\S5\\idsc\\data challenge janvier\\aneurysm_project\\4Students_AnXplore03\\AllFields_Resultats_MESH_137.xdmf\n",
      "\n"
     ]
    },
    {
     "name": "stderr",
     "output_type": "stream",
     "text": [
      " 13%|█▎        | 13/103 [00:09<01:01,  1.45it/s]"
     ]
    },
    {
     "name": "stdout",
     "output_type": "stream",
     "text": [
      "Loaded 80 timesteps from c:\\Users\\alexi\\Documents\\mines\\S5\\idsc\\data challenge janvier\\aneurysm_project\\4Students_AnXplore03\\AllFields_Resultats_MESH_138.xdmf\n",
      "\n"
     ]
    },
    {
     "name": "stderr",
     "output_type": "stream",
     "text": [
      " 14%|█▎        | 14/103 [00:09<00:59,  1.48it/s]"
     ]
    },
    {
     "name": "stdout",
     "output_type": "stream",
     "text": [
      "Loaded 80 timesteps from c:\\Users\\alexi\\Documents\\mines\\S5\\idsc\\data challenge janvier\\aneurysm_project\\4Students_AnXplore03\\AllFields_Resultats_MESH_139.xdmf\n",
      "\n"
     ]
    },
    {
     "name": "stderr",
     "output_type": "stream",
     "text": [
      " 15%|█▍        | 15/103 [00:10<00:58,  1.51it/s]"
     ]
    },
    {
     "name": "stdout",
     "output_type": "stream",
     "text": [
      "Loaded 80 timesteps from c:\\Users\\alexi\\Documents\\mines\\S5\\idsc\\data challenge janvier\\aneurysm_project\\4Students_AnXplore03\\AllFields_Resultats_MESH_140.xdmf\n",
      "\n"
     ]
    },
    {
     "name": "stderr",
     "output_type": "stream",
     "text": [
      " 16%|█▌        | 16/103 [00:11<01:02,  1.40it/s]"
     ]
    },
    {
     "name": "stdout",
     "output_type": "stream",
     "text": [
      "Loaded 80 timesteps from c:\\Users\\alexi\\Documents\\mines\\S5\\idsc\\data challenge janvier\\aneurysm_project\\4Students_AnXplore03\\AllFields_Resultats_MESH_142.xdmf\n",
      "\n"
     ]
    },
    {
     "name": "stderr",
     "output_type": "stream",
     "text": [
      " 17%|█▋        | 17/103 [00:12<00:58,  1.47it/s]"
     ]
    },
    {
     "name": "stdout",
     "output_type": "stream",
     "text": [
      "Loaded 80 timesteps from c:\\Users\\alexi\\Documents\\mines\\S5\\idsc\\data challenge janvier\\aneurysm_project\\4Students_AnXplore03\\AllFields_Resultats_MESH_144-2.xdmf\n",
      "\n"
     ]
    },
    {
     "name": "stderr",
     "output_type": "stream",
     "text": [
      " 17%|█▋        | 18/103 [00:12<00:58,  1.44it/s]"
     ]
    },
    {
     "name": "stdout",
     "output_type": "stream",
     "text": [
      "Loaded 80 timesteps from c:\\Users\\alexi\\Documents\\mines\\S5\\idsc\\data challenge janvier\\aneurysm_project\\4Students_AnXplore03\\AllFields_Resultats_MESH_148.xdmf\n",
      "\n"
     ]
    },
    {
     "name": "stderr",
     "output_type": "stream",
     "text": [
      " 18%|█▊        | 19/103 [00:13<00:57,  1.47it/s]"
     ]
    },
    {
     "name": "stdout",
     "output_type": "stream",
     "text": [
      "Loaded 80 timesteps from c:\\Users\\alexi\\Documents\\mines\\S5\\idsc\\data challenge janvier\\aneurysm_project\\4Students_AnXplore03\\AllFields_Resultats_MESH_151.xdmf\n",
      "\n"
     ]
    },
    {
     "name": "stderr",
     "output_type": "stream",
     "text": [
      " 19%|█▉        | 20/103 [00:14<01:00,  1.38it/s]"
     ]
    },
    {
     "name": "stdout",
     "output_type": "stream",
     "text": [
      "Loaded 80 timesteps from c:\\Users\\alexi\\Documents\\mines\\S5\\idsc\\data challenge janvier\\aneurysm_project\\4Students_AnXplore03\\AllFields_Resultats_MESH_152.xdmf\n",
      "\n"
     ]
    },
    {
     "name": "stderr",
     "output_type": "stream",
     "text": [
      " 20%|██        | 21/103 [00:14<00:58,  1.41it/s]"
     ]
    },
    {
     "name": "stdout",
     "output_type": "stream",
     "text": [
      "Loaded 80 timesteps from c:\\Users\\alexi\\Documents\\mines\\S5\\idsc\\data challenge janvier\\aneurysm_project\\4Students_AnXplore03\\AllFields_Resultats_MESH_153.xdmf\n",
      "\n"
     ]
    },
    {
     "name": "stderr",
     "output_type": "stream",
     "text": [
      " 21%|██▏       | 22/103 [00:15<01:00,  1.35it/s]"
     ]
    },
    {
     "name": "stdout",
     "output_type": "stream",
     "text": [
      "Loaded 80 timesteps from c:\\Users\\alexi\\Documents\\mines\\S5\\idsc\\data challenge janvier\\aneurysm_project\\4Students_AnXplore03\\AllFields_Resultats_MESH_155.xdmf\n",
      "\n"
     ]
    },
    {
     "name": "stderr",
     "output_type": "stream",
     "text": [
      " 22%|██▏       | 23/103 [00:16<00:58,  1.37it/s]"
     ]
    },
    {
     "name": "stdout",
     "output_type": "stream",
     "text": [
      "Loaded 80 timesteps from c:\\Users\\alexi\\Documents\\mines\\S5\\idsc\\data challenge janvier\\aneurysm_project\\4Students_AnXplore03\\AllFields_Resultats_MESH_157.xdmf\n",
      "\n"
     ]
    },
    {
     "name": "stderr",
     "output_type": "stream",
     "text": [
      " 23%|██▎       | 24/103 [00:17<00:54,  1.46it/s]"
     ]
    },
    {
     "name": "stdout",
     "output_type": "stream",
     "text": [
      "Loaded 80 timesteps from c:\\Users\\alexi\\Documents\\mines\\S5\\idsc\\data challenge janvier\\aneurysm_project\\4Students_AnXplore03\\AllFields_Resultats_MESH_158.xdmf\n",
      "\n"
     ]
    },
    {
     "name": "stderr",
     "output_type": "stream",
     "text": [
      " 24%|██▍       | 25/103 [00:17<00:51,  1.51it/s]"
     ]
    },
    {
     "name": "stdout",
     "output_type": "stream",
     "text": [
      "Loaded 80 timesteps from c:\\Users\\alexi\\Documents\\mines\\S5\\idsc\\data challenge janvier\\aneurysm_project\\4Students_AnXplore03\\AllFields_Resultats_MESH_159.xdmf\n",
      "\n"
     ]
    },
    {
     "name": "stderr",
     "output_type": "stream",
     "text": [
      " 25%|██▌       | 26/103 [00:18<00:50,  1.52it/s]"
     ]
    },
    {
     "name": "stdout",
     "output_type": "stream",
     "text": [
      "Loaded 80 timesteps from c:\\Users\\alexi\\Documents\\mines\\S5\\idsc\\data challenge janvier\\aneurysm_project\\4Students_AnXplore03\\AllFields_Resultats_MESH_161.xdmf\n",
      "\n"
     ]
    },
    {
     "name": "stderr",
     "output_type": "stream",
     "text": [
      " 26%|██▌       | 27/103 [00:18<00:49,  1.53it/s]"
     ]
    },
    {
     "name": "stdout",
     "output_type": "stream",
     "text": [
      "Loaded 80 timesteps from c:\\Users\\alexi\\Documents\\mines\\S5\\idsc\\data challenge janvier\\aneurysm_project\\4Students_AnXplore03\\AllFields_Resultats_MESH_162.xdmf\n",
      "\n"
     ]
    },
    {
     "name": "stderr",
     "output_type": "stream",
     "text": [
      " 27%|██▋       | 28/103 [00:19<00:47,  1.57it/s]"
     ]
    },
    {
     "name": "stdout",
     "output_type": "stream",
     "text": [
      "Loaded 80 timesteps from c:\\Users\\alexi\\Documents\\mines\\S5\\idsc\\data challenge janvier\\aneurysm_project\\4Students_AnXplore03\\AllFields_Resultats_MESH_163-1.xdmf\n",
      "\n"
     ]
    },
    {
     "name": "stderr",
     "output_type": "stream",
     "text": [
      " 28%|██▊       | 29/103 [00:20<00:49,  1.51it/s]"
     ]
    },
    {
     "name": "stdout",
     "output_type": "stream",
     "text": [
      "Loaded 80 timesteps from c:\\Users\\alexi\\Documents\\mines\\S5\\idsc\\data challenge janvier\\aneurysm_project\\4Students_AnXplore03\\AllFields_Resultats_MESH_163-2.xdmf\n",
      "\n"
     ]
    },
    {
     "name": "stderr",
     "output_type": "stream",
     "text": [
      " 29%|██▉       | 30/103 [00:21<00:53,  1.36it/s]"
     ]
    },
    {
     "name": "stdout",
     "output_type": "stream",
     "text": [
      "Loaded 80 timesteps from c:\\Users\\alexi\\Documents\\mines\\S5\\idsc\\data challenge janvier\\aneurysm_project\\4Students_AnXplore03\\AllFields_Resultats_MESH_164.xdmf\n",
      "\n"
     ]
    },
    {
     "name": "stderr",
     "output_type": "stream",
     "text": [
      " 30%|███       | 31/103 [00:21<00:55,  1.30it/s]"
     ]
    },
    {
     "name": "stdout",
     "output_type": "stream",
     "text": [
      "Loaded 80 timesteps from c:\\Users\\alexi\\Documents\\mines\\S5\\idsc\\data challenge janvier\\aneurysm_project\\4Students_AnXplore03\\AllFields_Resultats_MESH_165.xdmf\n",
      "\n"
     ]
    },
    {
     "name": "stderr",
     "output_type": "stream",
     "text": [
      " 31%|███       | 32/103 [00:23<01:00,  1.17it/s]"
     ]
    },
    {
     "name": "stdout",
     "output_type": "stream",
     "text": [
      "Loaded 80 timesteps from c:\\Users\\alexi\\Documents\\mines\\S5\\idsc\\data challenge janvier\\aneurysm_project\\4Students_AnXplore03\\AllFields_Resultats_MESH_166.xdmf\n",
      "\n"
     ]
    },
    {
     "name": "stderr",
     "output_type": "stream",
     "text": [
      " 32%|███▏      | 33/103 [00:23<00:58,  1.20it/s]"
     ]
    },
    {
     "name": "stdout",
     "output_type": "stream",
     "text": [
      "Loaded 80 timesteps from c:\\Users\\alexi\\Documents\\mines\\S5\\idsc\\data challenge janvier\\aneurysm_project\\4Students_AnXplore03\\AllFields_Resultats_MESH_168-1.xdmf\n",
      "\n"
     ]
    },
    {
     "name": "stderr",
     "output_type": "stream",
     "text": [
      " 33%|███▎      | 34/103 [00:24<01:00,  1.13it/s]"
     ]
    },
    {
     "name": "stdout",
     "output_type": "stream",
     "text": [
      "Loaded 80 timesteps from c:\\Users\\alexi\\Documents\\mines\\S5\\idsc\\data challenge janvier\\aneurysm_project\\4Students_AnXplore03\\AllFields_Resultats_MESH_168-2.xdmf\n",
      "\n"
     ]
    },
    {
     "name": "stderr",
     "output_type": "stream",
     "text": [
      " 34%|███▍      | 35/103 [00:25<00:58,  1.16it/s]"
     ]
    },
    {
     "name": "stdout",
     "output_type": "stream",
     "text": [
      "Loaded 80 timesteps from c:\\Users\\alexi\\Documents\\mines\\S5\\idsc\\data challenge janvier\\aneurysm_project\\4Students_AnXplore03\\AllFields_Resultats_MESH_170.xdmf\n",
      "\n"
     ]
    },
    {
     "name": "stderr",
     "output_type": "stream",
     "text": [
      " 35%|███▍      | 36/103 [00:26<00:57,  1.16it/s]"
     ]
    },
    {
     "name": "stdout",
     "output_type": "stream",
     "text": [
      "Loaded 80 timesteps from c:\\Users\\alexi\\Documents\\mines\\S5\\idsc\\data challenge janvier\\aneurysm_project\\4Students_AnXplore03\\AllFields_Resultats_MESH_171.xdmf\n",
      "\n"
     ]
    },
    {
     "name": "stderr",
     "output_type": "stream",
     "text": [
      " 36%|███▌      | 37/103 [00:27<01:00,  1.10it/s]"
     ]
    },
    {
     "name": "stdout",
     "output_type": "stream",
     "text": [
      "Loaded 80 timesteps from c:\\Users\\alexi\\Documents\\mines\\S5\\idsc\\data challenge janvier\\aneurysm_project\\4Students_AnXplore03\\AllFields_Resultats_MESH_172.xdmf\n",
      "\n"
     ]
    },
    {
     "name": "stderr",
     "output_type": "stream",
     "text": [
      " 37%|███▋      | 38/103 [00:29<01:17,  1.19s/it]"
     ]
    },
    {
     "name": "stdout",
     "output_type": "stream",
     "text": [
      "Loaded 80 timesteps from c:\\Users\\alexi\\Documents\\mines\\S5\\idsc\\data challenge janvier\\aneurysm_project\\4Students_AnXplore03\\AllFields_Resultats_MESH_173.xdmf\n",
      "\n"
     ]
    },
    {
     "name": "stderr",
     "output_type": "stream",
     "text": [
      " 38%|███▊      | 39/103 [00:30<01:13,  1.14s/it]"
     ]
    },
    {
     "name": "stdout",
     "output_type": "stream",
     "text": [
      "Loaded 80 timesteps from c:\\Users\\alexi\\Documents\\mines\\S5\\idsc\\data challenge janvier\\aneurysm_project\\4Students_AnXplore03\\AllFields_Resultats_MESH_174.xdmf\n",
      "\n"
     ]
    },
    {
     "name": "stderr",
     "output_type": "stream",
     "text": [
      " 39%|███▉      | 40/103 [00:31<01:06,  1.06s/it]"
     ]
    },
    {
     "name": "stdout",
     "output_type": "stream",
     "text": [
      "Loaded 80 timesteps from c:\\Users\\alexi\\Documents\\mines\\S5\\idsc\\data challenge janvier\\aneurysm_project\\4Students_AnXplore03\\AllFields_Resultats_MESH_175.xdmf\n",
      "\n"
     ]
    },
    {
     "name": "stderr",
     "output_type": "stream",
     "text": [
      " 40%|███▉      | 41/103 [00:32<01:02,  1.01s/it]"
     ]
    },
    {
     "name": "stdout",
     "output_type": "stream",
     "text": [
      "Loaded 80 timesteps from c:\\Users\\alexi\\Documents\\mines\\S5\\idsc\\data challenge janvier\\aneurysm_project\\4Students_AnXplore03\\AllFields_Resultats_MESH_177.xdmf\n",
      "\n"
     ]
    },
    {
     "name": "stderr",
     "output_type": "stream",
     "text": [
      " 41%|████      | 42/103 [00:33<01:09,  1.14s/it]"
     ]
    },
    {
     "name": "stdout",
     "output_type": "stream",
     "text": [
      "Loaded 80 timesteps from c:\\Users\\alexi\\Documents\\mines\\S5\\idsc\\data challenge janvier\\aneurysm_project\\4Students_AnXplore03\\AllFields_Resultats_MESH_178.xdmf\n",
      "\n"
     ]
    },
    {
     "name": "stderr",
     "output_type": "stream",
     "text": [
      " 42%|████▏     | 43/103 [00:34<00:58,  1.03it/s]"
     ]
    },
    {
     "name": "stdout",
     "output_type": "stream",
     "text": [
      "Loaded 80 timesteps from c:\\Users\\alexi\\Documents\\mines\\S5\\idsc\\data challenge janvier\\aneurysm_project\\4Students_AnXplore03\\AllFields_Resultats_MESH_180.xdmf\n",
      "\n"
     ]
    },
    {
     "name": "stderr",
     "output_type": "stream",
     "text": [
      " 43%|████▎     | 44/103 [00:34<00:49,  1.19it/s]"
     ]
    },
    {
     "name": "stdout",
     "output_type": "stream",
     "text": [
      "Loaded 80 timesteps from c:\\Users\\alexi\\Documents\\mines\\S5\\idsc\\data challenge janvier\\aneurysm_project\\4Students_AnXplore03\\AllFields_Resultats_MESH_181.xdmf\n",
      "\n"
     ]
    },
    {
     "name": "stderr",
     "output_type": "stream",
     "text": [
      " 44%|████▎     | 45/103 [00:35<00:44,  1.30it/s]"
     ]
    },
    {
     "name": "stdout",
     "output_type": "stream",
     "text": [
      "Loaded 80 timesteps from c:\\Users\\alexi\\Documents\\mines\\S5\\idsc\\data challenge janvier\\aneurysm_project\\4Students_AnXplore03\\AllFields_Resultats_MESH_182-1.xdmf\n",
      "\n"
     ]
    },
    {
     "name": "stderr",
     "output_type": "stream",
     "text": [
      " 45%|████▍     | 46/103 [00:35<00:40,  1.40it/s]"
     ]
    },
    {
     "name": "stdout",
     "output_type": "stream",
     "text": [
      "Loaded 80 timesteps from c:\\Users\\alexi\\Documents\\mines\\S5\\idsc\\data challenge janvier\\aneurysm_project\\4Students_AnXplore03\\AllFields_Resultats_MESH_182-2.xdmf\n",
      "\n"
     ]
    },
    {
     "name": "stderr",
     "output_type": "stream",
     "text": [
      " 46%|████▌     | 47/103 [00:36<00:37,  1.48it/s]"
     ]
    },
    {
     "name": "stdout",
     "output_type": "stream",
     "text": [
      "Loaded 80 timesteps from c:\\Users\\alexi\\Documents\\mines\\S5\\idsc\\data challenge janvier\\aneurysm_project\\4Students_AnXplore03\\AllFields_Resultats_MESH_182-3.xdmf\n",
      "\n"
     ]
    },
    {
     "name": "stderr",
     "output_type": "stream",
     "text": [
      " 47%|████▋     | 48/103 [00:37<00:36,  1.53it/s]"
     ]
    },
    {
     "name": "stdout",
     "output_type": "stream",
     "text": [
      "Loaded 80 timesteps from c:\\Users\\alexi\\Documents\\mines\\S5\\idsc\\data challenge janvier\\aneurysm_project\\4Students_AnXplore03\\AllFields_Resultats_MESH_183.xdmf\n",
      "\n"
     ]
    },
    {
     "name": "stderr",
     "output_type": "stream",
     "text": [
      " 48%|████▊     | 49/103 [00:37<00:35,  1.53it/s]"
     ]
    },
    {
     "name": "stdout",
     "output_type": "stream",
     "text": [
      "Loaded 80 timesteps from c:\\Users\\alexi\\Documents\\mines\\S5\\idsc\\data challenge janvier\\aneurysm_project\\4Students_AnXplore03\\AllFields_Resultats_MESH_185.xdmf\n",
      "\n"
     ]
    },
    {
     "name": "stderr",
     "output_type": "stream",
     "text": [
      " 49%|████▊     | 50/103 [00:38<00:34,  1.53it/s]"
     ]
    },
    {
     "name": "stdout",
     "output_type": "stream",
     "text": [
      "Loaded 80 timesteps from c:\\Users\\alexi\\Documents\\mines\\S5\\idsc\\data challenge janvier\\aneurysm_project\\4Students_AnXplore03\\AllFields_Resultats_MESH_186-1.xdmf\n",
      "\n"
     ]
    },
    {
     "name": "stderr",
     "output_type": "stream",
     "text": [
      " 50%|████▉     | 51/103 [00:39<00:37,  1.40it/s]"
     ]
    },
    {
     "name": "stdout",
     "output_type": "stream",
     "text": [
      "Loaded 80 timesteps from c:\\Users\\alexi\\Documents\\mines\\S5\\idsc\\data challenge janvier\\aneurysm_project\\4Students_AnXplore03\\AllFields_Resultats_MESH_186-2.xdmf\n",
      "\n"
     ]
    },
    {
     "name": "stderr",
     "output_type": "stream",
     "text": [
      " 50%|█████     | 52/103 [00:39<00:35,  1.46it/s]"
     ]
    },
    {
     "name": "stdout",
     "output_type": "stream",
     "text": [
      "Loaded 80 timesteps from c:\\Users\\alexi\\Documents\\mines\\S5\\idsc\\data challenge janvier\\aneurysm_project\\4Students_AnXplore03\\AllFields_Resultats_MESH_187.xdmf\n",
      "\n"
     ]
    },
    {
     "name": "stderr",
     "output_type": "stream",
     "text": [
      " 51%|█████▏    | 53/103 [00:40<00:35,  1.42it/s]"
     ]
    },
    {
     "name": "stdout",
     "output_type": "stream",
     "text": [
      "Loaded 80 timesteps from c:\\Users\\alexi\\Documents\\mines\\S5\\idsc\\data challenge janvier\\aneurysm_project\\4Students_AnXplore03\\AllFields_Resultats_MESH_188.xdmf\n",
      "\n"
     ]
    },
    {
     "name": "stderr",
     "output_type": "stream",
     "text": [
      " 52%|█████▏    | 54/103 [00:41<00:33,  1.45it/s]"
     ]
    },
    {
     "name": "stdout",
     "output_type": "stream",
     "text": [
      "Loaded 80 timesteps from c:\\Users\\alexi\\Documents\\mines\\S5\\idsc\\data challenge janvier\\aneurysm_project\\4Students_AnXplore03\\AllFields_Resultats_MESH_189.xdmf\n",
      "\n"
     ]
    },
    {
     "name": "stderr",
     "output_type": "stream",
     "text": [
      " 53%|█████▎    | 55/103 [00:41<00:31,  1.53it/s]"
     ]
    },
    {
     "name": "stdout",
     "output_type": "stream",
     "text": [
      "Loaded 80 timesteps from c:\\Users\\alexi\\Documents\\mines\\S5\\idsc\\data challenge janvier\\aneurysm_project\\4Students_AnXplore03\\AllFields_Resultats_MESH_19.xdmf\n",
      "\n"
     ]
    },
    {
     "name": "stderr",
     "output_type": "stream",
     "text": [
      " 54%|█████▍    | 56/103 [00:42<00:30,  1.56it/s]"
     ]
    },
    {
     "name": "stdout",
     "output_type": "stream",
     "text": [
      "Loaded 80 timesteps from c:\\Users\\alexi\\Documents\\mines\\S5\\idsc\\data challenge janvier\\aneurysm_project\\4Students_AnXplore03\\AllFields_Resultats_MESH_191.xdmf\n",
      "\n"
     ]
    },
    {
     "name": "stderr",
     "output_type": "stream",
     "text": [
      " 55%|█████▌    | 57/103 [00:43<00:31,  1.44it/s]"
     ]
    },
    {
     "name": "stdout",
     "output_type": "stream",
     "text": [
      "Loaded 80 timesteps from c:\\Users\\alexi\\Documents\\mines\\S5\\idsc\\data challenge janvier\\aneurysm_project\\4Students_AnXplore03\\AllFields_Resultats_MESH_192.xdmf\n",
      "\n"
     ]
    },
    {
     "name": "stderr",
     "output_type": "stream",
     "text": [
      " 56%|█████▋    | 58/103 [00:43<00:30,  1.47it/s]"
     ]
    },
    {
     "name": "stdout",
     "output_type": "stream",
     "text": [
      "Loaded 80 timesteps from c:\\Users\\alexi\\Documents\\mines\\S5\\idsc\\data challenge janvier\\aneurysm_project\\4Students_AnXplore03\\AllFields_Resultats_MESH_193-1.xdmf\n",
      "\n"
     ]
    },
    {
     "name": "stderr",
     "output_type": "stream",
     "text": [
      " 57%|█████▋    | 59/103 [00:45<00:35,  1.24it/s]"
     ]
    },
    {
     "name": "stdout",
     "output_type": "stream",
     "text": [
      "Loaded 80 timesteps from c:\\Users\\alexi\\Documents\\mines\\S5\\idsc\\data challenge janvier\\aneurysm_project\\4Students_AnXplore03\\AllFields_Resultats_MESH_193-2.xdmf\n",
      "\n"
     ]
    },
    {
     "name": "stderr",
     "output_type": "stream",
     "text": [
      " 58%|█████▊    | 60/103 [00:45<00:36,  1.18it/s]"
     ]
    },
    {
     "name": "stdout",
     "output_type": "stream",
     "text": [
      "Loaded 80 timesteps from c:\\Users\\alexi\\Documents\\mines\\S5\\idsc\\data challenge janvier\\aneurysm_project\\4Students_AnXplore03\\AllFields_Resultats_MESH_194.xdmf\n",
      "\n"
     ]
    },
    {
     "name": "stderr",
     "output_type": "stream",
     "text": [
      " 59%|█████▉    | 61/103 [00:46<00:35,  1.17it/s]"
     ]
    },
    {
     "name": "stdout",
     "output_type": "stream",
     "text": [
      "Loaded 80 timesteps from c:\\Users\\alexi\\Documents\\mines\\S5\\idsc\\data challenge janvier\\aneurysm_project\\4Students_AnXplore03\\AllFields_Resultats_MESH_195.xdmf\n",
      "\n"
     ]
    },
    {
     "name": "stderr",
     "output_type": "stream",
     "text": [
      " 60%|██████    | 62/103 [00:47<00:34,  1.18it/s]"
     ]
    },
    {
     "name": "stdout",
     "output_type": "stream",
     "text": [
      "Loaded 80 timesteps from c:\\Users\\alexi\\Documents\\mines\\S5\\idsc\\data challenge janvier\\aneurysm_project\\4Students_AnXplore03\\AllFields_Resultats_MESH_196-1.xdmf\n",
      "\n"
     ]
    },
    {
     "name": "stderr",
     "output_type": "stream",
     "text": [
      " 61%|██████    | 63/103 [00:48<00:33,  1.18it/s]"
     ]
    },
    {
     "name": "stdout",
     "output_type": "stream",
     "text": [
      "Loaded 80 timesteps from c:\\Users\\alexi\\Documents\\mines\\S5\\idsc\\data challenge janvier\\aneurysm_project\\4Students_AnXplore03\\AllFields_Resultats_MESH_196-2.xdmf\n",
      "\n"
     ]
    },
    {
     "name": "stderr",
     "output_type": "stream",
     "text": [
      " 62%|██████▏   | 64/103 [00:49<00:34,  1.14it/s]"
     ]
    },
    {
     "name": "stdout",
     "output_type": "stream",
     "text": [
      "Loaded 80 timesteps from c:\\Users\\alexi\\Documents\\mines\\S5\\idsc\\data challenge janvier\\aneurysm_project\\4Students_AnXplore03\\AllFields_Resultats_MESH_197.xdmf\n",
      "\n"
     ]
    },
    {
     "name": "stderr",
     "output_type": "stream",
     "text": [
      " 63%|██████▎   | 65/103 [00:50<00:31,  1.19it/s]"
     ]
    },
    {
     "name": "stdout",
     "output_type": "stream",
     "text": [
      "Loaded 80 timesteps from c:\\Users\\alexi\\Documents\\mines\\S5\\idsc\\data challenge janvier\\aneurysm_project\\4Students_AnXplore03\\AllFields_Resultats_MESH_198-1.xdmf\n",
      "\n"
     ]
    },
    {
     "name": "stderr",
     "output_type": "stream",
     "text": [
      " 64%|██████▍   | 66/103 [00:51<00:31,  1.19it/s]"
     ]
    },
    {
     "name": "stdout",
     "output_type": "stream",
     "text": [
      "Loaded 80 timesteps from c:\\Users\\alexi\\Documents\\mines\\S5\\idsc\\data challenge janvier\\aneurysm_project\\4Students_AnXplore03\\AllFields_Resultats_MESH_198-2.xdmf\n",
      "\n"
     ]
    },
    {
     "name": "stderr",
     "output_type": "stream",
     "text": [
      " 65%|██████▌   | 67/103 [00:51<00:30,  1.19it/s]"
     ]
    },
    {
     "name": "stdout",
     "output_type": "stream",
     "text": [
      "Loaded 80 timesteps from c:\\Users\\alexi\\Documents\\mines\\S5\\idsc\\data challenge janvier\\aneurysm_project\\4Students_AnXplore03\\AllFields_Resultats_MESH_199.xdmf\n",
      "\n"
     ]
    },
    {
     "name": "stderr",
     "output_type": "stream",
     "text": [
      " 66%|██████▌   | 68/103 [00:52<00:29,  1.19it/s]"
     ]
    },
    {
     "name": "stdout",
     "output_type": "stream",
     "text": [
      "Loaded 80 timesteps from c:\\Users\\alexi\\Documents\\mines\\S5\\idsc\\data challenge janvier\\aneurysm_project\\4Students_AnXplore03\\AllFields_Resultats_MESH_2.xdmf\n",
      "\n"
     ]
    },
    {
     "name": "stderr",
     "output_type": "stream",
     "text": [
      " 67%|██████▋   | 69/103 [00:53<00:28,  1.20it/s]"
     ]
    },
    {
     "name": "stdout",
     "output_type": "stream",
     "text": [
      "Loaded 80 timesteps from c:\\Users\\alexi\\Documents\\mines\\S5\\idsc\\data challenge janvier\\aneurysm_project\\4Students_AnXplore03\\AllFields_Resultats_MESH_200.xdmf\n",
      "\n"
     ]
    },
    {
     "name": "stderr",
     "output_type": "stream",
     "text": [
      " 68%|██████▊   | 70/103 [00:54<00:30,  1.09it/s]"
     ]
    },
    {
     "name": "stdout",
     "output_type": "stream",
     "text": [
      "Loaded 80 timesteps from c:\\Users\\alexi\\Documents\\mines\\S5\\idsc\\data challenge janvier\\aneurysm_project\\4Students_AnXplore03\\AllFields_Resultats_MESH_202.xdmf\n",
      "\n"
     ]
    },
    {
     "name": "stderr",
     "output_type": "stream",
     "text": [
      " 69%|██████▉   | 71/103 [00:55<00:30,  1.05it/s]"
     ]
    },
    {
     "name": "stdout",
     "output_type": "stream",
     "text": [
      "Loaded 80 timesteps from c:\\Users\\alexi\\Documents\\mines\\S5\\idsc\\data challenge janvier\\aneurysm_project\\4Students_AnXplore03\\AllFields_Resultats_MESH_203.xdmf\n",
      "\n"
     ]
    },
    {
     "name": "stderr",
     "output_type": "stream",
     "text": [
      " 70%|██████▉   | 72/103 [00:56<00:28,  1.08it/s]"
     ]
    },
    {
     "name": "stdout",
     "output_type": "stream",
     "text": [
      "Loaded 80 timesteps from c:\\Users\\alexi\\Documents\\mines\\S5\\idsc\\data challenge janvier\\aneurysm_project\\4Students_AnXplore03\\AllFields_Resultats_MESH_204.xdmf\n",
      "\n"
     ]
    },
    {
     "name": "stderr",
     "output_type": "stream",
     "text": [
      " 71%|███████   | 73/103 [00:57<00:31,  1.05s/it]"
     ]
    },
    {
     "name": "stdout",
     "output_type": "stream",
     "text": [
      "Loaded 80 timesteps from c:\\Users\\alexi\\Documents\\mines\\S5\\idsc\\data challenge janvier\\aneurysm_project\\4Students_AnXplore03\\AllFields_Resultats_MESH_205.xdmf\n",
      "\n"
     ]
    },
    {
     "name": "stderr",
     "output_type": "stream",
     "text": [
      " 72%|███████▏  | 74/103 [00:58<00:28,  1.02it/s]"
     ]
    },
    {
     "name": "stdout",
     "output_type": "stream",
     "text": [
      "Loaded 80 timesteps from c:\\Users\\alexi\\Documents\\mines\\S5\\idsc\\data challenge janvier\\aneurysm_project\\4Students_AnXplore03\\AllFields_Resultats_MESH_206.xdmf\n",
      "\n"
     ]
    },
    {
     "name": "stderr",
     "output_type": "stream",
     "text": [
      " 73%|███████▎  | 75/103 [00:59<00:24,  1.16it/s]"
     ]
    },
    {
     "name": "stdout",
     "output_type": "stream",
     "text": [
      "Loaded 80 timesteps from c:\\Users\\alexi\\Documents\\mines\\S5\\idsc\\data challenge janvier\\aneurysm_project\\4Students_AnXplore03\\AllFields_Resultats_MESH_207.xdmf\n",
      "\n"
     ]
    },
    {
     "name": "stderr",
     "output_type": "stream",
     "text": [
      " 74%|███████▍  | 76/103 [00:59<00:21,  1.25it/s]"
     ]
    },
    {
     "name": "stdout",
     "output_type": "stream",
     "text": [
      "Loaded 80 timesteps from c:\\Users\\alexi\\Documents\\mines\\S5\\idsc\\data challenge janvier\\aneurysm_project\\4Students_AnXplore03\\AllFields_Resultats_MESH_208.xdmf\n",
      "\n"
     ]
    },
    {
     "name": "stderr",
     "output_type": "stream",
     "text": [
      " 75%|███████▍  | 77/103 [01:00<00:21,  1.21it/s]"
     ]
    },
    {
     "name": "stdout",
     "output_type": "stream",
     "text": [
      "Loaded 80 timesteps from c:\\Users\\alexi\\Documents\\mines\\S5\\idsc\\data challenge janvier\\aneurysm_project\\4Students_AnXplore03\\AllFields_Resultats_MESH_209.xdmf\n",
      "\n"
     ]
    },
    {
     "name": "stderr",
     "output_type": "stream",
     "text": [
      " 76%|███████▌  | 78/103 [01:01<00:19,  1.26it/s]"
     ]
    },
    {
     "name": "stdout",
     "output_type": "stream",
     "text": [
      "Loaded 80 timesteps from c:\\Users\\alexi\\Documents\\mines\\S5\\idsc\\data challenge janvier\\aneurysm_project\\4Students_AnXplore03\\AllFields_Resultats_MESH_210.xdmf\n",
      "\n"
     ]
    },
    {
     "name": "stderr",
     "output_type": "stream",
     "text": [
      " 77%|███████▋  | 79/103 [01:02<00:20,  1.18it/s]"
     ]
    },
    {
     "name": "stdout",
     "output_type": "stream",
     "text": [
      "Loaded 80 timesteps from c:\\Users\\alexi\\Documents\\mines\\S5\\idsc\\data challenge janvier\\aneurysm_project\\4Students_AnXplore03\\AllFields_Resultats_MESH_211.xdmf\n",
      "\n"
     ]
    },
    {
     "name": "stderr",
     "output_type": "stream",
     "text": [
      " 78%|███████▊  | 80/103 [01:03<00:19,  1.16it/s]"
     ]
    },
    {
     "name": "stdout",
     "output_type": "stream",
     "text": [
      "Loaded 80 timesteps from c:\\Users\\alexi\\Documents\\mines\\S5\\idsc\\data challenge janvier\\aneurysm_project\\4Students_AnXplore03\\AllFields_Resultats_MESH_212.xdmf\n",
      "\n"
     ]
    },
    {
     "name": "stderr",
     "output_type": "stream",
     "text": [
      " 79%|███████▊  | 81/103 [01:04<00:18,  1.21it/s]"
     ]
    },
    {
     "name": "stdout",
     "output_type": "stream",
     "text": [
      "Loaded 80 timesteps from c:\\Users\\alexi\\Documents\\mines\\S5\\idsc\\data challenge janvier\\aneurysm_project\\4Students_AnXplore03\\AllFields_Resultats_MESH_213.xdmf\n",
      "\n"
     ]
    },
    {
     "name": "stderr",
     "output_type": "stream",
     "text": [
      " 80%|███████▉  | 82/103 [01:05<00:17,  1.19it/s]"
     ]
    },
    {
     "name": "stdout",
     "output_type": "stream",
     "text": [
      "Loaded 80 timesteps from c:\\Users\\alexi\\Documents\\mines\\S5\\idsc\\data challenge janvier\\aneurysm_project\\4Students_AnXplore03\\AllFields_Resultats_MESH_214.xdmf\n",
      "\n"
     ]
    },
    {
     "name": "stderr",
     "output_type": "stream",
     "text": [
      " 81%|████████  | 83/103 [01:06<00:17,  1.14it/s]"
     ]
    },
    {
     "name": "stdout",
     "output_type": "stream",
     "text": [
      "Loaded 80 timesteps from c:\\Users\\alexi\\Documents\\mines\\S5\\idsc\\data challenge janvier\\aneurysm_project\\4Students_AnXplore03\\AllFields_Resultats_MESH_215.xdmf\n",
      "\n"
     ]
    },
    {
     "name": "stderr",
     "output_type": "stream",
     "text": [
      " 82%|████████▏ | 84/103 [01:06<00:16,  1.16it/s]"
     ]
    },
    {
     "name": "stdout",
     "output_type": "stream",
     "text": [
      "Loaded 80 timesteps from c:\\Users\\alexi\\Documents\\mines\\S5\\idsc\\data challenge janvier\\aneurysm_project\\4Students_AnXplore03\\AllFields_Resultats_MESH_217.xdmf\n",
      "\n"
     ]
    },
    {
     "name": "stderr",
     "output_type": "stream",
     "text": [
      " 83%|████████▎ | 85/103 [01:07<00:15,  1.14it/s]"
     ]
    },
    {
     "name": "stdout",
     "output_type": "stream",
     "text": [
      "Loaded 80 timesteps from c:\\Users\\alexi\\Documents\\mines\\S5\\idsc\\data challenge janvier\\aneurysm_project\\4Students_AnXplore03\\AllFields_Resultats_MESH_219.xdmf\n",
      "\n"
     ]
    },
    {
     "name": "stderr",
     "output_type": "stream",
     "text": [
      " 83%|████████▎ | 86/103 [01:08<00:15,  1.10it/s]"
     ]
    },
    {
     "name": "stdout",
     "output_type": "stream",
     "text": [
      "Loaded 80 timesteps from c:\\Users\\alexi\\Documents\\mines\\S5\\idsc\\data challenge janvier\\aneurysm_project\\4Students_AnXplore03\\AllFields_Resultats_MESH_23.xdmf\n",
      "\n"
     ]
    },
    {
     "name": "stderr",
     "output_type": "stream",
     "text": [
      " 84%|████████▍ | 87/103 [01:09<00:14,  1.10it/s]"
     ]
    },
    {
     "name": "stdout",
     "output_type": "stream",
     "text": [
      "Loaded 80 timesteps from c:\\Users\\alexi\\Documents\\mines\\S5\\idsc\\data challenge janvier\\aneurysm_project\\4Students_AnXplore03\\AllFields_Resultats_MESH_25.xdmf\n",
      "\n"
     ]
    },
    {
     "name": "stderr",
     "output_type": "stream",
     "text": [
      " 85%|████████▌ | 88/103 [01:10<00:13,  1.09it/s]"
     ]
    },
    {
     "name": "stdout",
     "output_type": "stream",
     "text": [
      "Loaded 80 timesteps from c:\\Users\\alexi\\Documents\\mines\\S5\\idsc\\data challenge janvier\\aneurysm_project\\4Students_AnXplore03\\AllFields_Resultats_MESH_26.xdmf\n",
      "\n"
     ]
    },
    {
     "name": "stderr",
     "output_type": "stream",
     "text": [
      " 86%|████████▋ | 89/103 [01:13<00:22,  1.63s/it]"
     ]
    },
    {
     "name": "stdout",
     "output_type": "stream",
     "text": [
      "Loaded 80 timesteps from c:\\Users\\alexi\\Documents\\mines\\S5\\idsc\\data challenge janvier\\aneurysm_project\\4Students_AnXplore03\\AllFields_Resultats_MESH_28.xdmf\n",
      "\n"
     ]
    },
    {
     "name": "stderr",
     "output_type": "stream",
     "text": [
      " 87%|████████▋ | 90/103 [01:16<00:24,  1.88s/it]"
     ]
    },
    {
     "name": "stdout",
     "output_type": "stream",
     "text": [
      "Loaded 80 timesteps from c:\\Users\\alexi\\Documents\\mines\\S5\\idsc\\data challenge janvier\\aneurysm_project\\4Students_AnXplore03\\AllFields_Resultats_MESH_3.xdmf\n",
      "\n"
     ]
    },
    {
     "name": "stderr",
     "output_type": "stream",
     "text": [
      " 88%|████████▊ | 91/103 [01:17<00:20,  1.75s/it]"
     ]
    },
    {
     "name": "stdout",
     "output_type": "stream",
     "text": [
      "Loaded 80 timesteps from c:\\Users\\alexi\\Documents\\mines\\S5\\idsc\\data challenge janvier\\aneurysm_project\\4Students_AnXplore03\\AllFields_Resultats_MESH_31.xdmf\n",
      "\n"
     ]
    },
    {
     "name": "stderr",
     "output_type": "stream",
     "text": [
      " 89%|████████▉ | 92/103 [01:18<00:16,  1.51s/it]"
     ]
    },
    {
     "name": "stdout",
     "output_type": "stream",
     "text": [
      "Loaded 80 timesteps from c:\\Users\\alexi\\Documents\\mines\\S5\\idsc\\data challenge janvier\\aneurysm_project\\4Students_AnXplore03\\AllFields_Resultats_MESH_34.xdmf\n",
      "\n"
     ]
    },
    {
     "name": "stderr",
     "output_type": "stream",
     "text": [
      " 90%|█████████ | 93/103 [01:19<00:12,  1.25s/it]"
     ]
    },
    {
     "name": "stdout",
     "output_type": "stream",
     "text": [
      "Loaded 80 timesteps from c:\\Users\\alexi\\Documents\\mines\\S5\\idsc\\data challenge janvier\\aneurysm_project\\4Students_AnXplore03\\AllFields_Resultats_MESH_40.xdmf\n",
      "\n"
     ]
    },
    {
     "name": "stderr",
     "output_type": "stream",
     "text": [
      " 91%|█████████▏| 94/103 [01:19<00:09,  1.06s/it]"
     ]
    },
    {
     "name": "stdout",
     "output_type": "stream",
     "text": [
      "Loaded 80 timesteps from c:\\Users\\alexi\\Documents\\mines\\S5\\idsc\\data challenge janvier\\aneurysm_project\\4Students_AnXplore03\\AllFields_Resultats_MESH_42-1.xdmf\n",
      "\n"
     ]
    },
    {
     "name": "stderr",
     "output_type": "stream",
     "text": [
      " 92%|█████████▏| 95/103 [01:20<00:07,  1.04it/s]"
     ]
    },
    {
     "name": "stdout",
     "output_type": "stream",
     "text": [
      "Loaded 80 timesteps from c:\\Users\\alexi\\Documents\\mines\\S5\\idsc\\data challenge janvier\\aneurysm_project\\4Students_AnXplore03\\AllFields_Resultats_MESH_42-2.xdmf\n",
      "\n"
     ]
    },
    {
     "name": "stderr",
     "output_type": "stream",
     "text": [
      " 93%|█████████▎| 96/103 [01:21<00:06,  1.10it/s]"
     ]
    },
    {
     "name": "stdout",
     "output_type": "stream",
     "text": [
      "Loaded 80 timesteps from c:\\Users\\alexi\\Documents\\mines\\S5\\idsc\\data challenge janvier\\aneurysm_project\\4Students_AnXplore03\\AllFields_Resultats_MESH_42-3.xdmf\n",
      "\n"
     ]
    },
    {
     "name": "stderr",
     "output_type": "stream",
     "text": [
      " 94%|█████████▍| 97/103 [01:22<00:05,  1.20it/s]"
     ]
    },
    {
     "name": "stdout",
     "output_type": "stream",
     "text": [
      "Loaded 80 timesteps from c:\\Users\\alexi\\Documents\\mines\\S5\\idsc\\data challenge janvier\\aneurysm_project\\4Students_AnXplore03\\AllFields_Resultats_MESH_44.xdmf\n",
      "\n"
     ]
    },
    {
     "name": "stderr",
     "output_type": "stream",
     "text": [
      " 95%|█████████▌| 98/103 [01:22<00:03,  1.28it/s]"
     ]
    },
    {
     "name": "stdout",
     "output_type": "stream",
     "text": [
      "Loaded 80 timesteps from c:\\Users\\alexi\\Documents\\mines\\S5\\idsc\\data challenge janvier\\aneurysm_project\\4Students_AnXplore03\\AllFields_Resultats_MESH_54-1.xdmf\n",
      "\n"
     ]
    },
    {
     "name": "stderr",
     "output_type": "stream",
     "text": [
      " 96%|█████████▌| 99/103 [01:23<00:02,  1.35it/s]"
     ]
    },
    {
     "name": "stdout",
     "output_type": "stream",
     "text": [
      "Loaded 80 timesteps from c:\\Users\\alexi\\Documents\\mines\\S5\\idsc\\data challenge janvier\\aneurysm_project\\4Students_AnXplore03\\AllFields_Resultats_MESH_54-2.xdmf\n",
      "\n"
     ]
    },
    {
     "name": "stderr",
     "output_type": "stream",
     "text": [
      " 97%|█████████▋| 100/103 [01:24<00:02,  1.39it/s]"
     ]
    },
    {
     "name": "stdout",
     "output_type": "stream",
     "text": [
      "Loaded 80 timesteps from c:\\Users\\alexi\\Documents\\mines\\S5\\idsc\\data challenge janvier\\aneurysm_project\\4Students_AnXplore03\\AllFields_Resultats_MESH_55.xdmf\n",
      "\n"
     ]
    },
    {
     "name": "stderr",
     "output_type": "stream",
     "text": [
      " 98%|█████████▊| 101/103 [01:25<00:01,  1.13it/s]"
     ]
    },
    {
     "name": "stdout",
     "output_type": "stream",
     "text": [
      "Loaded 80 timesteps from c:\\Users\\alexi\\Documents\\mines\\S5\\idsc\\data challenge janvier\\aneurysm_project\\4Students_AnXplore03\\AllFields_Resultats_MESH_6.xdmf\n",
      "\n"
     ]
    },
    {
     "name": "stderr",
     "output_type": "stream",
     "text": [
      " 99%|█████████▉| 102/103 [01:26<00:00,  1.05it/s]"
     ]
    },
    {
     "name": "stdout",
     "output_type": "stream",
     "text": [
      "Loaded 80 timesteps from c:\\Users\\alexi\\Documents\\mines\\S5\\idsc\\data challenge janvier\\aneurysm_project\\4Students_AnXplore03\\AllFields_Resultats_MESH_9-1.xdmf\n",
      "\n"
     ]
    },
    {
     "name": "stderr",
     "output_type": "stream",
     "text": [
      "100%|██████████| 103/103 [01:27<00:00,  1.18it/s]\n"
     ]
    }
   ],
   "source": [
    "data = build_data()"
   ]
  },
  {
   "cell_type": "code",
   "execution_count": 12,
   "metadata": {},
   "outputs": [
    {
     "data": {
      "text/plain": [
       "Data(x=[11446, 7], edge_index=[2, 110854], edge_attr=[110854, 3])"
      ]
     },
     "execution_count": 12,
     "metadata": {},
     "output_type": "execute_result"
    }
   ],
   "source": [
    "data['features'][0]"
   ]
  },
  {
   "cell_type": "code",
   "execution_count": 13,
   "metadata": {},
   "outputs": [
    {
     "data": {
      "text/plain": [
       "Data(x=[11446, 7], edge_index=[2, 110854], edge_attr=[110854, 3])"
      ]
     },
     "execution_count": 13,
     "metadata": {},
     "output_type": "execute_result"
    }
   ],
   "source": [
    "data['target'][0]"
   ]
  },
  {
   "cell_type": "code",
   "execution_count": 14,
   "metadata": {},
   "outputs": [
    {
     "data": {
      "text/plain": [
       "dict_keys(['features', 'target'])"
      ]
     },
     "execution_count": 14,
     "metadata": {},
     "output_type": "execute_result"
    }
   ],
   "source": [
    "data.keys()"
   ]
  },
  {
   "cell_type": "code",
   "execution_count": 15,
   "metadata": {},
   "outputs": [
    {
     "data": {
      "text/plain": [
       "8034"
      ]
     },
     "execution_count": 15,
     "metadata": {},
     "output_type": "execute_result"
    }
   ],
   "source": [
    "# get length of the data\n",
    "len(data['features'])"
   ]
  },
  {
   "cell_type": "markdown",
   "metadata": {},
   "source": [
    "# Message passing model, t to t+1"
   ]
  },
  {
   "cell_type": "code",
   "execution_count": 16,
   "metadata": {},
   "outputs": [],
   "source": [
    "from models.GNNPredictor import GNNPredictor"
   ]
  },
  {
   "cell_type": "code",
   "execution_count": 17,
   "metadata": {},
   "outputs": [
    {
     "name": "stderr",
     "output_type": "stream",
     "text": [
      "c:\\miniconda\\envs\\idsc_challenge_jan\\Lib\\site-packages\\torch_geometric\\deprecation.py:26: UserWarning: 'data.DataLoader' is deprecated, use 'loader.DataLoader' instead\n",
      "  warnings.warn(out)\n"
     ]
    }
   ],
   "source": [
    "dataset = [\n",
    "    (data['features'][i], data['target'][i])\n",
    "    for i in range(100) # use only the first 100 time steps for computational reasons\n",
    "    # for i in range(len(data['features']))\n",
    "]\n",
    "\n",
    "# Create a DataLoader with batch support\n",
    "batch_size = 16\n",
    "loader = DataLoader(dataset, batch_size=batch_size, shuffle=True)\n",
    "\n",
    "# Instantiate Model and Optimizer\n",
    "model = GNNPredictor()\n",
    "optimizer = torch.optim.Adam(model.parameters(), lr=0.01)"
   ]
  },
  {
   "cell_type": "code",
   "execution_count": 21,
   "metadata": {},
   "outputs": [
    {
     "name": "stderr",
     "output_type": "stream",
     "text": [
      "  0%|          | 0/100 [00:08<?, ?it/s]\n"
     ]
    },
    {
     "ename": "KeyboardInterrupt",
     "evalue": "",
     "output_type": "error",
     "traceback": [
      "\u001b[1;31m---------------------------------------------------------------------------\u001b[0m",
      "\u001b[1;31mKeyboardInterrupt\u001b[0m                         Traceback (most recent call last)",
      "Cell \u001b[1;32mIn[21], line 2\u001b[0m\n\u001b[0;32m      1\u001b[0m \u001b[38;5;66;03m# Train the model\u001b[39;00m\n\u001b[1;32m----> 2\u001b[0m \u001b[43mmodel\u001b[49m\u001b[38;5;241;43m.\u001b[39;49m\u001b[43mtrain_model\u001b[49m\u001b[43m(\u001b[49m\u001b[43mloader\u001b[49m\u001b[43m,\u001b[49m\u001b[43m \u001b[49m\u001b[43moptimizer\u001b[49m\u001b[43m,\u001b[49m\u001b[43m \u001b[49m\u001b[43mepochs\u001b[49m\u001b[38;5;241;43m=\u001b[39;49m\u001b[38;5;241;43m100\u001b[39;49m\u001b[43m)\u001b[49m\n\u001b[0;32m      4\u001b[0m \u001b[38;5;66;03m# Save model\u001b[39;00m\n\u001b[0;32m      5\u001b[0m torch\u001b[38;5;241m.\u001b[39msave(model\u001b[38;5;241m.\u001b[39mstate_dict(), \u001b[38;5;124m\"\u001b[39m\u001b[38;5;124mgnn_model.pth\u001b[39m\u001b[38;5;124m\"\u001b[39m)\n",
      "File \u001b[1;32mc:\\Users\\alexi\\Documents\\mines\\S5\\idsc\\data challenge janvier\\aneurysm_project\\models\\GNNPredictor.py:25\u001b[0m, in \u001b[0;36mGNNPredictor.train_model\u001b[1;34m(self, loader, optimizer, epochs)\u001b[0m\n\u001b[0;32m     23\u001b[0m \u001b[38;5;28;01mfor\u001b[39;00m data_t_minus_1, data_t \u001b[38;5;129;01min\u001b[39;00m loader:\n\u001b[0;32m     24\u001b[0m     optimizer\u001b[38;5;241m.\u001b[39mzero_grad()\n\u001b[1;32m---> 25\u001b[0m     predictions \u001b[38;5;241m=\u001b[39m \u001b[38;5;28;43mself\u001b[39;49m\u001b[38;5;241;43m.\u001b[39;49m\u001b[43mforward\u001b[49m\u001b[43m(\u001b[49m\u001b[43mdata_t_minus_1\u001b[49m\u001b[38;5;241;43m.\u001b[39;49m\u001b[43mx\u001b[49m\u001b[43m,\u001b[49m\u001b[43m \u001b[49m\u001b[43mdata_t_minus_1\u001b[49m\u001b[38;5;241;43m.\u001b[39;49m\u001b[43medge_index\u001b[49m\u001b[43m)\u001b[49m  \u001b[38;5;66;03m# Predict x_t\u001b[39;00m\n\u001b[0;32m     26\u001b[0m     loss \u001b[38;5;241m=\u001b[39m F\u001b[38;5;241m.\u001b[39mmse_loss(predictions, data_t\u001b[38;5;241m.\u001b[39mx)  \u001b[38;5;66;03m# Compare with actual x_t\u001b[39;00m\n\u001b[0;32m     27\u001b[0m     loss\u001b[38;5;241m.\u001b[39mbackward()\n",
      "File \u001b[1;32mc:\\Users\\alexi\\Documents\\mines\\S5\\idsc\\data challenge janvier\\aneurysm_project\\models\\GNNPredictor.py:16\u001b[0m, in \u001b[0;36mGNNPredictor.forward\u001b[1;34m(self, x, edge_index)\u001b[0m\n\u001b[0;32m     14\u001b[0m \u001b[38;5;28;01mdef\u001b[39;00m\u001b[38;5;250m \u001b[39m\u001b[38;5;21mforward\u001b[39m(\u001b[38;5;28mself\u001b[39m, x, edge_index):\n\u001b[0;32m     15\u001b[0m     x \u001b[38;5;241m=\u001b[39m F\u001b[38;5;241m.\u001b[39mrelu(\u001b[38;5;28mself\u001b[39m\u001b[38;5;241m.\u001b[39mconv1(x, edge_index))  \u001b[38;5;66;03m# First GCN layer with ReLU\u001b[39;00m\n\u001b[1;32m---> 16\u001b[0m     x \u001b[38;5;241m=\u001b[39m \u001b[38;5;28;43mself\u001b[39;49m\u001b[38;5;241;43m.\u001b[39;49m\u001b[43mconv2\u001b[49m\u001b[43m(\u001b[49m\u001b[43mx\u001b[49m\u001b[43m,\u001b[49m\u001b[43m \u001b[49m\u001b[43medge_index\u001b[49m\u001b[43m)\u001b[49m         \u001b[38;5;66;03m# Output layer\u001b[39;00m\n\u001b[0;32m     17\u001b[0m     \u001b[38;5;28;01mreturn\u001b[39;00m x\n",
      "File \u001b[1;32mc:\\miniconda\\envs\\idsc_challenge_jan\\Lib\\site-packages\\torch\\nn\\modules\\module.py:1736\u001b[0m, in \u001b[0;36mModule._wrapped_call_impl\u001b[1;34m(self, *args, **kwargs)\u001b[0m\n\u001b[0;32m   1734\u001b[0m     \u001b[38;5;28;01mreturn\u001b[39;00m \u001b[38;5;28mself\u001b[39m\u001b[38;5;241m.\u001b[39m_compiled_call_impl(\u001b[38;5;241m*\u001b[39margs, \u001b[38;5;241m*\u001b[39m\u001b[38;5;241m*\u001b[39mkwargs)  \u001b[38;5;66;03m# type: ignore[misc]\u001b[39;00m\n\u001b[0;32m   1735\u001b[0m \u001b[38;5;28;01melse\u001b[39;00m:\n\u001b[1;32m-> 1736\u001b[0m     \u001b[38;5;28;01mreturn\u001b[39;00m \u001b[38;5;28;43mself\u001b[39;49m\u001b[38;5;241;43m.\u001b[39;49m\u001b[43m_call_impl\u001b[49m\u001b[43m(\u001b[49m\u001b[38;5;241;43m*\u001b[39;49m\u001b[43margs\u001b[49m\u001b[43m,\u001b[49m\u001b[43m \u001b[49m\u001b[38;5;241;43m*\u001b[39;49m\u001b[38;5;241;43m*\u001b[39;49m\u001b[43mkwargs\u001b[49m\u001b[43m)\u001b[49m\n",
      "File \u001b[1;32mc:\\miniconda\\envs\\idsc_challenge_jan\\Lib\\site-packages\\torch\\nn\\modules\\module.py:1747\u001b[0m, in \u001b[0;36mModule._call_impl\u001b[1;34m(self, *args, **kwargs)\u001b[0m\n\u001b[0;32m   1742\u001b[0m \u001b[38;5;66;03m# If we don't have any hooks, we want to skip the rest of the logic in\u001b[39;00m\n\u001b[0;32m   1743\u001b[0m \u001b[38;5;66;03m# this function, and just call forward.\u001b[39;00m\n\u001b[0;32m   1744\u001b[0m \u001b[38;5;28;01mif\u001b[39;00m \u001b[38;5;129;01mnot\u001b[39;00m (\u001b[38;5;28mself\u001b[39m\u001b[38;5;241m.\u001b[39m_backward_hooks \u001b[38;5;129;01mor\u001b[39;00m \u001b[38;5;28mself\u001b[39m\u001b[38;5;241m.\u001b[39m_backward_pre_hooks \u001b[38;5;129;01mor\u001b[39;00m \u001b[38;5;28mself\u001b[39m\u001b[38;5;241m.\u001b[39m_forward_hooks \u001b[38;5;129;01mor\u001b[39;00m \u001b[38;5;28mself\u001b[39m\u001b[38;5;241m.\u001b[39m_forward_pre_hooks\n\u001b[0;32m   1745\u001b[0m         \u001b[38;5;129;01mor\u001b[39;00m _global_backward_pre_hooks \u001b[38;5;129;01mor\u001b[39;00m _global_backward_hooks\n\u001b[0;32m   1746\u001b[0m         \u001b[38;5;129;01mor\u001b[39;00m _global_forward_hooks \u001b[38;5;129;01mor\u001b[39;00m _global_forward_pre_hooks):\n\u001b[1;32m-> 1747\u001b[0m     \u001b[38;5;28;01mreturn\u001b[39;00m \u001b[43mforward_call\u001b[49m\u001b[43m(\u001b[49m\u001b[38;5;241;43m*\u001b[39;49m\u001b[43margs\u001b[49m\u001b[43m,\u001b[49m\u001b[43m \u001b[49m\u001b[38;5;241;43m*\u001b[39;49m\u001b[38;5;241;43m*\u001b[39;49m\u001b[43mkwargs\u001b[49m\u001b[43m)\u001b[49m\n\u001b[0;32m   1749\u001b[0m result \u001b[38;5;241m=\u001b[39m \u001b[38;5;28;01mNone\u001b[39;00m\n\u001b[0;32m   1750\u001b[0m called_always_called_hooks \u001b[38;5;241m=\u001b[39m \u001b[38;5;28mset\u001b[39m()\n",
      "File \u001b[1;32mc:\\miniconda\\envs\\idsc_challenge_jan\\Lib\\site-packages\\torch_geometric\\nn\\conv\\gcn_conv.py:241\u001b[0m, in \u001b[0;36mGCNConv.forward\u001b[1;34m(self, x, edge_index, edge_weight)\u001b[0m\n\u001b[0;32m    239\u001b[0m cache \u001b[38;5;241m=\u001b[39m \u001b[38;5;28mself\u001b[39m\u001b[38;5;241m.\u001b[39m_cached_edge_index\n\u001b[0;32m    240\u001b[0m \u001b[38;5;28;01mif\u001b[39;00m cache \u001b[38;5;129;01mis\u001b[39;00m \u001b[38;5;28;01mNone\u001b[39;00m:\n\u001b[1;32m--> 241\u001b[0m     edge_index, edge_weight \u001b[38;5;241m=\u001b[39m \u001b[43mgcn_norm\u001b[49m\u001b[43m(\u001b[49m\u001b[43m  \u001b[49m\u001b[38;5;66;43;03m# yapf: disable\u001b[39;49;00m\n\u001b[0;32m    242\u001b[0m \u001b[43m        \u001b[49m\u001b[43medge_index\u001b[49m\u001b[43m,\u001b[49m\u001b[43m \u001b[49m\u001b[43medge_weight\u001b[49m\u001b[43m,\u001b[49m\u001b[43m \u001b[49m\u001b[43mx\u001b[49m\u001b[38;5;241;43m.\u001b[39;49m\u001b[43msize\u001b[49m\u001b[43m(\u001b[49m\u001b[38;5;28;43mself\u001b[39;49m\u001b[38;5;241;43m.\u001b[39;49m\u001b[43mnode_dim\u001b[49m\u001b[43m)\u001b[49m\u001b[43m,\u001b[49m\n\u001b[0;32m    243\u001b[0m \u001b[43m        \u001b[49m\u001b[38;5;28;43mself\u001b[39;49m\u001b[38;5;241;43m.\u001b[39;49m\u001b[43mimproved\u001b[49m\u001b[43m,\u001b[49m\u001b[43m \u001b[49m\u001b[38;5;28;43mself\u001b[39;49m\u001b[38;5;241;43m.\u001b[39;49m\u001b[43madd_self_loops\u001b[49m\u001b[43m,\u001b[49m\u001b[43m \u001b[49m\u001b[38;5;28;43mself\u001b[39;49m\u001b[38;5;241;43m.\u001b[39;49m\u001b[43mflow\u001b[49m\u001b[43m,\u001b[49m\u001b[43m \u001b[49m\u001b[43mx\u001b[49m\u001b[38;5;241;43m.\u001b[39;49m\u001b[43mdtype\u001b[49m\u001b[43m)\u001b[49m\n\u001b[0;32m    244\u001b[0m     \u001b[38;5;28;01mif\u001b[39;00m \u001b[38;5;28mself\u001b[39m\u001b[38;5;241m.\u001b[39mcached:\n\u001b[0;32m    245\u001b[0m         \u001b[38;5;28mself\u001b[39m\u001b[38;5;241m.\u001b[39m_cached_edge_index \u001b[38;5;241m=\u001b[39m (edge_index, edge_weight)\n",
      "File \u001b[1;32mc:\\miniconda\\envs\\idsc_challenge_jan\\Lib\\site-packages\\torch_geometric\\nn\\conv\\gcn_conv.py:99\u001b[0m, in \u001b[0;36mgcn_norm\u001b[1;34m(edge_index, edge_weight, num_nodes, improved, add_self_loops, flow, dtype)\u001b[0m\n\u001b[0;32m     96\u001b[0m num_nodes \u001b[38;5;241m=\u001b[39m maybe_num_nodes(edge_index, num_nodes)\n\u001b[0;32m     98\u001b[0m \u001b[38;5;28;01mif\u001b[39;00m add_self_loops:\n\u001b[1;32m---> 99\u001b[0m     edge_index, edge_weight \u001b[38;5;241m=\u001b[39m \u001b[43madd_remaining_self_loops\u001b[49m\u001b[43m(\u001b[49m\n\u001b[0;32m    100\u001b[0m \u001b[43m        \u001b[49m\u001b[43medge_index\u001b[49m\u001b[43m,\u001b[49m\u001b[43m \u001b[49m\u001b[43medge_weight\u001b[49m\u001b[43m,\u001b[49m\u001b[43m \u001b[49m\u001b[43mfill_value\u001b[49m\u001b[43m,\u001b[49m\u001b[43m \u001b[49m\u001b[43mnum_nodes\u001b[49m\u001b[43m)\u001b[49m\n\u001b[0;32m    102\u001b[0m \u001b[38;5;28;01mif\u001b[39;00m edge_weight \u001b[38;5;129;01mis\u001b[39;00m \u001b[38;5;28;01mNone\u001b[39;00m:\n\u001b[0;32m    103\u001b[0m     edge_weight \u001b[38;5;241m=\u001b[39m torch\u001b[38;5;241m.\u001b[39mones((edge_index\u001b[38;5;241m.\u001b[39msize(\u001b[38;5;241m1\u001b[39m), ), dtype\u001b[38;5;241m=\u001b[39mdtype,\n\u001b[0;32m    104\u001b[0m                              device\u001b[38;5;241m=\u001b[39medge_index\u001b[38;5;241m.\u001b[39mdevice)\n",
      "File \u001b[1;32mc:\\miniconda\\envs\\idsc_challenge_jan\\Lib\\site-packages\\torch_geometric\\utils\\loop.py:655\u001b[0m, in \u001b[0;36madd_remaining_self_loops\u001b[1;34m(edge_index, edge_attr, fill_value, num_nodes)\u001b[0m\n\u001b[0;32m    652\u001b[0m \u001b[38;5;28;01mif\u001b[39;00m \u001b[38;5;129;01mnot\u001b[39;00m torch\u001b[38;5;241m.\u001b[39mjit\u001b[38;5;241m.\u001b[39mis_scripting() \u001b[38;5;129;01mand\u001b[39;00m \u001b[38;5;28misinstance\u001b[39m(edge_index, EdgeIndex):\n\u001b[0;32m    653\u001b[0m     edge_index\u001b[38;5;241m.\u001b[39m_is_undirected \u001b[38;5;241m=\u001b[39m is_undirected\n\u001b[1;32m--> 655\u001b[0m edge_index \u001b[38;5;241m=\u001b[39m \u001b[43mtorch\u001b[49m\u001b[38;5;241;43m.\u001b[39;49m\u001b[43mcat\u001b[49m\u001b[43m(\u001b[49m\u001b[43m[\u001b[49m\u001b[43medge_index\u001b[49m\u001b[43m,\u001b[49m\u001b[43m \u001b[49m\u001b[43mloop_index\u001b[49m\u001b[43m]\u001b[49m\u001b[43m,\u001b[49m\u001b[43m \u001b[49m\u001b[43mdim\u001b[49m\u001b[38;5;241;43m=\u001b[39;49m\u001b[38;5;241;43m1\u001b[39;49m\u001b[43m)\u001b[49m\n\u001b[0;32m    657\u001b[0m \u001b[38;5;28;01mreturn\u001b[39;00m edge_index, edge_attr\n",
      "\u001b[1;31mKeyboardInterrupt\u001b[0m: "
     ]
    }
   ],
   "source": [
    "# Train the model\n",
    "model.train_model(loader, optimizer, epochs=100)\n",
    "\n",
    "# Save model\n",
    "torch.save(model.state_dict(), \"gnn_model.pth\")\n",
    "\n",
    "print(\"Training complete!\")"
   ]
  },
  {
   "cell_type": "code",
   "execution_count": 18,
   "metadata": {},
   "outputs": [
    {
     "name": "stderr",
     "output_type": "stream",
     "text": [
      "C:\\Users\\alexi\\AppData\\Local\\Temp\\ipykernel_49084\\3379272557.py:3: FutureWarning: You are using `torch.load` with `weights_only=False` (the current default value), which uses the default pickle module implicitly. It is possible to construct malicious pickle data which will execute arbitrary code during unpickling (See https://github.com/pytorch/pytorch/blob/main/SECURITY.md#untrusted-models for more details). In a future release, the default value for `weights_only` will be flipped to `True`. This limits the functions that could be executed during unpickling. Arbitrary objects will no longer be allowed to be loaded via this mode unless they are explicitly allowlisted by the user via `torch.serialization.add_safe_globals`. We recommend you start setting `weights_only=True` for any use case where you don't have full control of the loaded file. Please open an issue on GitHub for any issues related to this experimental feature.\n",
      "  model.load_state_dict(torch.load(\"gnn_model.pth\"))\n"
     ]
    },
    {
     "name": "stdout",
     "output_type": "stream",
     "text": [
      "Loaded 80 timesteps from c:\\Users\\alexi\\Documents\\mines\\S5\\idsc\\data challenge janvier\\aneurysm_project\\4Students_AnXplore03\\AllFields_Resultats_MESH_219.xdmf\n",
      "\n",
      "Total error: 13395779721678692372447232.0000\n"
     ]
    }
   ],
   "source": [
    "# load model from gnn_model.pth file\n",
    "model = GNNPredictor()\n",
    "model.load_state_dict(torch.load(\"gnn_model.pth\"))\n",
    "xdmf_path = osp.join(os.getcwd(), \"4Students_AnXplore03\", \"AllFields_Resultats_MESH_219.xdmf\")\n",
    "meshes = xdmf_to_meshes(xdmf_path)\n",
    "total_error, list_errors = model.test_model(meshes)"
   ]
  },
  {
   "cell_type": "code",
   "execution_count": 19,
   "metadata": {},
   "outputs": [
    {
     "data": {
      "text/plain": [
       "[4.4992594718933105,\n",
       " 24.79535675048828,\n",
       " 62.088966369628906,\n",
       " 132.77098083496094,\n",
       " 213.34913635253906,\n",
       " 289.0500183105469,\n",
       " 314.8927001953125,\n",
       " 283.2749328613281,\n",
       " 226.212646484375,\n",
       " 181.05934143066406,\n",
       " 143.78428649902344,\n",
       " 131.27053833007812,\n",
       " 159.33602905273438,\n",
       " 269.5675964355469,\n",
       " 607.7508544921875,\n",
       " 1554.509033203125,\n",
       " 3927.156982421875,\n",
       " 8621.470703125,\n",
       " 14865.251953125,\n",
       " 23022.64453125,\n",
       " 37535.98828125,\n",
       " 47164.57421875,\n",
       " 57248.93359375,\n",
       " 80889.375,\n",
       " 145367.453125,\n",
       " 343176.0,\n",
       " 895540.625,\n",
       " 2347191.75,\n",
       " 6168359.0,\n",
       " 15862154.0,\n",
       " 39573356.0,\n",
       " 97524416.0,\n",
       " 240402016.0,\n",
       " 591133888.0,\n",
       " 1419810432.0,\n",
       " 3365115392.0,\n",
       " 8026119680.0,\n",
       " 19652182016.0,\n",
       " 48624332800.0,\n",
       " 116517412864.0,\n",
       " 279168090112.0,\n",
       " 683184553984.0,\n",
       " 1750261563392.0,\n",
       " 4520895053824.0,\n",
       " 11050859626496.0,\n",
       " 27068549038080.0,\n",
       " 68152406835200.0,\n",
       " 181180712353792.0,\n",
       " 480591707373568.0,\n",
       " 1185049256919040.0,\n",
       " 2943756626034688.0,\n",
       " 7594721950040064.0,\n",
       " 2.075090685735731e+16,\n",
       " 5.576251818167501e+16,\n",
       " 1.3820333739160371e+17,\n",
       " 3.4765296667879014e+17,\n",
       " 9.193311526390333e+17,\n",
       " 2.553699043515564e+18,\n",
       " 6.832613194872127e+18,\n",
       " 1.6943285068028183e+19,\n",
       " 4.3066775346404655e+19,\n",
       " 1.1683582080561709e+20,\n",
       " 3.271113942940569e+20,\n",
       " 8.563786798116603e+20,\n",
       " 2.1233433600387826e+21,\n",
       " 5.443132137383228e+21,\n",
       " 1.5083954645647996e+22,\n",
       " 4.232599122673178e+22,\n",
       " 1.0792353188716693e+23,\n",
       " 2.6814270051777348e+23,\n",
       " 6.908265303351566e+23,\n",
       " 1.933761949068619e+24,\n",
       " 5.418423241610451e+24,\n",
       " 1.3589233284991396e+25,\n",
       " 3.38443381974413e+25,\n",
       " 8.741517256207779e+25,\n",
       " 2.450161664876683e+26,\n",
       " 6.833120416108602e+26]"
      ]
     },
     "execution_count": 19,
     "metadata": {},
     "output_type": "execute_result"
    }
   ],
   "source": [
    "list_errors"
   ]
  },
  {
   "cell_type": "code",
   "execution_count": 20,
   "metadata": {},
   "outputs": [
    {
     "data": {
      "text/plain": [
       "[4.4992594718933105,\n",
       " 24.79535675048828,\n",
       " 62.088966369628906,\n",
       " 132.77098083496094,\n",
       " 213.34913635253906,\n",
       " 289.0500183105469,\n",
       " 314.8927001953125,\n",
       " 283.2749328613281,\n",
       " 226.212646484375,\n",
       " 181.05934143066406,\n",
       " 143.78428649902344,\n",
       " 131.27053833007812,\n",
       " 159.33602905273438,\n",
       " 269.5675964355469,\n",
       " 607.7508544921875,\n",
       " 1554.509033203125,\n",
       " 3927.156982421875,\n",
       " 8621.470703125,\n",
       " 14865.251953125,\n",
       " 23022.64453125,\n",
       " 37535.98828125,\n",
       " 47164.57421875,\n",
       " 57248.93359375,\n",
       " 80889.375,\n",
       " 145367.453125]"
      ]
     },
     "execution_count": 20,
     "metadata": {},
     "output_type": "execute_result"
    }
   ],
   "source": [
    "errors = list_errors[:25]\n",
    "errors"
   ]
  },
  {
   "cell_type": "code",
   "execution_count": 21,
   "metadata": {},
   "outputs": [],
   "source": [
    "# debug code for some error I honestly didn't understand that made the kernel crash\n",
    "# import os\n",
    "# import matplotlib\n",
    "# import shutil\n",
    "\n",
    "# cache_dir = matplotlib.get_cachedir()\n",
    "# shutil.rmtree(cache_dir)"
   ]
  },
  {
   "cell_type": "code",
   "execution_count": 22,
   "metadata": {},
   "outputs": [
    {
     "name": "stdout",
     "output_type": "stream",
     "text": [
      "25\n"
     ]
    },
    {
     "data": {
      "image/png": "[encoded data removed]",
      "text/plain": [
       "<Figure size 1000x500 with 1 Axes>"
      ]
     },
     "metadata": {},
     "output_type": "display_data"
    }
   ],
   "source": [
    "print(len(errors))\n",
    "\n",
    "plt.rcParams['font.family'] = 'DejaVu Sans'\n",
    "plt.figure(figsize=(10, 5))\n",
    "\n",
    "plt.plot(np.array(errors, dtype=np.float32))\n",
    "# plt.xlabel(\"Time step\")\n",
    "# plt.ylabel(\"MSE\")\n",
    "# plt.title(\"MSE per time step\")\n",
    "plt.savefig(\"MSE_per_time_step.png\")\n",
    "plt.show()"
   ]
  },
  {
   "cell_type": "markdown",
   "metadata": {},
   "source": [
    "# Message passing model with RNN (RecurrentGNN)"
   ]
  },
  {
   "cell_type": "code",
   "execution_count": 26,
   "metadata": {},
   "outputs": [],
   "source": [
    "# from models.RecurrentGNN import RecurrentGNN"
   ]
  },
  {
   "cell_type": "code",
   "execution_count": null,
   "metadata": {},
   "outputs": [],
   "source": [
    "import torch\n",
    "import torch.nn.functional as F\n",
    "from torch_geometric.data import Data, DataLoader\n",
    "from torch_geometric.nn import GCNConv, GatedGraphConv\n",
    "import numpy as np\n",
    "import tqdm\n",
    "\n",
    "from mesh_handler import get_geometric_data\n",
    "\n",
    "class RecurrentGNN(torch.nn.Module):\n",
    "    def __init__(self, input_dim=7, hidden_dim=64, output_dim=7):\n",
    "        super(RecurrentGNN, self).__init__()\n",
    "        self.input_dim = input_dim\n",
    "        self.hidden_dim = hidden_dim\n",
    "        self.output_dim = output_dim\n",
    "        self.gnn_conv = GCNConv(input_dim, hidden_dim)\n",
    "        self.rnn = torch.nn.GRU(hidden_dim, hidden_dim, batch_first=True)  # GRU for temporal info\n",
    "        self.fc = torch.nn.Linear(hidden_dim, output_dim)  # Output: vx, vy, vz, p\n",
    "\n",
    "        # self.gnn = GatedGraphConv(out_channels=hidden_dim, num_layers=3)\n",
    "        # self.rnn = torch.nn.GRU(hidden_dim, hidden_dim, batch_first=True)\n",
    "        # self.fc = torch.nn.Linear(hidden_dim, output_dim)\n",
    "\n",
    "    def forward(self, x, edge_index, hidden_state):\n",
    "        if hidden_state is None:\n",
    "            hidden_state = torch.zeros(1, 1, self.hidden_dim, device=x.device)\n",
    "\n",
    "        # print(f\"Initial x shape: {x.shape}, hidden_state shape: {hidden_state.shape}\")\n",
    "        x = self.gnn_conv(x, edge_index)\n",
    "        x, hidden_state = self.rnn(x.unsqueeze(0), hidden_state)  # RNN step\n",
    "        x = self.fc(x.squeeze(0))\n",
    "        # print(f\"Final x shape: {x.shape}, hidden_state shape: {hidden_state.shape}\")\n",
    "        return x, hidden_state\n",
    "    \n",
    "    def train_model(self, loader, optimizer, epochs=100):\n",
    "        self.train()\n",
    "        for epoch in tqdm.tqdm(range(epochs)):\n",
    "            total_loss = 0\n",
    "            hidden_state = None  # Reset hidden state at the start of each epoch\n",
    "\n",
    "            for data_t_minus_1, data_t in loader:\n",
    "                \n",
    "            optimizer.zero_grad()\n",
    "                x_pred, hidden_state = self.forward(data_t_minus_1.x, data_t_minus_1.edge_index, hidden_state)\n",
    "                loss = F.mse_loss(x_pred, data_t.x)\n",
    "                loss.backward()\n",
    "                total_loss += loss.item()\n",
    "                optimizer.step() \n",
    "            \n",
    "            if epoch % 10 == 0:\n",
    "                print(f\"Epoch {epoch} | Loss: {total_loss:.4f}\")\n",
    "    \n",
    "    def test_model(self, meshes):\n",
    "        # test the model on a sequence of meshes\n",
    "        # start from time t=2 and predict each step until the end\n",
    "        # use the previous time steps to predict the next one\n",
    "        # the final error is 1/T * sum_t sqrt(1/N * sum_n (x_t - x_t_pred)^2)\n",
    "\n",
    "        # create the ground truth data\n",
    "        edge_index, edge_attr = get_geometric_data(meshes[0])\n",
    "        x_list_truth = []\n",
    "        for time_step in range(len(meshes)):\n",
    "            node_features = np.hstack([\n",
    "                meshes[time_step].points,\n",
    "                meshes[time_step].point_data['Vitesse'],\n",
    "                meshes[time_step].point_data['Pression'].reshape(-1, 1)\n",
    "            ]) # Shape: (num_nodes, 7)\n",
    "            node_features = torch.tensor(node_features, dtype=torch.float)\n",
    "            x_list_truth.append(node_features)\n",
    "\n",
    "        graph_data = Data(x=x_list_truth[1], edge_index=edge_index, edge_attr=edge_attr)\n",
    "\n",
    "        # predict each time step\n",
    "        total_error = 0\n",
    "        list_errors = []\n",
    "        hidden_state = None\n",
    "        for i in range(2, len(meshes)):\n",
    "            x, hidden_state = self.forward(graph_data.x, graph_data.edge_index, hidden_state=hidden_state)\n",
    "            error = F.mse_loss(x, x_list_truth[i])/len(meshes[0].points)\n",
    "            list_errors.append(error.item())\n",
    "            total_error += error.item()\n",
    "            graph_data = Data(x=x, edge_index=graph_data.edge_index, edge_attr=graph_data.edge_attr)\n",
    "        total_error /= len(meshes)\n",
    "        print(f\"Total error: {total_error:.4f}\")\n",
    "        return total_error, list_errors"
   ]
  },
  {
   "cell_type": "code",
   "execution_count": 27,
   "metadata": {},
   "outputs": [],
   "source": [
    "dataset = [\n",
    "    (data['features'][i], data['target'][i])\n",
    "    for i in range(20) # use only the first 100 time steps for computational reasons\n",
    "    # for i in range(len(data['features']))\n",
    "]\n",
    "\n",
    "# Create a DataLoader with batch support\n",
    "batch_size = 16\n",
    "loader = DataLoader(dataset, batch_size=batch_size, shuffle=True)\n",
    "\n",
    "# Instantiate Model and Optimizer\n",
    "model = RecurrentGNN()\n",
    "optimizer = torch.optim.Adam(model.parameters(), lr=0.01)"
   ]
  },
  {
   "cell_type": "code",
   "execution_count": 29,
   "metadata": {},
   "outputs": [
    {
     "name": "stderr",
     "output_type": "stream",
     "text": [
      "  0%|          | 0/10 [01:29<?, ?it/s]\n"
     ]
    },
    {
     "ename": "RuntimeError",
     "evalue": "Trying to backward through the graph a second time (or directly access saved tensors after they have already been freed). Saved intermediate values of the graph are freed when you call .backward() or autograd.grad(). Specify retain_graph=True if you need to backward through the graph a second time or if you need to access saved tensors after calling backward.",
     "output_type": "error",
     "traceback": [
      "\u001b[1;31m---------------------------------------------------------------------------\u001b[0m",
      "\u001b[1;31mRuntimeError\u001b[0m                              Traceback (most recent call last)",
      "Cell \u001b[1;32mIn[29], line 2\u001b[0m\n\u001b[0;32m      1\u001b[0m \u001b[38;5;66;03m# Train the model\u001b[39;00m\n\u001b[1;32m----> 2\u001b[0m \u001b[43mmodel\u001b[49m\u001b[38;5;241;43m.\u001b[39;49m\u001b[43mtrain_model\u001b[49m\u001b[43m(\u001b[49m\u001b[43mloader\u001b[49m\u001b[43m,\u001b[49m\u001b[43m \u001b[49m\u001b[43moptimizer\u001b[49m\u001b[43m,\u001b[49m\u001b[43m \u001b[49m\u001b[43mepochs\u001b[49m\u001b[38;5;241;43m=\u001b[39;49m\u001b[38;5;241;43m10\u001b[39;49m\u001b[43m)\u001b[49m\n\u001b[0;32m      4\u001b[0m \u001b[38;5;66;03m# Save model\u001b[39;00m\n\u001b[0;32m      5\u001b[0m torch\u001b[38;5;241m.\u001b[39msave(model\u001b[38;5;241m.\u001b[39mstate_dict(), \u001b[38;5;124m\"\u001b[39m\u001b[38;5;124mrecurrent_gnn_model.pth\u001b[39m\u001b[38;5;124m\"\u001b[39m)\n",
      "File \u001b[1;32mc:\\Users\\alexi\\Documents\\mines\\S5\\idsc\\data challenge janvier\\aneurysm_project\\models\\RecurrentGNN.py:46\u001b[0m, in \u001b[0;36mRecurrentGNN.train_model\u001b[1;34m(self, loader, optimizer, epochs)\u001b[0m\n\u001b[0;32m     44\u001b[0m x_pred, hidden_state \u001b[38;5;241m=\u001b[39m \u001b[38;5;28mself\u001b[39m\u001b[38;5;241m.\u001b[39mforward(data_t_minus_1\u001b[38;5;241m.\u001b[39mx, data_t_minus_1\u001b[38;5;241m.\u001b[39medge_index, hidden_state)\n\u001b[0;32m     45\u001b[0m loss \u001b[38;5;241m=\u001b[39m F\u001b[38;5;241m.\u001b[39mmse_loss(x_pred, data_t\u001b[38;5;241m.\u001b[39mx)\n\u001b[1;32m---> 46\u001b[0m \u001b[43mloss\u001b[49m\u001b[38;5;241;43m.\u001b[39;49m\u001b[43mbackward\u001b[49m\u001b[43m(\u001b[49m\u001b[43m)\u001b[49m\n\u001b[0;32m     47\u001b[0m total_loss \u001b[38;5;241m+\u001b[39m\u001b[38;5;241m=\u001b[39m loss\u001b[38;5;241m.\u001b[39mitem()\n\u001b[0;32m     48\u001b[0m optimizer\u001b[38;5;241m.\u001b[39mstep() \n",
      "File \u001b[1;32mc:\\miniconda\\envs\\idsc_challenge_jan\\Lib\\site-packages\\torch\\_tensor.py:581\u001b[0m, in \u001b[0;36mTensor.backward\u001b[1;34m(self, gradient, retain_graph, create_graph, inputs)\u001b[0m\n\u001b[0;32m    571\u001b[0m \u001b[38;5;28;01mif\u001b[39;00m has_torch_function_unary(\u001b[38;5;28mself\u001b[39m):\n\u001b[0;32m    572\u001b[0m     \u001b[38;5;28;01mreturn\u001b[39;00m handle_torch_function(\n\u001b[0;32m    573\u001b[0m         Tensor\u001b[38;5;241m.\u001b[39mbackward,\n\u001b[0;32m    574\u001b[0m         (\u001b[38;5;28mself\u001b[39m,),\n\u001b[1;32m   (...)\u001b[0m\n\u001b[0;32m    579\u001b[0m         inputs\u001b[38;5;241m=\u001b[39minputs,\n\u001b[0;32m    580\u001b[0m     )\n\u001b[1;32m--> 581\u001b[0m \u001b[43mtorch\u001b[49m\u001b[38;5;241;43m.\u001b[39;49m\u001b[43mautograd\u001b[49m\u001b[38;5;241;43m.\u001b[39;49m\u001b[43mbackward\u001b[49m\u001b[43m(\u001b[49m\n\u001b[0;32m    582\u001b[0m \u001b[43m    \u001b[49m\u001b[38;5;28;43mself\u001b[39;49m\u001b[43m,\u001b[49m\u001b[43m \u001b[49m\u001b[43mgradient\u001b[49m\u001b[43m,\u001b[49m\u001b[43m \u001b[49m\u001b[43mretain_graph\u001b[49m\u001b[43m,\u001b[49m\u001b[43m \u001b[49m\u001b[43mcreate_graph\u001b[49m\u001b[43m,\u001b[49m\u001b[43m \u001b[49m\u001b[43minputs\u001b[49m\u001b[38;5;241;43m=\u001b[39;49m\u001b[43minputs\u001b[49m\n\u001b[0;32m    583\u001b[0m \u001b[43m\u001b[49m\u001b[43m)\u001b[49m\n",
      "File \u001b[1;32mc:\\miniconda\\envs\\idsc_challenge_jan\\Lib\\site-packages\\torch\\autograd\\__init__.py:347\u001b[0m, in \u001b[0;36mbackward\u001b[1;34m(tensors, grad_tensors, retain_graph, create_graph, grad_variables, inputs)\u001b[0m\n\u001b[0;32m    342\u001b[0m     retain_graph \u001b[38;5;241m=\u001b[39m create_graph\n\u001b[0;32m    344\u001b[0m \u001b[38;5;66;03m# The reason we repeat the same comment below is that\u001b[39;00m\n\u001b[0;32m    345\u001b[0m \u001b[38;5;66;03m# some Python versions print out the first line of a multi-line function\u001b[39;00m\n\u001b[0;32m    346\u001b[0m \u001b[38;5;66;03m# calls in the traceback and some print out the last line\u001b[39;00m\n\u001b[1;32m--> 347\u001b[0m \u001b[43m_engine_run_backward\u001b[49m\u001b[43m(\u001b[49m\n\u001b[0;32m    348\u001b[0m \u001b[43m    \u001b[49m\u001b[43mtensors\u001b[49m\u001b[43m,\u001b[49m\n\u001b[0;32m    349\u001b[0m \u001b[43m    \u001b[49m\u001b[43mgrad_tensors_\u001b[49m\u001b[43m,\u001b[49m\n\u001b[0;32m    350\u001b[0m \u001b[43m    \u001b[49m\u001b[43mretain_graph\u001b[49m\u001b[43m,\u001b[49m\n\u001b[0;32m    351\u001b[0m \u001b[43m    \u001b[49m\u001b[43mcreate_graph\u001b[49m\u001b[43m,\u001b[49m\n\u001b[0;32m    352\u001b[0m \u001b[43m    \u001b[49m\u001b[43minputs\u001b[49m\u001b[43m,\u001b[49m\n\u001b[0;32m    353\u001b[0m \u001b[43m    \u001b[49m\u001b[43mallow_unreachable\u001b[49m\u001b[38;5;241;43m=\u001b[39;49m\u001b[38;5;28;43;01mTrue\u001b[39;49;00m\u001b[43m,\u001b[49m\n\u001b[0;32m    354\u001b[0m \u001b[43m    \u001b[49m\u001b[43maccumulate_grad\u001b[49m\u001b[38;5;241;43m=\u001b[39;49m\u001b[38;5;28;43;01mTrue\u001b[39;49;00m\u001b[43m,\u001b[49m\n\u001b[0;32m    355\u001b[0m \u001b[43m\u001b[49m\u001b[43m)\u001b[49m\n",
      "File \u001b[1;32mc:\\miniconda\\envs\\idsc_challenge_jan\\Lib\\site-packages\\torch\\autograd\\graph.py:825\u001b[0m, in \u001b[0;36m_engine_run_backward\u001b[1;34m(t_outputs, *args, **kwargs)\u001b[0m\n\u001b[0;32m    823\u001b[0m     unregister_hooks \u001b[38;5;241m=\u001b[39m _register_logging_hooks_on_whole_graph(t_outputs)\n\u001b[0;32m    824\u001b[0m \u001b[38;5;28;01mtry\u001b[39;00m:\n\u001b[1;32m--> 825\u001b[0m     \u001b[38;5;28;01mreturn\u001b[39;00m \u001b[43mVariable\u001b[49m\u001b[38;5;241;43m.\u001b[39;49m\u001b[43m_execution_engine\u001b[49m\u001b[38;5;241;43m.\u001b[39;49m\u001b[43mrun_backward\u001b[49m\u001b[43m(\u001b[49m\u001b[43m  \u001b[49m\u001b[38;5;66;43;03m# Calls into the C++ engine to run the backward pass\u001b[39;49;00m\n\u001b[0;32m    826\u001b[0m \u001b[43m        \u001b[49m\u001b[43mt_outputs\u001b[49m\u001b[43m,\u001b[49m\u001b[43m \u001b[49m\u001b[38;5;241;43m*\u001b[39;49m\u001b[43margs\u001b[49m\u001b[43m,\u001b[49m\u001b[43m \u001b[49m\u001b[38;5;241;43m*\u001b[39;49m\u001b[38;5;241;43m*\u001b[39;49m\u001b[43mkwargs\u001b[49m\n\u001b[0;32m    827\u001b[0m \u001b[43m    \u001b[49m\u001b[43m)\u001b[49m  \u001b[38;5;66;03m# Calls into the C++ engine to run the backward pass\u001b[39;00m\n\u001b[0;32m    828\u001b[0m \u001b[38;5;28;01mfinally\u001b[39;00m:\n\u001b[0;32m    829\u001b[0m     \u001b[38;5;28;01mif\u001b[39;00m attach_logging_hooks:\n",
      "\u001b[1;31mRuntimeError\u001b[0m: Trying to backward through the graph a second time (or directly access saved tensors after they have already been freed). Saved intermediate values of the graph are freed when you call .backward() or autograd.grad(). Specify retain_graph=True if you need to backward through the graph a second time or if you need to access saved tensors after calling backward."
     ]
    }
   ],
   "source": [
    "# Train the model\n",
    "model.train_model(loader, optimizer, epochs=10)\n",
    "\n",
    "# Save model\n",
    "torch.save(model.state_dict(), \"recurrent_gnn_model.pth\")\n",
    "\n",
    "print(\"Training complete!\")"
   ]
  },
  {
   "cell_type": "code",
   "execution_count": 29,
   "metadata": {},
   "outputs": [
    {
     "name": "stderr",
     "output_type": "stream",
     "text": [
      "C:\\Users\\alexi\\AppData\\Local\\Temp\\ipykernel_53968\\3030062572.py:3: FutureWarning: You are using `torch.load` with `weights_only=False` (the current default value), which uses the default pickle module implicitly. It is possible to construct malicious pickle data which will execute arbitrary code during unpickling (See https://github.com/pytorch/pytorch/blob/main/SECURITY.md#untrusted-models for more details). In a future release, the default value for `weights_only` will be flipped to `True`. This limits the functions that could be executed during unpickling. Arbitrary objects will no longer be allowed to be loaded via this mode unless they are explicitly allowlisted by the user via `torch.serialization.add_safe_globals`. We recommend you start setting `weights_only=True` for any use case where you don't have full control of the loaded file. Please open an issue on GitHub for any issues related to this experimental feature.\n",
      "  model.load_state_dict(torch.load(\"recurrent_gnn_model.pth\"))\n"
     ]
    },
    {
     "ename": "RuntimeError",
     "evalue": "Error(s) in loading state_dict for RecurrentGNN:\n\tMissing key(s) in state_dict: \"gnn.bias\", \"gnn.lin.weight\". \n\tUnexpected key(s) in state_dict: \"gnn.weight\", \"gnn.rnn.weight_ih\", \"gnn.rnn.weight_hh\", \"gnn.rnn.bias_ih\", \"gnn.rnn.bias_hh\". ",
     "output_type": "error",
     "traceback": [
      "\u001b[1;31m---------------------------------------------------------------------------\u001b[0m",
      "\u001b[1;31mRuntimeError\u001b[0m                              Traceback (most recent call last)",
      "Cell \u001b[1;32mIn[29], line 3\u001b[0m\n\u001b[0;32m      1\u001b[0m \u001b[38;5;66;03m# load model from gnn_model.pth file\u001b[39;00m\n\u001b[0;32m      2\u001b[0m model \u001b[38;5;241m=\u001b[39m RecurrentGNN()\n\u001b[1;32m----> 3\u001b[0m \u001b[43mmodel\u001b[49m\u001b[38;5;241;43m.\u001b[39;49m\u001b[43mload_state_dict\u001b[49m\u001b[43m(\u001b[49m\u001b[43mtorch\u001b[49m\u001b[38;5;241;43m.\u001b[39;49m\u001b[43mload\u001b[49m\u001b[43m(\u001b[49m\u001b[38;5;124;43m\"\u001b[39;49m\u001b[38;5;124;43mrecurrent_gnn_model.pth\u001b[39;49m\u001b[38;5;124;43m\"\u001b[39;49m\u001b[43m)\u001b[49m\u001b[43m)\u001b[49m\n\u001b[0;32m      4\u001b[0m xdmf_path \u001b[38;5;241m=\u001b[39m osp\u001b[38;5;241m.\u001b[39mjoin(os\u001b[38;5;241m.\u001b[39mgetcwd(), \u001b[38;5;124m\"\u001b[39m\u001b[38;5;124m4Students_AnXplore03\u001b[39m\u001b[38;5;124m\"\u001b[39m, \u001b[38;5;124m\"\u001b[39m\u001b[38;5;124mAllFields_Resultats_MESH_219.xdmf\u001b[39m\u001b[38;5;124m\"\u001b[39m)\n\u001b[0;32m      5\u001b[0m meshes \u001b[38;5;241m=\u001b[39m xdmf_to_meshes(xdmf_path)\n",
      "File \u001b[1;32mc:\\miniconda\\envs\\idsc_challenge_jan\\Lib\\site-packages\\torch\\nn\\modules\\module.py:2584\u001b[0m, in \u001b[0;36mModule.load_state_dict\u001b[1;34m(self, state_dict, strict, assign)\u001b[0m\n\u001b[0;32m   2576\u001b[0m         error_msgs\u001b[38;5;241m.\u001b[39minsert(\n\u001b[0;32m   2577\u001b[0m             \u001b[38;5;241m0\u001b[39m,\n\u001b[0;32m   2578\u001b[0m             \u001b[38;5;124m\"\u001b[39m\u001b[38;5;124mMissing key(s) in state_dict: \u001b[39m\u001b[38;5;132;01m{}\u001b[39;00m\u001b[38;5;124m. \u001b[39m\u001b[38;5;124m\"\u001b[39m\u001b[38;5;241m.\u001b[39mformat(\n\u001b[0;32m   2579\u001b[0m                 \u001b[38;5;124m\"\u001b[39m\u001b[38;5;124m, \u001b[39m\u001b[38;5;124m\"\u001b[39m\u001b[38;5;241m.\u001b[39mjoin(\u001b[38;5;124mf\u001b[39m\u001b[38;5;124m'\u001b[39m\u001b[38;5;124m\"\u001b[39m\u001b[38;5;132;01m{\u001b[39;00mk\u001b[38;5;132;01m}\u001b[39;00m\u001b[38;5;124m\"\u001b[39m\u001b[38;5;124m'\u001b[39m \u001b[38;5;28;01mfor\u001b[39;00m k \u001b[38;5;129;01min\u001b[39;00m missing_keys)\n\u001b[0;32m   2580\u001b[0m             ),\n\u001b[0;32m   2581\u001b[0m         )\n\u001b[0;32m   2583\u001b[0m \u001b[38;5;28;01mif\u001b[39;00m \u001b[38;5;28mlen\u001b[39m(error_msgs) \u001b[38;5;241m>\u001b[39m \u001b[38;5;241m0\u001b[39m:\n\u001b[1;32m-> 2584\u001b[0m     \u001b[38;5;28;01mraise\u001b[39;00m \u001b[38;5;167;01mRuntimeError\u001b[39;00m(\n\u001b[0;32m   2585\u001b[0m         \u001b[38;5;124m\"\u001b[39m\u001b[38;5;124mError(s) in loading state_dict for \u001b[39m\u001b[38;5;132;01m{}\u001b[39;00m\u001b[38;5;124m:\u001b[39m\u001b[38;5;130;01m\\n\u001b[39;00m\u001b[38;5;130;01m\\t\u001b[39;00m\u001b[38;5;132;01m{}\u001b[39;00m\u001b[38;5;124m\"\u001b[39m\u001b[38;5;241m.\u001b[39mformat(\n\u001b[0;32m   2586\u001b[0m             \u001b[38;5;28mself\u001b[39m\u001b[38;5;241m.\u001b[39m\u001b[38;5;18m__class__\u001b[39m\u001b[38;5;241m.\u001b[39m\u001b[38;5;18m__name__\u001b[39m, \u001b[38;5;124m\"\u001b[39m\u001b[38;5;130;01m\\n\u001b[39;00m\u001b[38;5;130;01m\\t\u001b[39;00m\u001b[38;5;124m\"\u001b[39m\u001b[38;5;241m.\u001b[39mjoin(error_msgs)\n\u001b[0;32m   2587\u001b[0m         )\n\u001b[0;32m   2588\u001b[0m     )\n\u001b[0;32m   2589\u001b[0m \u001b[38;5;28;01mreturn\u001b[39;00m _IncompatibleKeys(missing_keys, unexpected_keys)\n",
      "\u001b[1;31mRuntimeError\u001b[0m: Error(s) in loading state_dict for RecurrentGNN:\n\tMissing key(s) in state_dict: \"gnn.bias\", \"gnn.lin.weight\". \n\tUnexpected key(s) in state_dict: \"gnn.weight\", \"gnn.rnn.weight_ih\", \"gnn.rnn.weight_hh\", \"gnn.rnn.bias_ih\", \"gnn.rnn.bias_hh\". "
     ]
    }
   ],
   "source": [
    "# load model from gnn_model.pth file\n",
    "model = RecurrentGNN()\n",
    "model.load_state_dict(torch.load(\"recurrent_gnn_model.pth\"))\n",
    "xdmf_path = osp.join(os.getcwd(), \"4Students_AnXplore03\", \"AllFields_Resultats_MESH_219.xdmf\")\n",
    "meshes = xdmf_to_meshes(xdmf_path)\n",
    "total_error, list_errors = model.test_model(meshes)"
   ]
  },
  {
   "cell_type": "code",
   "execution_count": null,
   "metadata": {},
   "outputs": [
    {
     "data": {
      "text/plain": [
       "[4.4992594718933105,\n",
       " 24.79535675048828,\n",
       " 62.088966369628906,\n",
       " 132.77098083496094,\n",
       " 213.34913635253906,\n",
       " 289.0500183105469,\n",
       " 314.8927001953125,\n",
       " 283.2749328613281,\n",
       " 226.212646484375,\n",
       " 181.05934143066406,\n",
       " 143.78428649902344,\n",
       " 131.27053833007812,\n",
       " 159.33602905273438,\n",
       " 269.5675964355469,\n",
       " 607.7508544921875,\n",
       " 1554.509033203125,\n",
       " 3927.156982421875,\n",
       " 8621.470703125,\n",
       " 14865.251953125,\n",
       " 23022.64453125,\n",
       " 37535.98828125,\n",
       " 47164.57421875,\n",
       " 57248.93359375,\n",
       " 80889.375,\n",
       " 145367.453125,\n",
       " 343176.0,\n",
       " 895540.625,\n",
       " 2347191.75,\n",
       " 6168359.0,\n",
       " 15862154.0,\n",
       " 39573356.0,\n",
       " 97524416.0,\n",
       " 240402016.0,\n",
       " 591133888.0,\n",
       " 1419810432.0,\n",
       " 3365115392.0,\n",
       " 8026119680.0,\n",
       " 19652182016.0,\n",
       " 48624332800.0,\n",
       " 116517412864.0,\n",
       " 279168090112.0,\n",
       " 683184553984.0,\n",
       " 1750261563392.0,\n",
       " 4520895053824.0,\n",
       " 11050859626496.0,\n",
       " 27068549038080.0,\n",
       " 68152406835200.0,\n",
       " 181180712353792.0,\n",
       " 480591707373568.0,\n",
       " 1185049256919040.0,\n",
       " 2943756626034688.0,\n",
       " 7594721950040064.0,\n",
       " 2.075090685735731e+16,\n",
       " 5.576251818167501e+16,\n",
       " 1.3820333739160371e+17,\n",
       " 3.4765296667879014e+17,\n",
       " 9.193311526390333e+17,\n",
       " 2.553699043515564e+18,\n",
       " 6.832613194872127e+18,\n",
       " 1.6943285068028183e+19,\n",
       " 4.3066775346404655e+19,\n",
       " 1.1683582080561709e+20,\n",
       " 3.271113942940569e+20,\n",
       " 8.563786798116603e+20,\n",
       " 2.1233433600387826e+21,\n",
       " 5.443132137383228e+21,\n",
       " 1.5083954645647996e+22,\n",
       " 4.232599122673178e+22,\n",
       " 1.0792353188716693e+23,\n",
       " 2.6814270051777348e+23,\n",
       " 6.908265303351566e+23,\n",
       " 1.933761949068619e+24,\n",
       " 5.418423241610451e+24,\n",
       " 1.3589233284991396e+25,\n",
       " 3.38443381974413e+25,\n",
       " 8.741517256207779e+25,\n",
       " 2.450161664876683e+26,\n",
       " 6.833120416108602e+26]"
      ]
     },
     "metadata": {},
     "output_type": "display_data"
    }
   ],
   "source": [
    "list_errors"
   ]
  },
  {
   "cell_type": "code",
   "execution_count": null,
   "metadata": {},
   "outputs": [
    {
     "data": {
      "text/plain": [
       "[4.4992594718933105,\n",
       " 24.79535675048828,\n",
       " 62.088966369628906,\n",
       " 132.77098083496094,\n",
       " 213.34913635253906,\n",
       " 289.0500183105469,\n",
       " 314.8927001953125,\n",
       " 283.2749328613281,\n",
       " 226.212646484375,\n",
       " 181.05934143066406,\n",
       " 143.78428649902344,\n",
       " 131.27053833007812,\n",
       " 159.33602905273438,\n",
       " 269.5675964355469,\n",
       " 607.7508544921875,\n",
       " 1554.509033203125,\n",
       " 3927.156982421875,\n",
       " 8621.470703125,\n",
       " 14865.251953125,\n",
       " 23022.64453125,\n",
       " 37535.98828125,\n",
       " 47164.57421875,\n",
       " 57248.93359375,\n",
       " 80889.375,\n",
       " 145367.453125]"
      ]
     },
     "metadata": {},
     "output_type": "display_data"
    }
   ],
   "source": [
    "errors = list_errors[:25]\n",
    "errors"
   ]
  },
  {
   "cell_type": "code",
   "execution_count": null,
   "metadata": {},
   "outputs": [],
   "source": [
    "# debug code for some error I honestly didn't understand that made the kernel crash\n",
    "# import os\n",
    "# import matplotlib\n",
    "# import shutil\n",
    "\n",
    "# cache_dir = matplotlib.get_cachedir()\n",
    "# shutil.rmtree(cache_dir)"
   ]
  },
  {
   "cell_type": "code",
   "execution_count": null,
   "metadata": {},
   "outputs": [
    {
     "name": "stdout",
     "output_type": "stream",
     "text": [
      "25\n"
     ]
    },
    {
     "data": {
      "image/png": "[encoded data removed]",
      "text/plain": [
       "<Figure size 1000x500 with 1 Axes>"
      ]
     },
     "metadata": {},
     "output_type": "display_data"
    }
   ],
   "source": [
    "print(len(errors))\n",
    "\n",
    "plt.rcParams['font.family'] = 'DejaVu Sans'\n",
    "plt.figure(figsize=(10, 5))\n",
    "\n",
    "plt.plot(np.array(errors, dtype=np.float32))\n",
    "# plt.xlabel(\"Time step\")\n",
    "# plt.ylabel(\"MSE\")\n",
    "# plt.title(\"MSE per time step\")\n",
    "plt.savefig(\"MSE_per_time_step.png\")\n",
    "plt.show()"
   ]
  }
 ],
 "metadata": {
  "kernelspec": {
   "display_name": "idsc_challenge_jan",
   "language": "python",
   "name": "python3"
  },
  "language_info": {
   "codemirror_mode": {
    "name": "ipython",
    "version": 3
   },
   "file_extension": ".py",
   "mimetype": "text/x-python",
   "name": "python",
   "nbconvert_exporter": "python",
   "pygments_lexer": "ipython3",
   "version": "3.12.8"
  }
 },
 "nbformat": 4,
 "nbformat_minor": 2
}
