{
 "cells": [
  {
   "cell_type": "code",
   "execution_count": 25,
   "metadata": {},
   "outputs": [],
   "source": [
    "import os\n",
    "import os.path as osp\n",
    "import shutil\n",
    "import meshio\n",
    "from typing import List\n",
    "import matplotlib.pyplot as plt"
   ]
  },
  {
   "cell_type": "code",
   "execution_count": 2,
   "metadata": {},
   "outputs": [],
   "source": [
    "from mesh_handler import xdmf_to_meshes, meshes_to_xdmf, vtu_to_mesh, mesh_to_vtu, accessing_mesh_data, create_mock_mesh"
   ]
  },
  {
   "cell_type": "code",
   "execution_count": 3,
   "metadata": {},
   "outputs": [
    {
     "name": "stdout",
     "output_type": "stream",
     "text": [
      "\n",
      "### DEMO  XDMF ARCHIVE ###\n",
      "2D mesh archive:\n",
      "Loaded 121 timesteps from c:\\Users\\alexi\\Documents\\mines\\S5\\idsc\\data challenge janvier\\aneurysm_project\\Obstacle.xdmf\n",
      "\n"
     ]
    },
    {
     "data": {
      "text/plain": [
       "array([[0.      , 0.      , 0.      ],\n",
       "       [4.      , 0.      , 0.      ],\n",
       "       [4.      , 3.      , 0.      ],\n",
       "       ...,\n",
       "       [2.20449 , 0.663779, 0.      ],\n",
       "       [3.82059 , 2.75713 , 0.      ],\n",
       "       [0.736707, 0.299932, 0.      ]], shape=(1632, 3), dtype=float32)"
      ]
     },
     "execution_count": 3,
     "metadata": {},
     "output_type": "execute_result"
    }
   ],
   "source": [
    "# DEMO\n",
    "print(\"\\n### DEMO  XDMF ARCHIVE ###\")\n",
    "print(\"2D mesh archive:\")\n",
    "xdmf_path = osp.join(os.getcwd(), \"Obstacle.xdmf\")\n",
    "meshes = xdmf_to_meshes(xdmf_path)\n",
    "meshes[0].points"
   ]
  },
  {
   "cell_type": "code",
   "execution_count": 4,
   "metadata": {},
   "outputs": [
    {
     "name": "stdout",
     "output_type": "stream",
     "text": [
      "There are 1632 nodes in this mesh.\n",
      "First 5 nodes of the mesh: \n",
      "[[0.  0.  0. ]\n",
      " [4.  0.  0. ]\n",
      " [4.  3.  0. ]\n",
      " [0.  3.  0. ]\n",
      " [0.  2.9 0. ]] \n",
      "\n",
      "Types of cells in the mesh: ['triangle']\n",
      "There are 3122 triangular cells in this mesh.\n",
      "First 5 triangular cells of the mesh: \n",
      "[[ 696 1561  561]\n",
      " [ 642  252 1464]\n",
      " [ 252  605 1464]\n",
      " [ 275  652 1555]\n",
      " [1322  664  604]] \n",
      "\n",
      "Feature name: Vitesse / Feature shape: (1632, 3)\n",
      "Feature name: Pression / Feature shape: (1632,)\n"
     ]
    }
   ],
   "source": [
    "accessing_mesh_data(meshes[10])"
   ]
  },
  {
   "cell_type": "code",
   "execution_count": 5,
   "metadata": {},
   "outputs": [
    {
     "name": "stdout",
     "output_type": "stream",
     "text": [
      "\n",
      "3D mesh archive:\n",
      "Loaded 80 timesteps from c:\\Users\\alexi\\Documents\\mines\\S5\\idsc\\data challenge janvier\\aneurysm_project\\AllFields_Resultats_MESH_1.xdmf\n",
      "\n",
      "There are 11446 nodes in this mesh.\n",
      "First 5 nodes of the mesh: \n",
      "[[-2.205367   4.560882   1.67214  ]\n",
      " [-2.2580128  4.7989006  1.8012575]\n",
      " [-2.212806   5.078872   1.8893555]\n",
      " [-2.0400388  5.2704096  1.920871 ]\n",
      " [-1.8397863  5.4581513  1.9444325]] \n",
      "\n",
      "Types of cells in the mesh: ['tetra']\n",
      "There are 55472 tetrahedral cells in this mesh.\n",
      "First 5 tetrahedral cells of the mesh: \n",
      "[[4803 4804 4805 4806]\n",
      " [4807    0 2921 2922]\n",
      " [4808 1941 4809 4810]\n",
      " [4811 4812 4813 4814]\n",
      " [4815 3583 4816    3]] \n",
      "\n",
      "Feature name: Vitesse / Feature shape: (11446, 3)\n",
      "Feature name: Pression / Feature shape: (11446,)\n"
     ]
    }
   ],
   "source": [
    "print(\"\\n3D mesh archive:\")\n",
    "xdmf_path = osp.join(os.getcwd(), \"AllFields_Resultats_MESH_1.xdmf\")\n",
    "meshes = xdmf_to_meshes(xdmf_path)\n",
    "accessing_mesh_data(meshes[10])"
   ]
  },
  {
   "cell_type": "code",
   "execution_count": 6,
   "metadata": {},
   "outputs": [
    {
     "data": {
      "text/plain": [
       "array([[4803, 4804, 4805, 4806],\n",
       "       [4807,    0, 2921, 2922],\n",
       "       [4808, 1941, 4809, 4810],\n",
       "       ...,\n",
       "       [6558, 6354, 6587, 6804],\n",
       "       [6176, 6908, 9039, 6943],\n",
       "       [6176, 5669, 7795, 6178]], shape=(55472, 4))"
      ]
     },
     "execution_count": 6,
     "metadata": {},
     "output_type": "execute_result"
    }
   ],
   "source": [
    "mesh = meshes[0]\n",
    "mesh.cells_dict['tetra']"
   ]
  },
  {
   "cell_type": "code",
   "execution_count": 7,
   "metadata": {},
   "outputs": [
    {
     "data": {
      "text/plain": [
       "{49, 51, 801, 3253, 3433, 3434, 6748, 9626, 10349}"
      ]
     },
     "execution_count": 7,
     "metadata": {},
     "output_type": "execute_result"
    }
   ],
   "source": [
    "def get_neighbors(mesh, cell_idx):\n",
    "    neighbors = set()\n",
    "    for i, cell in enumerate(mesh.cells_dict['tetra']):\n",
    "        if cell_idx in cell:\n",
    "            # the cell is in this tetrahedron\n",
    "            for j in cell:\n",
    "                if j != cell_idx:\n",
    "                    neighbors.add(j.item())\n",
    "    return neighbors\n",
    "\n",
    "mesh = meshes[0]\n",
    "get_neighbors(mesh, 50)"
   ]
  },
  {
   "cell_type": "code",
   "execution_count": 8,
   "metadata": {},
   "outputs": [
    {
     "name": "stdout",
     "output_type": "stream",
     "text": [
      "\n",
      "### DEMO  VTU FILE FORMAT ###\n",
      "Mock mesh created.\n",
      "Mesh saved to c:\\Users\\alexi\\Documents\\mines\\S5\\idsc\\data challenge janvier\\aneurysm_project\\mock_mesh.vtu\n"
     ]
    }
   ],
   "source": [
    "print(\"\\n### DEMO  VTU FILE FORMAT ###\")\n",
    "mock_mesh = create_mock_mesh()\n",
    "vtu_path = osp.join(os.getcwd(), \"mock_mesh.vtu\")\n",
    "mesh_to_vtu(mock_mesh, vtu_path)"
   ]
  },
  {
   "cell_type": "markdown",
   "metadata": {},
   "source": [
    "# Real data"
   ]
  },
  {
   "cell_type": "code",
   "execution_count": 9,
   "metadata": {},
   "outputs": [
    {
     "name": "stdout",
     "output_type": "stream",
     "text": [
      "Loaded 80 timesteps from c:\\Users\\alexi\\Documents\\mines\\S5\\idsc\\data challenge janvier\\aneurysm_project\\4Students_AnXplore03\\AllFields_Resultats_MESH_1.xdmf\n",
      "\n",
      "Loaded 80 timesteps from c:\\Users\\alexi\\Documents\\mines\\S5\\idsc\\data challenge janvier\\aneurysm_project\\4Students_AnXplore03\\AllFields_Resultats_MESH_11.xdmf\n",
      "\n",
      "Loaded 80 timesteps from c:\\Users\\alexi\\Documents\\mines\\S5\\idsc\\data challenge janvier\\aneurysm_project\\4Students_AnXplore03\\AllFields_Resultats_MESH_117.xdmf\n",
      "\n",
      "Loaded 80 timesteps from c:\\Users\\alexi\\Documents\\mines\\S5\\idsc\\data challenge janvier\\aneurysm_project\\4Students_AnXplore03\\AllFields_Resultats_MESH_119-1.xdmf\n",
      "\n",
      "Loaded 80 timesteps from c:\\Users\\alexi\\Documents\\mines\\S5\\idsc\\data challenge janvier\\aneurysm_project\\4Students_AnXplore03\\AllFields_Resultats_MESH_119-2.xdmf\n",
      "\n",
      "5 80\n"
     ]
    }
   ],
   "source": [
    "# get list of .xdmf files\n",
    "# keep only the .xdmf files\n",
    "list_files = os.listdir(osp.join(os.getcwd(), \"4Students_AnXplore03\"))\n",
    "list_files = [f for f in list_files if f.endswith('.xdmf')]\n",
    "\n",
    "array_meshes = []\n",
    "for f in list_files[:5]:\n",
    "    # print(\"\\n\\n New file:\\n\")\n",
    "    xdmf_path = osp.join(os.getcwd(), \"4Students_AnXplore03\", f)\n",
    "    meshes = xdmf_to_meshes(xdmf_path)\n",
    "    array_meshes.append(meshes)\n",
    "\n",
    "print(len(array_meshes), len(array_meshes[0]))"
   ]
  },
  {
   "cell_type": "code",
   "execution_count": 10,
   "metadata": {},
   "outputs": [
    {
     "name": "stdout",
     "output_type": "stream",
     "text": [
      "Loaded 80 timesteps from AllFields_Resultats_MESH_1.xdmf\n",
      "\n",
      "There are 11446 nodes in this mesh.\n",
      "First 5 nodes of the mesh: \n",
      "[[-2.205367   4.560882   1.67214  ]\n",
      " [-2.2580128  4.7989006  1.8012575]\n",
      " [-2.212806   5.078872   1.8893555]\n",
      " [-2.0400388  5.2704096  1.920871 ]\n",
      " [-1.8397863  5.4581513  1.9444325]] \n",
      "\n",
      "Types of cells in the mesh: ['tetra']\n",
      "There are 55472 tetrahedral cells in this mesh.\n",
      "First 5 tetrahedral cells of the mesh: \n",
      "[[4803 4804 4805 4806]\n",
      " [4807    0 2921 2922]\n",
      " [4808 1941 4809 4810]\n",
      " [4811 4812 4813 4814]\n",
      " [4815 3583 4816    3]] \n",
      "\n",
      "Feature name: Vitesse / Feature shape: (11446, 3)\n",
      "Feature name: Pression / Feature shape: (11446,)\n"
     ]
    }
   ],
   "source": [
    "xdmf_path = osp.join(os.getcwd(), \"4Students_AnXplore03/AllFields_Resultats_MESH_1.xdmf\")\n",
    "meshes = xdmf_to_meshes(xdmf_path)\n",
    "accessing_mesh_data(meshes[10])"
   ]
  },
  {
   "cell_type": "markdown",
   "metadata": {},
   "source": [
    "# Create train dataset"
   ]
  },
  {
   "cell_type": "code",
   "execution_count": 11,
   "metadata": {},
   "outputs": [],
   "source": [
    "import numpy as np\n",
    "import scipy.sparse as sp\n",
    "import tqdm\n",
    "import meshio\n",
    "import torch\n",
    "from torch_geometric.data import Data"
   ]
  },
  {
   "cell_type": "code",
   "execution_count": 12,
   "metadata": {},
   "outputs": [],
   "source": [
    "def get_geometric_data(mesh):\n",
    "    # Extract node positions\n",
    "    node_positions = mesh.points  # Shape: (num_nodes, 3)\n",
    "\n",
    "    # Extract connectivity (edges)\n",
    "    elements = mesh.cells_dict[\"tetra\"]  # Extract tetrahedra\n",
    "\n",
    "    # Convert elements to edges (each triangle/tetrahedron defines connections)\n",
    "    edges = np.hstack([\n",
    "            [elements[:, 0], elements[:, 1]],  # Edge 1\n",
    "            [elements[:, 0], elements[:, 2]],  # Edge 2\n",
    "            [elements[:, 0], elements[:, 3]],  # Edge 3\n",
    "            [elements[:, 1], elements[:, 2]],  # Edge 4\n",
    "            [elements[:, 1], elements[:, 3]],  # Edge 5\n",
    "            [elements[:, 2], elements[:, 3]],  # Edge 6\n",
    "        ]).T # Shape: (num_edges, 2)\n",
    "\n",
    "    edges = np.unique(edges, axis=0)  # Remove duplicate edges\n",
    "    edge_index = torch.tensor(edges.T, dtype=torch.long)  # PyG format (2, num_edges)\n",
    "\n",
    "    # Compute edge features (relative positions)\n",
    "    edge_attr = node_positions[edges[:, 1]] - node_positions[edges[:, 0]]  # Shape: (num_edges, 3)\n",
    "    edge_attr = torch.tensor(edge_attr, dtype=torch.float)\n",
    "    return edge_index, edge_attr"
   ]
  },
  {
   "cell_type": "code",
   "execution_count": 13,
   "metadata": {},
   "outputs": [],
   "source": [
    "# we will train the model with times t-2 and t-1 to predict t\n",
    "# for each point, we can predict vx, vy, vz and p using the previous time steps\n",
    "\n",
    "def build_data():\n",
    "    data = {\n",
    "        'features' : [],\n",
    "        'target' : []\n",
    "    }\n",
    "    list_files = os.listdir(osp.join(os.getcwd(), \"4Students_AnXplore03\"))\n",
    "    list_files = [f for f in list_files if f.endswith('.xdmf')]\n",
    "\n",
    "    for f in tqdm.tqdm(list_files):\n",
    "        # print(\"\\n\\n New file:\\n\")\n",
    "        xdmf_path = osp.join(os.getcwd(), \"4Students_AnXplore03\", f)\n",
    "        meshes = xdmf_to_meshes(xdmf_path)\n",
    "        mesh = meshes[0]\n",
    "\n",
    "        edge_index, edge_attr = get_geometric_data(mesh)\n",
    "\n",
    "        for time_step in range(2, len(meshes)):\n",
    "            # Create node features (x, y, z, vx, vy, vz, p)\n",
    "            node_features_1 = np.hstack([\n",
    "                meshes[time_step-1].points,\n",
    "                meshes[time_step-1].point_data['Vitesse'],\n",
    "                meshes[time_step-1].point_data['Pression'].reshape(-1, 1)\n",
    "            ]) # Shape: (num_nodes, 7)\n",
    "            node_features_1 = torch.tensor(node_features_1, dtype=torch.float)\n",
    "            node_features = np.hstack([\n",
    "                meshes[time_step].points,\n",
    "                meshes[time_step].point_data['Vitesse'],\n",
    "                meshes[time_step].point_data['Pression'].reshape(-1, 1)\n",
    "            ]) # Shape: (num_nodes, 7)\n",
    "            node_features = torch.tensor(node_features, dtype=torch.float)\n",
    "\n",
    "            # Create PyTorch Geometric data object\n",
    "            graph_data_1 = Data(x=node_features_1, edge_index=edge_index, edge_attr=edge_attr)\n",
    "            graph_data = Data(x=node_features, edge_index=edge_index, edge_attr=edge_attr)\n",
    "\n",
    "            data['features'].append(graph_data_1)\n",
    "            data['target'].append(graph_data)\n",
    "    return data"
   ]
  },
  {
   "cell_type": "code",
   "execution_count": 14,
   "metadata": {},
   "outputs": [
    {
     "name": "stderr",
     "output_type": "stream",
     "text": [
      "  0%|          | 0/103 [00:00<?, ?it/s]"
     ]
    },
    {
     "name": "stdout",
     "output_type": "stream",
     "text": [
      "Loaded 80 timesteps from c:\\Users\\alexi\\Documents\\mines\\S5\\idsc\\data challenge janvier\\aneurysm_project\\4Students_AnXplore03\\AllFields_Resultats_MESH_1.xdmf\n",
      "\n"
     ]
    },
    {
     "name": "stderr",
     "output_type": "stream",
     "text": [
      "  1%|          | 1/103 [00:00<00:50,  2.02it/s]"
     ]
    },
    {
     "name": "stdout",
     "output_type": "stream",
     "text": [
      "Loaded 80 timesteps from c:\\Users\\alexi\\Documents\\mines\\S5\\idsc\\data challenge janvier\\aneurysm_project\\4Students_AnXplore03\\AllFields_Resultats_MESH_11.xdmf\n",
      "\n"
     ]
    },
    {
     "name": "stderr",
     "output_type": "stream",
     "text": [
      "  2%|▏         | 2/103 [00:01<01:26,  1.17it/s]"
     ]
    },
    {
     "name": "stdout",
     "output_type": "stream",
     "text": [
      "Loaded 80 timesteps from c:\\Users\\alexi\\Documents\\mines\\S5\\idsc\\data challenge janvier\\aneurysm_project\\4Students_AnXplore03\\AllFields_Resultats_MESH_117.xdmf\n",
      "\n"
     ]
    },
    {
     "name": "stderr",
     "output_type": "stream",
     "text": [
      "  3%|▎         | 3/103 [00:02<01:19,  1.25it/s]"
     ]
    },
    {
     "name": "stdout",
     "output_type": "stream",
     "text": [
      "Loaded 80 timesteps from c:\\Users\\alexi\\Documents\\mines\\S5\\idsc\\data challenge janvier\\aneurysm_project\\4Students_AnXplore03\\AllFields_Resultats_MESH_119-1.xdmf\n",
      "\n"
     ]
    },
    {
     "name": "stderr",
     "output_type": "stream",
     "text": [
      "  4%|▍         | 4/103 [00:02<01:06,  1.49it/s]"
     ]
    },
    {
     "name": "stdout",
     "output_type": "stream",
     "text": [
      "Loaded 80 timesteps from c:\\Users\\alexi\\Documents\\mines\\S5\\idsc\\data challenge janvier\\aneurysm_project\\4Students_AnXplore03\\AllFields_Resultats_MESH_119-2.xdmf\n",
      "\n"
     ]
    },
    {
     "name": "stderr",
     "output_type": "stream",
     "text": [
      "  5%|▍         | 5/103 [00:03<01:00,  1.62it/s]"
     ]
    },
    {
     "name": "stdout",
     "output_type": "stream",
     "text": [
      "Loaded 80 timesteps from c:\\Users\\alexi\\Documents\\mines\\S5\\idsc\\data challenge janvier\\aneurysm_project\\4Students_AnXplore03\\AllFields_Resultats_MESH_120.xdmf\n",
      "\n"
     ]
    },
    {
     "name": "stderr",
     "output_type": "stream",
     "text": [
      "  6%|▌         | 6/103 [00:04<01:06,  1.45it/s]"
     ]
    },
    {
     "name": "stdout",
     "output_type": "stream",
     "text": [
      "Loaded 80 timesteps from c:\\Users\\alexi\\Documents\\mines\\S5\\idsc\\data challenge janvier\\aneurysm_project\\4Students_AnXplore03\\AllFields_Resultats_MESH_121.xdmf\n",
      "\n"
     ]
    },
    {
     "name": "stderr",
     "output_type": "stream",
     "text": [
      "  7%|▋         | 7/103 [00:04<01:02,  1.53it/s]"
     ]
    },
    {
     "name": "stdout",
     "output_type": "stream",
     "text": [
      "Loaded 80 timesteps from c:\\Users\\alexi\\Documents\\mines\\S5\\idsc\\data challenge janvier\\aneurysm_project\\4Students_AnXplore03\\AllFields_Resultats_MESH_128.xdmf\n",
      "\n"
     ]
    },
    {
     "name": "stderr",
     "output_type": "stream",
     "text": [
      "  8%|▊         | 8/103 [00:05<01:07,  1.40it/s]"
     ]
    },
    {
     "name": "stdout",
     "output_type": "stream",
     "text": [
      "Loaded 80 timesteps from c:\\Users\\alexi\\Documents\\mines\\S5\\idsc\\data challenge janvier\\aneurysm_project\\4Students_AnXplore03\\AllFields_Resultats_MESH_129.xdmf\n",
      "\n"
     ]
    },
    {
     "name": "stderr",
     "output_type": "stream",
     "text": [
      "  9%|▊         | 9/103 [00:06<01:03,  1.48it/s]"
     ]
    },
    {
     "name": "stdout",
     "output_type": "stream",
     "text": [
      "Loaded 80 timesteps from c:\\Users\\alexi\\Documents\\mines\\S5\\idsc\\data challenge janvier\\aneurysm_project\\4Students_AnXplore03\\AllFields_Resultats_MESH_134.xdmf\n",
      "\n"
     ]
    },
    {
     "name": "stderr",
     "output_type": "stream",
     "text": [
      " 10%|▉         | 10/103 [00:06<00:59,  1.56it/s]"
     ]
    },
    {
     "name": "stdout",
     "output_type": "stream",
     "text": [
      "Loaded 80 timesteps from c:\\Users\\alexi\\Documents\\mines\\S5\\idsc\\data challenge janvier\\aneurysm_project\\4Students_AnXplore03\\AllFields_Resultats_MESH_135.xdmf\n",
      "\n"
     ]
    },
    {
     "name": "stderr",
     "output_type": "stream",
     "text": [
      " 11%|█         | 11/103 [00:07<00:57,  1.59it/s]"
     ]
    },
    {
     "name": "stdout",
     "output_type": "stream",
     "text": [
      "Loaded 80 timesteps from c:\\Users\\alexi\\Documents\\mines\\S5\\idsc\\data challenge janvier\\aneurysm_project\\4Students_AnXplore03\\AllFields_Resultats_MESH_136.xdmf\n",
      "\n"
     ]
    },
    {
     "name": "stderr",
     "output_type": "stream",
     "text": [
      " 12%|█▏        | 12/103 [00:07<00:58,  1.56it/s]"
     ]
    },
    {
     "name": "stdout",
     "output_type": "stream",
     "text": [
      "Loaded 80 timesteps from c:\\Users\\alexi\\Documents\\mines\\S5\\idsc\\data challenge janvier\\aneurysm_project\\4Students_AnXplore03\\AllFields_Resultats_MESH_137.xdmf\n",
      "\n"
     ]
    },
    {
     "name": "stderr",
     "output_type": "stream",
     "text": [
      " 13%|█▎        | 13/103 [00:08<00:58,  1.53it/s]"
     ]
    },
    {
     "name": "stdout",
     "output_type": "stream",
     "text": [
      "Loaded 80 timesteps from c:\\Users\\alexi\\Documents\\mines\\S5\\idsc\\data challenge janvier\\aneurysm_project\\4Students_AnXplore03\\AllFields_Resultats_MESH_138.xdmf\n",
      "\n"
     ]
    },
    {
     "name": "stderr",
     "output_type": "stream",
     "text": [
      " 14%|█▎        | 14/103 [00:09<00:57,  1.54it/s]"
     ]
    },
    {
     "name": "stdout",
     "output_type": "stream",
     "text": [
      "Loaded 80 timesteps from c:\\Users\\alexi\\Documents\\mines\\S5\\idsc\\data challenge janvier\\aneurysm_project\\4Students_AnXplore03\\AllFields_Resultats_MESH_139.xdmf\n",
      "\n"
     ]
    },
    {
     "name": "stderr",
     "output_type": "stream",
     "text": [
      " 15%|█▍        | 15/103 [00:09<00:56,  1.56it/s]"
     ]
    },
    {
     "name": "stdout",
     "output_type": "stream",
     "text": [
      "Loaded 80 timesteps from c:\\Users\\alexi\\Documents\\mines\\S5\\idsc\\data challenge janvier\\aneurysm_project\\4Students_AnXplore03\\AllFields_Resultats_MESH_140.xdmf\n",
      "\n"
     ]
    },
    {
     "name": "stderr",
     "output_type": "stream",
     "text": [
      " 16%|█▌        | 16/103 [00:10<00:58,  1.48it/s]"
     ]
    },
    {
     "name": "stdout",
     "output_type": "stream",
     "text": [
      "Loaded 80 timesteps from c:\\Users\\alexi\\Documents\\mines\\S5\\idsc\\data challenge janvier\\aneurysm_project\\4Students_AnXplore03\\AllFields_Resultats_MESH_142.xdmf\n",
      "\n"
     ]
    },
    {
     "name": "stderr",
     "output_type": "stream",
     "text": [
      " 17%|█▋        | 17/103 [00:11<00:55,  1.55it/s]"
     ]
    },
    {
     "name": "stdout",
     "output_type": "stream",
     "text": [
      "Loaded 80 timesteps from c:\\Users\\alexi\\Documents\\mines\\S5\\idsc\\data challenge janvier\\aneurysm_project\\4Students_AnXplore03\\AllFields_Resultats_MESH_144-2.xdmf\n",
      "\n"
     ]
    },
    {
     "name": "stderr",
     "output_type": "stream",
     "text": [
      " 17%|█▋        | 18/103 [00:11<00:54,  1.57it/s]"
     ]
    },
    {
     "name": "stdout",
     "output_type": "stream",
     "text": [
      "Loaded 80 timesteps from c:\\Users\\alexi\\Documents\\mines\\S5\\idsc\\data challenge janvier\\aneurysm_project\\4Students_AnXplore03\\AllFields_Resultats_MESH_148.xdmf\n",
      "\n"
     ]
    },
    {
     "name": "stderr",
     "output_type": "stream",
     "text": [
      " 18%|█▊        | 19/103 [00:12<00:53,  1.58it/s]"
     ]
    },
    {
     "name": "stdout",
     "output_type": "stream",
     "text": [
      "Loaded 80 timesteps from c:\\Users\\alexi\\Documents\\mines\\S5\\idsc\\data challenge janvier\\aneurysm_project\\4Students_AnXplore03\\AllFields_Resultats_MESH_151.xdmf\n",
      "\n"
     ]
    },
    {
     "name": "stderr",
     "output_type": "stream",
     "text": [
      " 19%|█▉        | 20/103 [00:13<00:55,  1.49it/s]"
     ]
    },
    {
     "name": "stdout",
     "output_type": "stream",
     "text": [
      "Loaded 80 timesteps from c:\\Users\\alexi\\Documents\\mines\\S5\\idsc\\data challenge janvier\\aneurysm_project\\4Students_AnXplore03\\AllFields_Resultats_MESH_152.xdmf\n",
      "\n"
     ]
    },
    {
     "name": "stderr",
     "output_type": "stream",
     "text": [
      " 20%|██        | 21/103 [00:13<00:54,  1.52it/s]"
     ]
    },
    {
     "name": "stdout",
     "output_type": "stream",
     "text": [
      "Loaded 80 timesteps from c:\\Users\\alexi\\Documents\\mines\\S5\\idsc\\data challenge janvier\\aneurysm_project\\4Students_AnXplore03\\AllFields_Resultats_MESH_153.xdmf\n",
      "\n"
     ]
    },
    {
     "name": "stderr",
     "output_type": "stream",
     "text": [
      " 21%|██▏       | 22/103 [00:14<00:54,  1.48it/s]"
     ]
    },
    {
     "name": "stdout",
     "output_type": "stream",
     "text": [
      "Loaded 80 timesteps from c:\\Users\\alexi\\Documents\\mines\\S5\\idsc\\data challenge janvier\\aneurysm_project\\4Students_AnXplore03\\AllFields_Resultats_MESH_155.xdmf\n",
      "\n"
     ]
    },
    {
     "name": "stderr",
     "output_type": "stream",
     "text": [
      " 22%|██▏       | 23/103 [00:15<00:53,  1.49it/s]"
     ]
    },
    {
     "name": "stdout",
     "output_type": "stream",
     "text": [
      "Loaded 80 timesteps from c:\\Users\\alexi\\Documents\\mines\\S5\\idsc\\data challenge janvier\\aneurysm_project\\4Students_AnXplore03\\AllFields_Resultats_MESH_157.xdmf\n",
      "\n"
     ]
    },
    {
     "name": "stderr",
     "output_type": "stream",
     "text": [
      " 23%|██▎       | 24/103 [00:15<00:52,  1.52it/s]"
     ]
    },
    {
     "name": "stdout",
     "output_type": "stream",
     "text": [
      "Loaded 80 timesteps from c:\\Users\\alexi\\Documents\\mines\\S5\\idsc\\data challenge janvier\\aneurysm_project\\4Students_AnXplore03\\AllFields_Resultats_MESH_158.xdmf\n",
      "\n"
     ]
    },
    {
     "name": "stderr",
     "output_type": "stream",
     "text": [
      " 24%|██▍       | 25/103 [00:16<00:49,  1.56it/s]"
     ]
    },
    {
     "name": "stdout",
     "output_type": "stream",
     "text": [
      "Loaded 80 timesteps from c:\\Users\\alexi\\Documents\\mines\\S5\\idsc\\data challenge janvier\\aneurysm_project\\4Students_AnXplore03\\AllFields_Resultats_MESH_159.xdmf\n",
      "\n"
     ]
    },
    {
     "name": "stderr",
     "output_type": "stream",
     "text": [
      " 25%|██▌       | 26/103 [00:17<00:48,  1.58it/s]"
     ]
    },
    {
     "name": "stdout",
     "output_type": "stream",
     "text": [
      "Loaded 80 timesteps from c:\\Users\\alexi\\Documents\\mines\\S5\\idsc\\data challenge janvier\\aneurysm_project\\4Students_AnXplore03\\AllFields_Resultats_MESH_161.xdmf\n",
      "\n"
     ]
    },
    {
     "name": "stderr",
     "output_type": "stream",
     "text": [
      " 26%|██▌       | 27/103 [00:17<00:47,  1.60it/s]"
     ]
    },
    {
     "name": "stdout",
     "output_type": "stream",
     "text": [
      "Loaded 80 timesteps from c:\\Users\\alexi\\Documents\\mines\\S5\\idsc\\data challenge janvier\\aneurysm_project\\4Students_AnXplore03\\AllFields_Resultats_MESH_162.xdmf\n",
      "\n"
     ]
    },
    {
     "name": "stderr",
     "output_type": "stream",
     "text": [
      " 27%|██▋       | 28/103 [00:18<00:46,  1.60it/s]"
     ]
    },
    {
     "name": "stdout",
     "output_type": "stream",
     "text": [
      "Loaded 80 timesteps from c:\\Users\\alexi\\Documents\\mines\\S5\\idsc\\data challenge janvier\\aneurysm_project\\4Students_AnXplore03\\AllFields_Resultats_MESH_163-1.xdmf\n",
      "\n"
     ]
    },
    {
     "name": "stderr",
     "output_type": "stream",
     "text": [
      " 28%|██▊       | 29/103 [00:19<00:47,  1.55it/s]"
     ]
    },
    {
     "name": "stdout",
     "output_type": "stream",
     "text": [
      "Loaded 80 timesteps from c:\\Users\\alexi\\Documents\\mines\\S5\\idsc\\data challenge janvier\\aneurysm_project\\4Students_AnXplore03\\AllFields_Resultats_MESH_163-2.xdmf\n",
      "\n"
     ]
    },
    {
     "name": "stderr",
     "output_type": "stream",
     "text": [
      " 29%|██▉       | 30/103 [00:19<00:46,  1.58it/s]"
     ]
    },
    {
     "name": "stdout",
     "output_type": "stream",
     "text": [
      "Loaded 80 timesteps from c:\\Users\\alexi\\Documents\\mines\\S5\\idsc\\data challenge janvier\\aneurysm_project\\4Students_AnXplore03\\AllFields_Resultats_MESH_164.xdmf\n",
      "\n"
     ]
    },
    {
     "name": "stderr",
     "output_type": "stream",
     "text": [
      " 30%|███       | 31/103 [00:20<00:44,  1.60it/s]"
     ]
    },
    {
     "name": "stdout",
     "output_type": "stream",
     "text": [
      "Loaded 80 timesteps from c:\\Users\\alexi\\Documents\\mines\\S5\\idsc\\data challenge janvier\\aneurysm_project\\4Students_AnXplore03\\AllFields_Resultats_MESH_165.xdmf\n",
      "\n"
     ]
    },
    {
     "name": "stderr",
     "output_type": "stream",
     "text": [
      " 31%|███       | 32/103 [00:21<00:47,  1.49it/s]"
     ]
    },
    {
     "name": "stdout",
     "output_type": "stream",
     "text": [
      "Loaded 80 timesteps from c:\\Users\\alexi\\Documents\\mines\\S5\\idsc\\data challenge janvier\\aneurysm_project\\4Students_AnXplore03\\AllFields_Resultats_MESH_166.xdmf\n",
      "\n"
     ]
    },
    {
     "name": "stderr",
     "output_type": "stream",
     "text": [
      " 32%|███▏      | 33/103 [00:21<00:46,  1.51it/s]"
     ]
    },
    {
     "name": "stdout",
     "output_type": "stream",
     "text": [
      "Loaded 80 timesteps from c:\\Users\\alexi\\Documents\\mines\\S5\\idsc\\data challenge janvier\\aneurysm_project\\4Students_AnXplore03\\AllFields_Resultats_MESH_168-1.xdmf\n",
      "\n"
     ]
    },
    {
     "name": "stderr",
     "output_type": "stream",
     "text": [
      " 33%|███▎      | 34/103 [00:22<00:46,  1.49it/s]"
     ]
    },
    {
     "name": "stdout",
     "output_type": "stream",
     "text": [
      "Loaded 80 timesteps from c:\\Users\\alexi\\Documents\\mines\\S5\\idsc\\data challenge janvier\\aneurysm_project\\4Students_AnXplore03\\AllFields_Resultats_MESH_168-2.xdmf\n",
      "\n"
     ]
    },
    {
     "name": "stderr",
     "output_type": "stream",
     "text": [
      " 34%|███▍      | 35/103 [00:23<00:45,  1.51it/s]"
     ]
    },
    {
     "name": "stdout",
     "output_type": "stream",
     "text": [
      "Loaded 80 timesteps from c:\\Users\\alexi\\Documents\\mines\\S5\\idsc\\data challenge janvier\\aneurysm_project\\4Students_AnXplore03\\AllFields_Resultats_MESH_170.xdmf\n",
      "\n"
     ]
    },
    {
     "name": "stderr",
     "output_type": "stream",
     "text": [
      " 35%|███▍      | 36/103 [00:23<00:43,  1.54it/s]"
     ]
    },
    {
     "name": "stdout",
     "output_type": "stream",
     "text": [
      "Loaded 80 timesteps from c:\\Users\\alexi\\Documents\\mines\\S5\\idsc\\data challenge janvier\\aneurysm_project\\4Students_AnXplore03\\AllFields_Resultats_MESH_171.xdmf\n",
      "\n"
     ]
    },
    {
     "name": "stderr",
     "output_type": "stream",
     "text": [
      " 36%|███▌      | 37/103 [00:24<00:42,  1.56it/s]"
     ]
    },
    {
     "name": "stdout",
     "output_type": "stream",
     "text": [
      "Loaded 80 timesteps from c:\\Users\\alexi\\Documents\\mines\\S5\\idsc\\data challenge janvier\\aneurysm_project\\4Students_AnXplore03\\AllFields_Resultats_MESH_172.xdmf\n",
      "\n"
     ]
    },
    {
     "name": "stderr",
     "output_type": "stream",
     "text": [
      " 37%|███▋      | 38/103 [00:25<00:52,  1.23it/s]"
     ]
    },
    {
     "name": "stdout",
     "output_type": "stream",
     "text": [
      "Loaded 80 timesteps from c:\\Users\\alexi\\Documents\\mines\\S5\\idsc\\data challenge janvier\\aneurysm_project\\4Students_AnXplore03\\AllFields_Resultats_MESH_173.xdmf\n",
      "\n"
     ]
    },
    {
     "name": "stderr",
     "output_type": "stream",
     "text": [
      " 38%|███▊      | 39/103 [00:26<00:51,  1.25it/s]"
     ]
    },
    {
     "name": "stdout",
     "output_type": "stream",
     "text": [
      "Loaded 80 timesteps from c:\\Users\\alexi\\Documents\\mines\\S5\\idsc\\data challenge janvier\\aneurysm_project\\4Students_AnXplore03\\AllFields_Resultats_MESH_174.xdmf\n",
      "\n"
     ]
    },
    {
     "name": "stderr",
     "output_type": "stream",
     "text": [
      " 39%|███▉      | 40/103 [00:26<00:48,  1.29it/s]"
     ]
    },
    {
     "name": "stdout",
     "output_type": "stream",
     "text": [
      "Loaded 80 timesteps from c:\\Users\\alexi\\Documents\\mines\\S5\\idsc\\data challenge janvier\\aneurysm_project\\4Students_AnXplore03\\AllFields_Resultats_MESH_175.xdmf\n",
      "\n"
     ]
    },
    {
     "name": "stderr",
     "output_type": "stream",
     "text": [
      " 40%|███▉      | 41/103 [00:27<00:47,  1.30it/s]"
     ]
    },
    {
     "name": "stdout",
     "output_type": "stream",
     "text": [
      "Loaded 80 timesteps from c:\\Users\\alexi\\Documents\\mines\\S5\\idsc\\data challenge janvier\\aneurysm_project\\4Students_AnXplore03\\AllFields_Resultats_MESH_177.xdmf\n",
      "\n"
     ]
    },
    {
     "name": "stderr",
     "output_type": "stream",
     "text": [
      " 41%|████      | 42/103 [00:28<00:44,  1.36it/s]"
     ]
    },
    {
     "name": "stdout",
     "output_type": "stream",
     "text": [
      "Loaded 80 timesteps from c:\\Users\\alexi\\Documents\\mines\\S5\\idsc\\data challenge janvier\\aneurysm_project\\4Students_AnXplore03\\AllFields_Resultats_MESH_178.xdmf\n",
      "\n"
     ]
    },
    {
     "name": "stderr",
     "output_type": "stream",
     "text": [
      " 42%|████▏     | 43/103 [00:28<00:41,  1.43it/s]"
     ]
    },
    {
     "name": "stdout",
     "output_type": "stream",
     "text": [
      "Loaded 80 timesteps from c:\\Users\\alexi\\Documents\\mines\\S5\\idsc\\data challenge janvier\\aneurysm_project\\4Students_AnXplore03\\AllFields_Resultats_MESH_180.xdmf\n",
      "\n"
     ]
    },
    {
     "name": "stderr",
     "output_type": "stream",
     "text": [
      " 43%|████▎     | 44/103 [00:29<00:40,  1.45it/s]"
     ]
    },
    {
     "name": "stdout",
     "output_type": "stream",
     "text": [
      "Loaded 80 timesteps from c:\\Users\\alexi\\Documents\\mines\\S5\\idsc\\data challenge janvier\\aneurysm_project\\4Students_AnXplore03\\AllFields_Resultats_MESH_181.xdmf\n",
      "\n"
     ]
    },
    {
     "name": "stderr",
     "output_type": "stream",
     "text": [
      " 44%|████▎     | 45/103 [00:30<00:38,  1.50it/s]"
     ]
    },
    {
     "name": "stdout",
     "output_type": "stream",
     "text": [
      "Loaded 80 timesteps from c:\\Users\\alexi\\Documents\\mines\\S5\\idsc\\data challenge janvier\\aneurysm_project\\4Students_AnXplore03\\AllFields_Resultats_MESH_182-1.xdmf\n",
      "\n"
     ]
    },
    {
     "name": "stderr",
     "output_type": "stream",
     "text": [
      " 45%|████▍     | 46/103 [00:30<00:37,  1.53it/s]"
     ]
    },
    {
     "name": "stdout",
     "output_type": "stream",
     "text": [
      "Loaded 80 timesteps from c:\\Users\\alexi\\Documents\\mines\\S5\\idsc\\data challenge janvier\\aneurysm_project\\4Students_AnXplore03\\AllFields_Resultats_MESH_182-2.xdmf\n",
      "\n"
     ]
    },
    {
     "name": "stderr",
     "output_type": "stream",
     "text": [
      " 46%|████▌     | 47/103 [00:31<00:38,  1.45it/s]"
     ]
    },
    {
     "name": "stdout",
     "output_type": "stream",
     "text": [
      "Loaded 80 timesteps from c:\\Users\\alexi\\Documents\\mines\\S5\\idsc\\data challenge janvier\\aneurysm_project\\4Students_AnXplore03\\AllFields_Resultats_MESH_182-3.xdmf\n",
      "\n"
     ]
    },
    {
     "name": "stderr",
     "output_type": "stream",
     "text": [
      " 47%|████▋     | 48/103 [00:32<00:36,  1.51it/s]"
     ]
    },
    {
     "name": "stdout",
     "output_type": "stream",
     "text": [
      "Loaded 80 timesteps from c:\\Users\\alexi\\Documents\\mines\\S5\\idsc\\data challenge janvier\\aneurysm_project\\4Students_AnXplore03\\AllFields_Resultats_MESH_183.xdmf\n",
      "\n"
     ]
    },
    {
     "name": "stderr",
     "output_type": "stream",
     "text": [
      " 48%|████▊     | 49/103 [00:32<00:35,  1.52it/s]"
     ]
    },
    {
     "name": "stdout",
     "output_type": "stream",
     "text": [
      "Loaded 80 timesteps from c:\\Users\\alexi\\Documents\\mines\\S5\\idsc\\data challenge janvier\\aneurysm_project\\4Students_AnXplore03\\AllFields_Resultats_MESH_185.xdmf\n",
      "\n"
     ]
    },
    {
     "name": "stderr",
     "output_type": "stream",
     "text": [
      " 49%|████▊     | 50/103 [00:33<00:33,  1.59it/s]"
     ]
    },
    {
     "name": "stdout",
     "output_type": "stream",
     "text": [
      "Loaded 80 timesteps from c:\\Users\\alexi\\Documents\\mines\\S5\\idsc\\data challenge janvier\\aneurysm_project\\4Students_AnXplore03\\AllFields_Resultats_MESH_186-1.xdmf\n",
      "\n"
     ]
    },
    {
     "name": "stderr",
     "output_type": "stream",
     "text": [
      " 50%|████▉     | 51/103 [00:34<00:33,  1.57it/s]"
     ]
    },
    {
     "name": "stdout",
     "output_type": "stream",
     "text": [
      "Loaded 80 timesteps from c:\\Users\\alexi\\Documents\\mines\\S5\\idsc\\data challenge janvier\\aneurysm_project\\4Students_AnXplore03\\AllFields_Resultats_MESH_186-2.xdmf\n",
      "\n"
     ]
    },
    {
     "name": "stderr",
     "output_type": "stream",
     "text": [
      " 50%|█████     | 52/103 [00:34<00:31,  1.60it/s]"
     ]
    },
    {
     "name": "stdout",
     "output_type": "stream",
     "text": [
      "Loaded 80 timesteps from c:\\Users\\alexi\\Documents\\mines\\S5\\idsc\\data challenge janvier\\aneurysm_project\\4Students_AnXplore03\\AllFields_Resultats_MESH_187.xdmf\n",
      "\n"
     ]
    },
    {
     "name": "stderr",
     "output_type": "stream",
     "text": [
      " 51%|█████▏    | 53/103 [00:35<00:32,  1.56it/s]"
     ]
    },
    {
     "name": "stdout",
     "output_type": "stream",
     "text": [
      "Loaded 80 timesteps from c:\\Users\\alexi\\Documents\\mines\\S5\\idsc\\data challenge janvier\\aneurysm_project\\4Students_AnXplore03\\AllFields_Resultats_MESH_188.xdmf\n",
      "\n"
     ]
    },
    {
     "name": "stderr",
     "output_type": "stream",
     "text": [
      " 52%|█████▏    | 54/103 [00:36<00:31,  1.57it/s]"
     ]
    },
    {
     "name": "stdout",
     "output_type": "stream",
     "text": [
      "Loaded 80 timesteps from c:\\Users\\alexi\\Documents\\mines\\S5\\idsc\\data challenge janvier\\aneurysm_project\\4Students_AnXplore03\\AllFields_Resultats_MESH_189.xdmf\n",
      "\n"
     ]
    },
    {
     "name": "stderr",
     "output_type": "stream",
     "text": [
      " 53%|█████▎    | 55/103 [00:36<00:30,  1.58it/s]"
     ]
    },
    {
     "name": "stdout",
     "output_type": "stream",
     "text": [
      "Loaded 80 timesteps from c:\\Users\\alexi\\Documents\\mines\\S5\\idsc\\data challenge janvier\\aneurysm_project\\4Students_AnXplore03\\AllFields_Resultats_MESH_19.xdmf\n",
      "\n"
     ]
    },
    {
     "name": "stderr",
     "output_type": "stream",
     "text": [
      " 54%|█████▍    | 56/103 [00:37<00:28,  1.64it/s]"
     ]
    },
    {
     "name": "stdout",
     "output_type": "stream",
     "text": [
      "Loaded 80 timesteps from c:\\Users\\alexi\\Documents\\mines\\S5\\idsc\\data challenge janvier\\aneurysm_project\\4Students_AnXplore03\\AllFields_Resultats_MESH_191.xdmf\n",
      "\n"
     ]
    },
    {
     "name": "stderr",
     "output_type": "stream",
     "text": [
      " 55%|█████▌    | 57/103 [00:38<00:32,  1.43it/s]"
     ]
    },
    {
     "name": "stdout",
     "output_type": "stream",
     "text": [
      "Loaded 80 timesteps from c:\\Users\\alexi\\Documents\\mines\\S5\\idsc\\data challenge janvier\\aneurysm_project\\4Students_AnXplore03\\AllFields_Resultats_MESH_192.xdmf\n",
      "\n"
     ]
    },
    {
     "name": "stderr",
     "output_type": "stream",
     "text": [
      " 56%|█████▋    | 58/103 [00:38<00:32,  1.37it/s]"
     ]
    },
    {
     "name": "stdout",
     "output_type": "stream",
     "text": [
      "Loaded 80 timesteps from c:\\Users\\alexi\\Documents\\mines\\S5\\idsc\\data challenge janvier\\aneurysm_project\\4Students_AnXplore03\\AllFields_Resultats_MESH_193-1.xdmf\n",
      "\n"
     ]
    },
    {
     "name": "stderr",
     "output_type": "stream",
     "text": [
      " 57%|█████▋    | 59/103 [00:40<00:38,  1.14it/s]"
     ]
    },
    {
     "name": "stdout",
     "output_type": "stream",
     "text": [
      "Loaded 80 timesteps from c:\\Users\\alexi\\Documents\\mines\\S5\\idsc\\data challenge janvier\\aneurysm_project\\4Students_AnXplore03\\AllFields_Resultats_MESH_193-2.xdmf\n",
      "\n"
     ]
    },
    {
     "name": "stderr",
     "output_type": "stream",
     "text": [
      " 58%|█████▊    | 60/103 [00:41<00:41,  1.03it/s]"
     ]
    },
    {
     "name": "stdout",
     "output_type": "stream",
     "text": [
      "Loaded 80 timesteps from c:\\Users\\alexi\\Documents\\mines\\S5\\idsc\\data challenge janvier\\aneurysm_project\\4Students_AnXplore03\\AllFields_Resultats_MESH_194.xdmf\n",
      "\n"
     ]
    },
    {
     "name": "stderr",
     "output_type": "stream",
     "text": [
      " 59%|█████▉    | 61/103 [00:42<00:39,  1.07it/s]"
     ]
    },
    {
     "name": "stdout",
     "output_type": "stream",
     "text": [
      "Loaded 80 timesteps from c:\\Users\\alexi\\Documents\\mines\\S5\\idsc\\data challenge janvier\\aneurysm_project\\4Students_AnXplore03\\AllFields_Resultats_MESH_195.xdmf\n",
      "\n"
     ]
    },
    {
     "name": "stderr",
     "output_type": "stream",
     "text": [
      " 60%|██████    | 62/103 [00:42<00:35,  1.14it/s]"
     ]
    },
    {
     "name": "stdout",
     "output_type": "stream",
     "text": [
      "Loaded 80 timesteps from c:\\Users\\alexi\\Documents\\mines\\S5\\idsc\\data challenge janvier\\aneurysm_project\\4Students_AnXplore03\\AllFields_Resultats_MESH_196-1.xdmf\n",
      "\n"
     ]
    },
    {
     "name": "stderr",
     "output_type": "stream",
     "text": [
      " 61%|██████    | 63/103 [00:43<00:32,  1.23it/s]"
     ]
    },
    {
     "name": "stdout",
     "output_type": "stream",
     "text": [
      "Loaded 80 timesteps from c:\\Users\\alexi\\Documents\\mines\\S5\\idsc\\data challenge janvier\\aneurysm_project\\4Students_AnXplore03\\AllFields_Resultats_MESH_196-2.xdmf\n",
      "\n"
     ]
    },
    {
     "name": "stderr",
     "output_type": "stream",
     "text": [
      " 62%|██████▏   | 64/103 [00:44<00:30,  1.28it/s]"
     ]
    },
    {
     "name": "stdout",
     "output_type": "stream",
     "text": [
      "Loaded 80 timesteps from c:\\Users\\alexi\\Documents\\mines\\S5\\idsc\\data challenge janvier\\aneurysm_project\\4Students_AnXplore03\\AllFields_Resultats_MESH_197.xdmf\n",
      "\n"
     ]
    },
    {
     "name": "stderr",
     "output_type": "stream",
     "text": [
      " 63%|██████▎   | 65/103 [00:44<00:29,  1.31it/s]"
     ]
    },
    {
     "name": "stdout",
     "output_type": "stream",
     "text": [
      "Loaded 80 timesteps from c:\\Users\\alexi\\Documents\\mines\\S5\\idsc\\data challenge janvier\\aneurysm_project\\4Students_AnXplore03\\AllFields_Resultats_MESH_198-1.xdmf\n",
      "\n"
     ]
    },
    {
     "name": "stderr",
     "output_type": "stream",
     "text": [
      " 64%|██████▍   | 66/103 [00:45<00:29,  1.25it/s]"
     ]
    },
    {
     "name": "stdout",
     "output_type": "stream",
     "text": [
      "Loaded 80 timesteps from c:\\Users\\alexi\\Documents\\mines\\S5\\idsc\\data challenge janvier\\aneurysm_project\\4Students_AnXplore03\\AllFields_Resultats_MESH_198-2.xdmf\n",
      "\n"
     ]
    },
    {
     "name": "stderr",
     "output_type": "stream",
     "text": [
      " 65%|██████▌   | 67/103 [00:46<00:28,  1.25it/s]"
     ]
    },
    {
     "name": "stdout",
     "output_type": "stream",
     "text": [
      "Loaded 80 timesteps from c:\\Users\\alexi\\Documents\\mines\\S5\\idsc\\data challenge janvier\\aneurysm_project\\4Students_AnXplore03\\AllFields_Resultats_MESH_199.xdmf\n",
      "\n"
     ]
    },
    {
     "name": "stderr",
     "output_type": "stream",
     "text": [
      " 66%|██████▌   | 68/103 [00:47<00:29,  1.19it/s]"
     ]
    },
    {
     "name": "stdout",
     "output_type": "stream",
     "text": [
      "Loaded 80 timesteps from c:\\Users\\alexi\\Documents\\mines\\S5\\idsc\\data challenge janvier\\aneurysm_project\\4Students_AnXplore03\\AllFields_Resultats_MESH_2.xdmf\n",
      "\n"
     ]
    },
    {
     "name": "stderr",
     "output_type": "stream",
     "text": [
      " 67%|██████▋   | 69/103 [00:48<00:27,  1.22it/s]"
     ]
    },
    {
     "name": "stdout",
     "output_type": "stream",
     "text": [
      "Loaded 80 timesteps from c:\\Users\\alexi\\Documents\\mines\\S5\\idsc\\data challenge janvier\\aneurysm_project\\4Students_AnXplore03\\AllFields_Resultats_MESH_200.xdmf\n",
      "\n"
     ]
    },
    {
     "name": "stderr",
     "output_type": "stream",
     "text": [
      " 68%|██████▊   | 70/103 [00:49<00:27,  1.22it/s]"
     ]
    },
    {
     "name": "stdout",
     "output_type": "stream",
     "text": [
      "Loaded 80 timesteps from c:\\Users\\alexi\\Documents\\mines\\S5\\idsc\\data challenge janvier\\aneurysm_project\\4Students_AnXplore03\\AllFields_Resultats_MESH_202.xdmf\n",
      "\n"
     ]
    },
    {
     "name": "stderr",
     "output_type": "stream",
     "text": [
      " 69%|██████▉   | 71/103 [00:50<00:27,  1.18it/s]"
     ]
    },
    {
     "name": "stdout",
     "output_type": "stream",
     "text": [
      "Loaded 80 timesteps from c:\\Users\\alexi\\Documents\\mines\\S5\\idsc\\data challenge janvier\\aneurysm_project\\4Students_AnXplore03\\AllFields_Resultats_MESH_203.xdmf\n",
      "\n"
     ]
    },
    {
     "name": "stderr",
     "output_type": "stream",
     "text": [
      " 70%|██████▉   | 72/103 [00:50<00:25,  1.21it/s]"
     ]
    },
    {
     "name": "stdout",
     "output_type": "stream",
     "text": [
      "Loaded 80 timesteps from c:\\Users\\alexi\\Documents\\mines\\S5\\idsc\\data challenge janvier\\aneurysm_project\\4Students_AnXplore03\\AllFields_Resultats_MESH_204.xdmf\n",
      "\n"
     ]
    },
    {
     "name": "stderr",
     "output_type": "stream",
     "text": [
      " 71%|███████   | 73/103 [00:51<00:26,  1.12it/s]"
     ]
    },
    {
     "name": "stdout",
     "output_type": "stream",
     "text": [
      "Loaded 80 timesteps from c:\\Users\\alexi\\Documents\\mines\\S5\\idsc\\data challenge janvier\\aneurysm_project\\4Students_AnXplore03\\AllFields_Resultats_MESH_205.xdmf\n",
      "\n"
     ]
    },
    {
     "name": "stderr",
     "output_type": "stream",
     "text": [
      " 72%|███████▏  | 74/103 [00:52<00:24,  1.18it/s]"
     ]
    },
    {
     "name": "stdout",
     "output_type": "stream",
     "text": [
      "Loaded 80 timesteps from c:\\Users\\alexi\\Documents\\mines\\S5\\idsc\\data challenge janvier\\aneurysm_project\\4Students_AnXplore03\\AllFields_Resultats_MESH_206.xdmf\n",
      "\n"
     ]
    },
    {
     "name": "stderr",
     "output_type": "stream",
     "text": [
      " 73%|███████▎  | 75/103 [00:53<00:24,  1.17it/s]"
     ]
    },
    {
     "name": "stdout",
     "output_type": "stream",
     "text": [
      "Loaded 80 timesteps from c:\\Users\\alexi\\Documents\\mines\\S5\\idsc\\data challenge janvier\\aneurysm_project\\4Students_AnXplore03\\AllFields_Resultats_MESH_207.xdmf\n",
      "\n"
     ]
    },
    {
     "name": "stderr",
     "output_type": "stream",
     "text": [
      " 74%|███████▍  | 76/103 [00:54<00:22,  1.21it/s]"
     ]
    },
    {
     "name": "stdout",
     "output_type": "stream",
     "text": [
      "Loaded 80 timesteps from c:\\Users\\alexi\\Documents\\mines\\S5\\idsc\\data challenge janvier\\aneurysm_project\\4Students_AnXplore03\\AllFields_Resultats_MESH_208.xdmf\n",
      "\n"
     ]
    },
    {
     "name": "stderr",
     "output_type": "stream",
     "text": [
      " 75%|███████▍  | 77/103 [00:55<00:22,  1.16it/s]"
     ]
    },
    {
     "name": "stdout",
     "output_type": "stream",
     "text": [
      "Loaded 80 timesteps from c:\\Users\\alexi\\Documents\\mines\\S5\\idsc\\data challenge janvier\\aneurysm_project\\4Students_AnXplore03\\AllFields_Resultats_MESH_209.xdmf\n",
      "\n"
     ]
    },
    {
     "name": "stderr",
     "output_type": "stream",
     "text": [
      " 76%|███████▌  | 78/103 [00:56<00:21,  1.17it/s]"
     ]
    },
    {
     "name": "stdout",
     "output_type": "stream",
     "text": [
      "Loaded 80 timesteps from c:\\Users\\alexi\\Documents\\mines\\S5\\idsc\\data challenge janvier\\aneurysm_project\\4Students_AnXplore03\\AllFields_Resultats_MESH_210.xdmf\n",
      "\n"
     ]
    },
    {
     "name": "stderr",
     "output_type": "stream",
     "text": [
      " 77%|███████▋  | 79/103 [00:57<00:21,  1.11it/s]"
     ]
    },
    {
     "name": "stdout",
     "output_type": "stream",
     "text": [
      "Loaded 80 timesteps from c:\\Users\\alexi\\Documents\\mines\\S5\\idsc\\data challenge janvier\\aneurysm_project\\4Students_AnXplore03\\AllFields_Resultats_MESH_211.xdmf\n",
      "\n"
     ]
    },
    {
     "name": "stderr",
     "output_type": "stream",
     "text": [
      " 78%|███████▊  | 80/103 [00:57<00:19,  1.15it/s]"
     ]
    },
    {
     "name": "stdout",
     "output_type": "stream",
     "text": [
      "Loaded 80 timesteps from c:\\Users\\alexi\\Documents\\mines\\S5\\idsc\\data challenge janvier\\aneurysm_project\\4Students_AnXplore03\\AllFields_Resultats_MESH_212.xdmf\n",
      "\n"
     ]
    },
    {
     "name": "stderr",
     "output_type": "stream",
     "text": [
      " 79%|███████▊  | 81/103 [00:58<00:18,  1.22it/s]"
     ]
    },
    {
     "name": "stdout",
     "output_type": "stream",
     "text": [
      "Loaded 80 timesteps from c:\\Users\\alexi\\Documents\\mines\\S5\\idsc\\data challenge janvier\\aneurysm_project\\4Students_AnXplore03\\AllFields_Resultats_MESH_213.xdmf\n",
      "\n"
     ]
    },
    {
     "name": "stderr",
     "output_type": "stream",
     "text": [
      " 80%|███████▉  | 82/103 [00:59<00:16,  1.25it/s]"
     ]
    },
    {
     "name": "stdout",
     "output_type": "stream",
     "text": [
      "Loaded 80 timesteps from c:\\Users\\alexi\\Documents\\mines\\S5\\idsc\\data challenge janvier\\aneurysm_project\\4Students_AnXplore03\\AllFields_Resultats_MESH_214.xdmf\n",
      "\n"
     ]
    },
    {
     "name": "stderr",
     "output_type": "stream",
     "text": [
      " 81%|████████  | 83/103 [00:59<00:14,  1.34it/s]"
     ]
    },
    {
     "name": "stdout",
     "output_type": "stream",
     "text": [
      "Loaded 80 timesteps from c:\\Users\\alexi\\Documents\\mines\\S5\\idsc\\data challenge janvier\\aneurysm_project\\4Students_AnXplore03\\AllFields_Resultats_MESH_215.xdmf\n",
      "\n"
     ]
    },
    {
     "name": "stderr",
     "output_type": "stream",
     "text": [
      " 82%|████████▏ | 84/103 [01:00<00:13,  1.40it/s]"
     ]
    },
    {
     "name": "stdout",
     "output_type": "stream",
     "text": [
      "Loaded 80 timesteps from c:\\Users\\alexi\\Documents\\mines\\S5\\idsc\\data challenge janvier\\aneurysm_project\\4Students_AnXplore03\\AllFields_Resultats_MESH_217.xdmf\n",
      "\n"
     ]
    },
    {
     "name": "stderr",
     "output_type": "stream",
     "text": [
      " 83%|████████▎ | 85/103 [01:01<00:12,  1.42it/s]"
     ]
    },
    {
     "name": "stdout",
     "output_type": "stream",
     "text": [
      "Loaded 80 timesteps from c:\\Users\\alexi\\Documents\\mines\\S5\\idsc\\data challenge janvier\\aneurysm_project\\4Students_AnXplore03\\AllFields_Resultats_MESH_219.xdmf\n",
      "\n"
     ]
    },
    {
     "name": "stderr",
     "output_type": "stream",
     "text": [
      " 83%|████████▎ | 86/103 [01:01<00:11,  1.46it/s]"
     ]
    },
    {
     "name": "stdout",
     "output_type": "stream",
     "text": [
      "Loaded 80 timesteps from c:\\Users\\alexi\\Documents\\mines\\S5\\idsc\\data challenge janvier\\aneurysm_project\\4Students_AnXplore03\\AllFields_Resultats_MESH_23.xdmf\n",
      "\n"
     ]
    },
    {
     "name": "stderr",
     "output_type": "stream",
     "text": [
      " 84%|████████▍ | 87/103 [01:02<00:10,  1.46it/s]"
     ]
    },
    {
     "name": "stdout",
     "output_type": "stream",
     "text": [
      "Loaded 80 timesteps from c:\\Users\\alexi\\Documents\\mines\\S5\\idsc\\data challenge janvier\\aneurysm_project\\4Students_AnXplore03\\AllFields_Resultats_MESH_25.xdmf\n",
      "\n"
     ]
    },
    {
     "name": "stderr",
     "output_type": "stream",
     "text": [
      " 85%|████████▌ | 88/103 [01:03<00:10,  1.46it/s]"
     ]
    },
    {
     "name": "stdout",
     "output_type": "stream",
     "text": [
      "Loaded 80 timesteps from c:\\Users\\alexi\\Documents\\mines\\S5\\idsc\\data challenge janvier\\aneurysm_project\\4Students_AnXplore03\\AllFields_Resultats_MESH_26.xdmf\n",
      "\n"
     ]
    },
    {
     "name": "stderr",
     "output_type": "stream",
     "text": [
      " 86%|████████▋ | 89/103 [01:04<00:09,  1.46it/s]"
     ]
    },
    {
     "name": "stdout",
     "output_type": "stream",
     "text": [
      "Loaded 80 timesteps from c:\\Users\\alexi\\Documents\\mines\\S5\\idsc\\data challenge janvier\\aneurysm_project\\4Students_AnXplore03\\AllFields_Resultats_MESH_28.xdmf\n",
      "\n"
     ]
    },
    {
     "name": "stderr",
     "output_type": "stream",
     "text": [
      " 87%|████████▋ | 90/103 [01:04<00:08,  1.48it/s]"
     ]
    },
    {
     "name": "stdout",
     "output_type": "stream",
     "text": [
      "Loaded 80 timesteps from c:\\Users\\alexi\\Documents\\mines\\S5\\idsc\\data challenge janvier\\aneurysm_project\\4Students_AnXplore03\\AllFields_Resultats_MESH_3.xdmf\n",
      "\n"
     ]
    },
    {
     "name": "stderr",
     "output_type": "stream",
     "text": [
      " 88%|████████▊ | 91/103 [01:05<00:09,  1.29it/s]"
     ]
    },
    {
     "name": "stdout",
     "output_type": "stream",
     "text": [
      "Loaded 80 timesteps from c:\\Users\\alexi\\Documents\\mines\\S5\\idsc\\data challenge janvier\\aneurysm_project\\4Students_AnXplore03\\AllFields_Resultats_MESH_31.xdmf\n",
      "\n"
     ]
    },
    {
     "name": "stderr",
     "output_type": "stream",
     "text": [
      " 89%|████████▉ | 92/103 [01:06<00:08,  1.33it/s]"
     ]
    },
    {
     "name": "stdout",
     "output_type": "stream",
     "text": [
      "Loaded 80 timesteps from c:\\Users\\alexi\\Documents\\mines\\S5\\idsc\\data challenge janvier\\aneurysm_project\\4Students_AnXplore03\\AllFields_Resultats_MESH_34.xdmf\n",
      "\n"
     ]
    },
    {
     "name": "stderr",
     "output_type": "stream",
     "text": [
      " 90%|█████████ | 93/103 [01:07<00:07,  1.34it/s]"
     ]
    },
    {
     "name": "stdout",
     "output_type": "stream",
     "text": [
      "Loaded 80 timesteps from c:\\Users\\alexi\\Documents\\mines\\S5\\idsc\\data challenge janvier\\aneurysm_project\\4Students_AnXplore03\\AllFields_Resultats_MESH_40.xdmf\n",
      "\n"
     ]
    },
    {
     "name": "stderr",
     "output_type": "stream",
     "text": [
      " 91%|█████████▏| 94/103 [01:07<00:06,  1.38it/s]"
     ]
    },
    {
     "name": "stdout",
     "output_type": "stream",
     "text": [
      "Loaded 80 timesteps from c:\\Users\\alexi\\Documents\\mines\\S5\\idsc\\data challenge janvier\\aneurysm_project\\4Students_AnXplore03\\AllFields_Resultats_MESH_42-1.xdmf\n",
      "\n"
     ]
    },
    {
     "name": "stderr",
     "output_type": "stream",
     "text": [
      " 92%|█████████▏| 95/103 [01:08<00:05,  1.40it/s]"
     ]
    },
    {
     "name": "stdout",
     "output_type": "stream",
     "text": [
      "Loaded 80 timesteps from c:\\Users\\alexi\\Documents\\mines\\S5\\idsc\\data challenge janvier\\aneurysm_project\\4Students_AnXplore03\\AllFields_Resultats_MESH_42-2.xdmf\n",
      "\n"
     ]
    },
    {
     "name": "stderr",
     "output_type": "stream",
     "text": [
      " 93%|█████████▎| 96/103 [01:09<00:05,  1.30it/s]"
     ]
    },
    {
     "name": "stdout",
     "output_type": "stream",
     "text": [
      "Loaded 80 timesteps from c:\\Users\\alexi\\Documents\\mines\\S5\\idsc\\data challenge janvier\\aneurysm_project\\4Students_AnXplore03\\AllFields_Resultats_MESH_42-3.xdmf\n",
      "\n"
     ]
    },
    {
     "name": "stderr",
     "output_type": "stream",
     "text": [
      " 94%|█████████▍| 97/103 [01:10<00:04,  1.32it/s]"
     ]
    },
    {
     "name": "stdout",
     "output_type": "stream",
     "text": [
      "Loaded 80 timesteps from c:\\Users\\alexi\\Documents\\mines\\S5\\idsc\\data challenge janvier\\aneurysm_project\\4Students_AnXplore03\\AllFields_Resultats_MESH_44.xdmf\n",
      "\n"
     ]
    },
    {
     "name": "stderr",
     "output_type": "stream",
     "text": [
      " 95%|█████████▌| 98/103 [01:10<00:03,  1.41it/s]"
     ]
    },
    {
     "name": "stdout",
     "output_type": "stream",
     "text": [
      "Loaded 80 timesteps from c:\\Users\\alexi\\Documents\\mines\\S5\\idsc\\data challenge janvier\\aneurysm_project\\4Students_AnXplore03\\AllFields_Resultats_MESH_54-1.xdmf\n",
      "\n"
     ]
    },
    {
     "name": "stderr",
     "output_type": "stream",
     "text": [
      " 96%|█████████▌| 99/103 [01:11<00:02,  1.46it/s]"
     ]
    },
    {
     "name": "stdout",
     "output_type": "stream",
     "text": [
      "Loaded 80 timesteps from c:\\Users\\alexi\\Documents\\mines\\S5\\idsc\\data challenge janvier\\aneurysm_project\\4Students_AnXplore03\\AllFields_Resultats_MESH_54-2.xdmf\n",
      "\n"
     ]
    },
    {
     "name": "stderr",
     "output_type": "stream",
     "text": [
      " 97%|█████████▋| 100/103 [01:12<00:02,  1.44it/s]"
     ]
    },
    {
     "name": "stdout",
     "output_type": "stream",
     "text": [
      "Loaded 80 timesteps from c:\\Users\\alexi\\Documents\\mines\\S5\\idsc\\data challenge janvier\\aneurysm_project\\4Students_AnXplore03\\AllFields_Resultats_MESH_55.xdmf\n",
      "\n"
     ]
    },
    {
     "name": "stderr",
     "output_type": "stream",
     "text": [
      " 98%|█████████▊| 101/103 [01:12<00:01,  1.44it/s]"
     ]
    },
    {
     "name": "stdout",
     "output_type": "stream",
     "text": [
      "Loaded 80 timesteps from c:\\Users\\alexi\\Documents\\mines\\S5\\idsc\\data challenge janvier\\aneurysm_project\\4Students_AnXplore03\\AllFields_Resultats_MESH_6.xdmf\n",
      "\n"
     ]
    },
    {
     "name": "stderr",
     "output_type": "stream",
     "text": [
      " 99%|█████████▉| 102/103 [01:13<00:00,  1.43it/s]"
     ]
    },
    {
     "name": "stdout",
     "output_type": "stream",
     "text": [
      "Loaded 80 timesteps from c:\\Users\\alexi\\Documents\\mines\\S5\\idsc\\data challenge janvier\\aneurysm_project\\4Students_AnXplore03\\AllFields_Resultats_MESH_9-1.xdmf\n",
      "\n"
     ]
    },
    {
     "name": "stderr",
     "output_type": "stream",
     "text": [
      "100%|██████████| 103/103 [01:14<00:00,  1.39it/s]\n"
     ]
    }
   ],
   "source": [
    "data = build_data()"
   ]
  },
  {
   "cell_type": "code",
   "execution_count": 15,
   "metadata": {},
   "outputs": [
    {
     "data": {
      "text/plain": [
       "Data(x=[11446, 7], edge_index=[2, 110854], edge_attr=[110854, 3])"
      ]
     },
     "execution_count": 15,
     "metadata": {},
     "output_type": "execute_result"
    }
   ],
   "source": [
    "data['features'][0]"
   ]
  },
  {
   "cell_type": "code",
   "execution_count": 16,
   "metadata": {},
   "outputs": [
    {
     "data": {
      "text/plain": [
       "Data(x=[11446, 7], edge_index=[2, 110854], edge_attr=[110854, 3])"
      ]
     },
     "execution_count": 16,
     "metadata": {},
     "output_type": "execute_result"
    }
   ],
   "source": [
    "data['target'][0]"
   ]
  },
  {
   "cell_type": "code",
   "execution_count": 17,
   "metadata": {},
   "outputs": [
    {
     "data": {
      "text/plain": [
       "dict_keys(['features', 'target'])"
      ]
     },
     "execution_count": 17,
     "metadata": {},
     "output_type": "execute_result"
    }
   ],
   "source": [
    "data.keys()"
   ]
  },
  {
   "cell_type": "code",
   "execution_count": 18,
   "metadata": {},
   "outputs": [
    {
     "data": {
      "text/plain": [
       "8034"
      ]
     },
     "execution_count": 18,
     "metadata": {},
     "output_type": "execute_result"
    }
   ],
   "source": [
    "# get length of the data\n",
    "len(data['features'])"
   ]
  },
  {
   "cell_type": "markdown",
   "metadata": {},
   "source": [
    "# Message passing model"
   ]
  },
  {
   "cell_type": "code",
   "execution_count": 19,
   "metadata": {},
   "outputs": [],
   "source": [
    "import torch\n",
    "import torch.nn.functional as F\n",
    "from torch_geometric.data import Data, DataLoader\n",
    "from torch_geometric.nn import GCNConv\n",
    "import numpy as np\n",
    "\n",
    "class GNNPredictor(torch.nn.Module):\n",
    "    def __init__(self, input_dim=7, hidden_dim=64, output_dim=7):\n",
    "        super(GNNPredictor, self).__init__()\n",
    "        self.conv1 = GCNConv(input_dim, hidden_dim)\n",
    "        self.conv2 = GCNConv(hidden_dim, output_dim)\n",
    "\n",
    "    def forward(self, x, edge_index):\n",
    "        x = F.relu(self.conv1(x, edge_index))  # First GCN layer with ReLU\n",
    "        x = self.conv2(x, edge_index)         # Output layer\n",
    "        return x\n",
    "    \n",
    "def train(model, loader, optimizer, epochs=100):\n",
    "    model.train()\n",
    "    for epoch in tqdm.tqdm(range(epochs)):\n",
    "        total_loss = 0\n",
    "        for data_t_minus_1, data_t in loader:\n",
    "            optimizer.zero_grad()\n",
    "            predictions = model(data_t_minus_1.x, data_t_minus_1.edge_index)  # Predict x_t\n",
    "            loss = F.mse_loss(predictions, data_t.x)  # Compare with actual x_t\n",
    "            loss.backward()\n",
    "            optimizer.step()\n",
    "            total_loss += loss.item()\n",
    "        \n",
    "        if epoch % 10 == 0:\n",
    "            print(f\"Epoch {epoch} | Loss: {total_loss:.4f}\")\n"
   ]
  },
  {
   "cell_type": "code",
   "execution_count": 20,
   "metadata": {},
   "outputs": [
    {
     "name": "stderr",
     "output_type": "stream",
     "text": [
      "c:\\miniconda\\envs\\idsc_challenge_jan\\Lib\\site-packages\\torch_geometric\\deprecation.py:26: UserWarning: 'data.DataLoader' is deprecated, use 'loader.DataLoader' instead\n",
      "  warnings.warn(out)\n"
     ]
    }
   ],
   "source": [
    "dataset = [\n",
    "    (data['features'][i], data['target'][i])\n",
    "    for i in range(100) # use only the first 100 time steps\n",
    "    # for i in range(len(data['features']))\n",
    "]\n",
    "\n",
    "# Create a DataLoader with batch support\n",
    "batch_size = 16\n",
    "loader = DataLoader(dataset, batch_size=batch_size, shuffle=True)\n",
    "\n",
    "# Instantiate Model and Optimizer\n",
    "model = GNNPredictor()\n",
    "optimizer = torch.optim.Adam(model.parameters(), lr=0.01)"
   ]
  },
  {
   "cell_type": "code",
   "execution_count": null,
   "metadata": {},
   "outputs": [],
   "source": [
    "# Train the model\n",
    "train(model, loader, optimizer, epochs=100)\n",
    "\n",
    "# Save model\n",
    "torch.save(model.state_dict(), \"gnn_model.pth\")\n",
    "\n",
    "print(\"Training complete!\")"
   ]
  },
  {
   "cell_type": "markdown",
   "metadata": {},
   "source": [
    "# Test dataset"
   ]
  },
  {
   "cell_type": "code",
   "execution_count": 21,
   "metadata": {},
   "outputs": [],
   "source": [
    "def test_model(model, meshes):\n",
    "    # test the model on a sequence of meshes\n",
    "    # start from time t=2 and predict each step until the end\n",
    "    # use the previous time steps to predict the next one\n",
    "    # the final error is 1/T * sum_t sqrt(1/N * sum_n (x_t - x_t_pred)^2)\n",
    "\n",
    "    # create the ground truth data\n",
    "    edge_index, edge_attr = get_geometric_data(meshes[0])\n",
    "    x_list_truth = []\n",
    "    for time_step in range(len(meshes)):\n",
    "        node_features = np.hstack([\n",
    "            meshes[time_step].points,\n",
    "            meshes[time_step].point_data['Vitesse'],\n",
    "            meshes[time_step].point_data['Pression'].reshape(-1, 1)\n",
    "        ]) # Shape: (num_nodes, 7)\n",
    "        node_features = torch.tensor(node_features, dtype=torch.float)\n",
    "        x_list_truth.append(node_features)\n",
    "\n",
    "    graph_data = Data(x=x_list_truth[1], edge_index=edge_index, edge_attr=edge_attr)\n",
    "\n",
    "    # predict each time step\n",
    "    total_error = 0\n",
    "    list_errors = []\n",
    "    for i in range(2, len(meshes)):\n",
    "        x = model(graph_data.x, graph_data.edge_index)\n",
    "        error = F.mse_loss(x, x_list_truth[i])/len(meshes[0].points)\n",
    "        list_errors.append(error.item())\n",
    "        total_error += error.item()\n",
    "        graph_data = Data(x=x, edge_index=graph_data.edge_index, edge_attr=graph_data.edge_attr)\n",
    "    total_error /= len(meshes)\n",
    "    print(f\"Total error: {total_error:.4f}\")\n",
    "    return total_error, list_errors"
   ]
  },
  {
   "cell_type": "code",
   "execution_count": 22,
   "metadata": {},
   "outputs": [
    {
     "name": "stderr",
     "output_type": "stream",
     "text": [
      "C:\\Users\\alexi\\AppData\\Local\\Temp\\ipykernel_34068\\2510112034.py:3: FutureWarning: You are using `torch.load` with `weights_only=False` (the current default value), which uses the default pickle module implicitly. It is possible to construct malicious pickle data which will execute arbitrary code during unpickling (See https://github.com/pytorch/pytorch/blob/main/SECURITY.md#untrusted-models for more details). In a future release, the default value for `weights_only` will be flipped to `True`. This limits the functions that could be executed during unpickling. Arbitrary objects will no longer be allowed to be loaded via this mode unless they are explicitly allowlisted by the user via `torch.serialization.add_safe_globals`. We recommend you start setting `weights_only=True` for any use case where you don't have full control of the loaded file. Please open an issue on GitHub for any issues related to this experimental feature.\n",
      "  model.load_state_dict(torch.load(\"gnn_model.pth\"))\n"
     ]
    },
    {
     "name": "stdout",
     "output_type": "stream",
     "text": [
      "Loaded 80 timesteps from c:\\Users\\alexi\\Documents\\mines\\S5\\idsc\\data challenge janvier\\aneurysm_project\\4Students_AnXplore03\\AllFields_Resultats_MESH_219.xdmf\n",
      "\n",
      "Total error: 13395779721678692372447232.0000\n"
     ]
    }
   ],
   "source": [
    "# load model from gnn_model.pth file\n",
    "model = GNNPredictor()\n",
    "model.load_state_dict(torch.load(\"gnn_model.pth\"))\n",
    "xdmf_path = osp.join(os.getcwd(), \"4Students_AnXplore03\", \"AllFields_Resultats_MESH_219.xdmf\")\n",
    "meshes = xdmf_to_meshes(xdmf_path)\n",
    "total_error, list_errors = test_model(model, meshes)"
   ]
  },
  {
   "cell_type": "code",
   "execution_count": 23,
   "metadata": {},
   "outputs": [
    {
     "data": {
      "text/plain": [
       "[4.4992594718933105,\n",
       " 24.79535675048828,\n",
       " 62.088966369628906,\n",
       " 132.77098083496094,\n",
       " 213.34913635253906,\n",
       " 289.0500183105469,\n",
       " 314.8927001953125,\n",
       " 283.2749328613281,\n",
       " 226.212646484375,\n",
       " 181.05934143066406,\n",
       " 143.78428649902344,\n",
       " 131.27053833007812,\n",
       " 159.33602905273438,\n",
       " 269.5675964355469,\n",
       " 607.7508544921875,\n",
       " 1554.509033203125,\n",
       " 3927.156982421875,\n",
       " 8621.470703125,\n",
       " 14865.251953125,\n",
       " 23022.64453125,\n",
       " 37535.98828125,\n",
       " 47164.57421875,\n",
       " 57248.93359375,\n",
       " 80889.375,\n",
       " 145367.453125,\n",
       " 343176.0,\n",
       " 895540.625,\n",
       " 2347191.75,\n",
       " 6168359.0,\n",
       " 15862154.0,\n",
       " 39573356.0,\n",
       " 97524416.0,\n",
       " 240402016.0,\n",
       " 591133888.0,\n",
       " 1419810432.0,\n",
       " 3365115392.0,\n",
       " 8026119680.0,\n",
       " 19652182016.0,\n",
       " 48624332800.0,\n",
       " 116517412864.0,\n",
       " 279168090112.0,\n",
       " 683184553984.0,\n",
       " 1750261563392.0,\n",
       " 4520895053824.0,\n",
       " 11050859626496.0,\n",
       " 27068549038080.0,\n",
       " 68152406835200.0,\n",
       " 181180712353792.0,\n",
       " 480591707373568.0,\n",
       " 1185049256919040.0,\n",
       " 2943756626034688.0,\n",
       " 7594721950040064.0,\n",
       " 2.075090685735731e+16,\n",
       " 5.576251818167501e+16,\n",
       " 1.3820333739160371e+17,\n",
       " 3.4765296667879014e+17,\n",
       " 9.193311526390333e+17,\n",
       " 2.553699043515564e+18,\n",
       " 6.832613194872127e+18,\n",
       " 1.6943285068028183e+19,\n",
       " 4.3066775346404655e+19,\n",
       " 1.1683582080561709e+20,\n",
       " 3.271113942940569e+20,\n",
       " 8.563786798116603e+20,\n",
       " 2.1233433600387826e+21,\n",
       " 5.443132137383228e+21,\n",
       " 1.5083954645647996e+22,\n",
       " 4.232599122673178e+22,\n",
       " 1.0792353188716693e+23,\n",
       " 2.6814270051777348e+23,\n",
       " 6.908265303351566e+23,\n",
       " 1.933761949068619e+24,\n",
       " 5.418423241610451e+24,\n",
       " 1.3589233284991396e+25,\n",
       " 3.38443381974413e+25,\n",
       " 8.741517256207779e+25,\n",
       " 2.450161664876683e+26,\n",
       " 6.833120416108602e+26]"
      ]
     },
     "execution_count": 23,
     "metadata": {},
     "output_type": "execute_result"
    }
   ],
   "source": [
    "list_errors"
   ]
  },
  {
   "cell_type": "code",
   "execution_count": 7,
   "metadata": {},
   "outputs": [
    {
     "name": "stdout",
     "output_type": "stream",
     "text": [
      "25\n"
     ]
    },
    {
     "data": {
      "text/plain": [
       "Text(0.5, 1.0, 'MSE per time step')"
      ]
     },
     "execution_count": 7,
     "metadata": {},
     "output_type": "execute_result"
    },
    {
     "data": {
      "image/png": "[encoded data removed]",
      "text/plain": [
       "<Figure size 640x480 with 1 Axes>"
      ]
     },
     "metadata": {},
     "output_type": "display_data"
    }
   ],
   "source": [
    "errors = list_errors[:25]\n",
    "print(len(errors))\n",
    "plt.plot(errors)\n",
    "plt.xlabel(\"Time step\")\n",
    "plt.ylabel(\"MSE\")\n",
    "plt.title(\"MSE per time step\")"
   ]
  },
  {
   "cell_type": "code",
   "execution_count": null,
   "metadata": {},
   "outputs": [],
   "source": []
  }
 ],
 "metadata": {
  "kernelspec": {
   "display_name": "idsc_challenge_jan",
   "language": "python",
   "name": "python3"
  },
  "language_info": {
   "codemirror_mode": {
    "name": "ipython",
    "version": 3
   },
   "file_extension": ".py",
   "mimetype": "text/x-python",
   "name": "python",
   "nbconvert_exporter": "python",
   "pygments_lexer": "ipython3",
   "version": "3.12.8"
  }
 },
 "nbformat": 4,
 "nbformat_minor": 2
}
